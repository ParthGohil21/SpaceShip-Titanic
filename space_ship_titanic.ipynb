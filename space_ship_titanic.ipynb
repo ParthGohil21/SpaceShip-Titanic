{
  "cells": [
    {
      "cell_type": "markdown",
      "metadata": {
        "id": "view-in-github",
        "colab_type": "text"
      },
      "source": [
        "<a href=\"https://colab.research.google.com/github/ParthGohil21/SpaceShip-Titanic/blob/main/space_ship_titanic.ipynb\" target=\"_parent\"><img src=\"https://colab.research.google.com/assets/colab-badge.svg\" alt=\"Open In Colab\"/></a>"
      ]
    },
    {
      "cell_type": "markdown",
      "id": "a00f741c",
      "metadata": {
        "papermill": {
          "duration": 0.099202,
          "end_time": "2022-04-11T12:22:58.241614",
          "exception": false,
          "start_time": "2022-04-11T12:22:58.142412",
          "status": "completed"
        },
        "tags": [],
        "id": "a00f741c"
      },
      "source": [
        "# Importing Libraries and train dataset"
      ]
    },
    {
      "cell_type": "code",
      "execution_count": null,
      "id": "1a705ebe",
      "metadata": {
        "_cell_guid": "b1076dfc-b9ad-4769-8c92-a6c4dae69d19",
        "_uuid": "8f2839f25d086af736a60e9eeb907d3b93b6e0e5",
        "execution": {
          "iopub.execute_input": "2022-04-11T12:22:58.442154Z",
          "iopub.status.busy": "2022-04-11T12:22:58.441435Z",
          "iopub.status.idle": "2022-04-11T12:22:59.520121Z",
          "shell.execute_reply": "2022-04-11T12:22:59.519251Z",
          "shell.execute_reply.started": "2022-04-11T12:11:59.948774Z"
        },
        "papermill": {
          "duration": 1.183077,
          "end_time": "2022-04-11T12:22:59.520315",
          "exception": false,
          "start_time": "2022-04-11T12:22:58.337238",
          "status": "completed"
        },
        "tags": [],
        "id": "1a705ebe"
      },
      "outputs": [],
      "source": [
        "import numpy as np # linear algebra\n",
        "import pandas as pd # data processing, CSV file I/O (e.g. pd.read_csv)w\n",
        "import matplotlib.pyplot as plt #plotting \n",
        "import seaborn as sns # data visualization.join(dirname, filename))\n"
      ]
    },
    {
      "cell_type": "code",
      "execution_count": null,
      "id": "fec5d8b5",
      "metadata": {
        "execution": {
          "iopub.execute_input": "2022-04-11T12:22:59.704872Z",
          "iopub.status.busy": "2022-04-11T12:22:59.704184Z",
          "iopub.status.idle": "2022-04-11T12:22:59.767350Z",
          "shell.execute_reply": "2022-04-11T12:22:59.766771Z",
          "shell.execute_reply.started": "2022-04-11T12:11:59.955624Z"
        },
        "papermill": {
          "duration": 0.157342,
          "end_time": "2022-04-11T12:22:59.767494",
          "exception": false,
          "start_time": "2022-04-11T12:22:59.610152",
          "status": "completed"
        },
        "tags": [],
        "id": "fec5d8b5"
      },
      "outputs": [],
      "source": [
        "train_data=pd.read_csv(r'/content/train.csv')\n",
        "train=train_data.copy()"
      ]
    },
    {
      "cell_type": "markdown",
      "id": "e23366c7",
      "metadata": {
        "papermill": {
          "duration": 0.091913,
          "end_time": "2022-04-11T12:22:59.946754",
          "exception": false,
          "start_time": "2022-04-11T12:22:59.854841",
          "status": "completed"
        },
        "tags": [],
        "id": "e23366c7"
      },
      "source": [
        "## Data Description \n",
        "\n",
        "1. PassengerId - A unique Id for each passenger. Each Id takes the form gggg_pp where gggg indicates a group the passenger is travelling with and pp is their number within the group. People in a group are often family members, but not always.\n",
        "2. HomePlanet - The planet the passenger departed from, typically their planet of permanent residence.\n",
        "3. CryoSleep - Indicates whether the passenger elected to be put into suspended animation for the duration of the voyage. Passengers in cryosleep are confined to their cabins.\n",
        "4. Cabin - The cabin number where the passenger is staying. Takes the form deck/num/side, where side can be either P for Port or S for Starboard.\n",
        "5. Destination - The planet the passenger will be debarking to.\n",
        "6. Age - The age of the passenger.\n",
        "7. VIP - Whether the passenger has paid for special VIP service during the voyage.\n",
        "8. RoomService, FoodCourt, ShoppingMall, Spa, VRDeck - Amount the passenger has billed at each of the Spaceship Titanic's many luxury amenities.\n",
        "9. Name - The first and last names of the passenger.\n",
        "10. Transported - Whether the passenger was transported to another dimension. This is the target, the column you are trying to predict."
      ]
    },
    {
      "cell_type": "markdown",
      "id": "5a6bd1e4",
      "metadata": {
        "papermill": {
          "duration": 0.086433,
          "end_time": "2022-04-11T12:23:00.121263",
          "exception": false,
          "start_time": "2022-04-11T12:23:00.034830",
          "status": "completed"
        },
        "tags": [],
        "id": "5a6bd1e4"
      },
      "source": [
        "# EDA on train data"
      ]
    },
    {
      "cell_type": "code",
      "execution_count": null,
      "id": "c275a9ff",
      "metadata": {
        "execution": {
          "iopub.execute_input": "2022-04-11T12:23:00.302657Z",
          "iopub.status.busy": "2022-04-11T12:23:00.301857Z",
          "iopub.status.idle": "2022-04-11T12:23:00.305444Z",
          "shell.execute_reply": "2022-04-11T12:23:00.306055Z",
          "shell.execute_reply.started": "2022-04-11T12:11:59.992537Z"
        },
        "papermill": {
          "duration": 0.098426,
          "end_time": "2022-04-11T12:23:00.306232",
          "exception": false,
          "start_time": "2022-04-11T12:23:00.207806",
          "status": "completed"
        },
        "tags": [],
        "id": "c275a9ff",
        "outputId": "179211fc-93ec-4627-d100-2dea78c38dbb"
      },
      "outputs": [
        {
          "data": {
            "text/plain": [
              "(8693, 14)"
            ]
          },
          "execution_count": 3,
          "metadata": {},
          "output_type": "execute_result"
        }
      ],
      "source": [
        "# train data shap (it has 8693 raws and 14 columns)\n",
        "train.shape"
      ]
    },
    {
      "cell_type": "code",
      "execution_count": null,
      "id": "fff20470",
      "metadata": {
        "execution": {
          "iopub.execute_input": "2022-04-11T12:23:00.487783Z",
          "iopub.status.busy": "2022-04-11T12:23:00.483321Z",
          "iopub.status.idle": "2022-04-11T12:23:00.523604Z",
          "shell.execute_reply": "2022-04-11T12:23:00.524101Z",
          "shell.execute_reply.started": "2022-04-11T12:11:59.999343Z"
        },
        "papermill": {
          "duration": 0.130561,
          "end_time": "2022-04-11T12:23:00.524268",
          "exception": false,
          "start_time": "2022-04-11T12:23:00.393707",
          "status": "completed"
        },
        "tags": [],
        "id": "fff20470",
        "outputId": "98a3e95f-2a7e-4521-c2bb-28571c493d65"
      },
      "outputs": [
        {
          "data": {
            "text/html": [
              "<div>\n",
              "<style scoped>\n",
              "    .dataframe tbody tr th:only-of-type {\n",
              "        vertical-align: middle;\n",
              "    }\n",
              "\n",
              "    .dataframe tbody tr th {\n",
              "        vertical-align: top;\n",
              "    }\n",
              "\n",
              "    .dataframe thead th {\n",
              "        text-align: right;\n",
              "    }\n",
              "</style>\n",
              "<table border=\"1\" class=\"dataframe\">\n",
              "  <thead>\n",
              "    <tr style=\"text-align: right;\">\n",
              "      <th></th>\n",
              "      <th>PassengerId</th>\n",
              "      <th>HomePlanet</th>\n",
              "      <th>CryoSleep</th>\n",
              "      <th>Cabin</th>\n",
              "      <th>Destination</th>\n",
              "      <th>Age</th>\n",
              "      <th>VIP</th>\n",
              "      <th>RoomService</th>\n",
              "      <th>FoodCourt</th>\n",
              "      <th>ShoppingMall</th>\n",
              "      <th>Spa</th>\n",
              "      <th>VRDeck</th>\n",
              "      <th>Name</th>\n",
              "      <th>Transported</th>\n",
              "    </tr>\n",
              "  </thead>\n",
              "  <tbody>\n",
              "    <tr>\n",
              "      <th>0</th>\n",
              "      <td>0001_01</td>\n",
              "      <td>Europa</td>\n",
              "      <td>False</td>\n",
              "      <td>B/0/P</td>\n",
              "      <td>TRAPPIST-1e</td>\n",
              "      <td>39.0</td>\n",
              "      <td>False</td>\n",
              "      <td>0.0</td>\n",
              "      <td>0.0</td>\n",
              "      <td>0.0</td>\n",
              "      <td>0.0</td>\n",
              "      <td>0.0</td>\n",
              "      <td>Maham Ofracculy</td>\n",
              "      <td>False</td>\n",
              "    </tr>\n",
              "    <tr>\n",
              "      <th>1</th>\n",
              "      <td>0002_01</td>\n",
              "      <td>Earth</td>\n",
              "      <td>False</td>\n",
              "      <td>F/0/S</td>\n",
              "      <td>TRAPPIST-1e</td>\n",
              "      <td>24.0</td>\n",
              "      <td>False</td>\n",
              "      <td>109.0</td>\n",
              "      <td>9.0</td>\n",
              "      <td>25.0</td>\n",
              "      <td>549.0</td>\n",
              "      <td>44.0</td>\n",
              "      <td>Juanna Vines</td>\n",
              "      <td>True</td>\n",
              "    </tr>\n",
              "    <tr>\n",
              "      <th>2</th>\n",
              "      <td>0003_01</td>\n",
              "      <td>Europa</td>\n",
              "      <td>False</td>\n",
              "      <td>A/0/S</td>\n",
              "      <td>TRAPPIST-1e</td>\n",
              "      <td>58.0</td>\n",
              "      <td>True</td>\n",
              "      <td>43.0</td>\n",
              "      <td>3576.0</td>\n",
              "      <td>0.0</td>\n",
              "      <td>6715.0</td>\n",
              "      <td>49.0</td>\n",
              "      <td>Altark Susent</td>\n",
              "      <td>False</td>\n",
              "    </tr>\n",
              "    <tr>\n",
              "      <th>3</th>\n",
              "      <td>0003_02</td>\n",
              "      <td>Europa</td>\n",
              "      <td>False</td>\n",
              "      <td>A/0/S</td>\n",
              "      <td>TRAPPIST-1e</td>\n",
              "      <td>33.0</td>\n",
              "      <td>False</td>\n",
              "      <td>0.0</td>\n",
              "      <td>1283.0</td>\n",
              "      <td>371.0</td>\n",
              "      <td>3329.0</td>\n",
              "      <td>193.0</td>\n",
              "      <td>Solam Susent</td>\n",
              "      <td>False</td>\n",
              "    </tr>\n",
              "    <tr>\n",
              "      <th>4</th>\n",
              "      <td>0004_01</td>\n",
              "      <td>Earth</td>\n",
              "      <td>False</td>\n",
              "      <td>F/1/S</td>\n",
              "      <td>TRAPPIST-1e</td>\n",
              "      <td>16.0</td>\n",
              "      <td>False</td>\n",
              "      <td>303.0</td>\n",
              "      <td>70.0</td>\n",
              "      <td>151.0</td>\n",
              "      <td>565.0</td>\n",
              "      <td>2.0</td>\n",
              "      <td>Willy Santantines</td>\n",
              "      <td>True</td>\n",
              "    </tr>\n",
              "    <tr>\n",
              "      <th>5</th>\n",
              "      <td>0005_01</td>\n",
              "      <td>Earth</td>\n",
              "      <td>False</td>\n",
              "      <td>F/0/P</td>\n",
              "      <td>PSO J318.5-22</td>\n",
              "      <td>44.0</td>\n",
              "      <td>False</td>\n",
              "      <td>0.0</td>\n",
              "      <td>483.0</td>\n",
              "      <td>0.0</td>\n",
              "      <td>291.0</td>\n",
              "      <td>0.0</td>\n",
              "      <td>Sandie Hinetthews</td>\n",
              "      <td>True</td>\n",
              "    </tr>\n",
              "    <tr>\n",
              "      <th>6</th>\n",
              "      <td>0006_01</td>\n",
              "      <td>Earth</td>\n",
              "      <td>False</td>\n",
              "      <td>F/2/S</td>\n",
              "      <td>TRAPPIST-1e</td>\n",
              "      <td>26.0</td>\n",
              "      <td>False</td>\n",
              "      <td>42.0</td>\n",
              "      <td>1539.0</td>\n",
              "      <td>3.0</td>\n",
              "      <td>0.0</td>\n",
              "      <td>0.0</td>\n",
              "      <td>Billex Jacostaffey</td>\n",
              "      <td>True</td>\n",
              "    </tr>\n",
              "    <tr>\n",
              "      <th>7</th>\n",
              "      <td>0006_02</td>\n",
              "      <td>Earth</td>\n",
              "      <td>True</td>\n",
              "      <td>G/0/S</td>\n",
              "      <td>TRAPPIST-1e</td>\n",
              "      <td>28.0</td>\n",
              "      <td>False</td>\n",
              "      <td>0.0</td>\n",
              "      <td>0.0</td>\n",
              "      <td>0.0</td>\n",
              "      <td>0.0</td>\n",
              "      <td>NaN</td>\n",
              "      <td>Candra Jacostaffey</td>\n",
              "      <td>True</td>\n",
              "    </tr>\n",
              "    <tr>\n",
              "      <th>8</th>\n",
              "      <td>0007_01</td>\n",
              "      <td>Earth</td>\n",
              "      <td>False</td>\n",
              "      <td>F/3/S</td>\n",
              "      <td>TRAPPIST-1e</td>\n",
              "      <td>35.0</td>\n",
              "      <td>False</td>\n",
              "      <td>0.0</td>\n",
              "      <td>785.0</td>\n",
              "      <td>17.0</td>\n",
              "      <td>216.0</td>\n",
              "      <td>0.0</td>\n",
              "      <td>Andona Beston</td>\n",
              "      <td>True</td>\n",
              "    </tr>\n",
              "    <tr>\n",
              "      <th>9</th>\n",
              "      <td>0008_01</td>\n",
              "      <td>Europa</td>\n",
              "      <td>True</td>\n",
              "      <td>B/1/P</td>\n",
              "      <td>55 Cancri e</td>\n",
              "      <td>14.0</td>\n",
              "      <td>False</td>\n",
              "      <td>0.0</td>\n",
              "      <td>0.0</td>\n",
              "      <td>0.0</td>\n",
              "      <td>0.0</td>\n",
              "      <td>0.0</td>\n",
              "      <td>Erraiam Flatic</td>\n",
              "      <td>True</td>\n",
              "    </tr>\n",
              "    <tr>\n",
              "      <th>10</th>\n",
              "      <td>0008_02</td>\n",
              "      <td>Europa</td>\n",
              "      <td>True</td>\n",
              "      <td>B/1/P</td>\n",
              "      <td>TRAPPIST-1e</td>\n",
              "      <td>34.0</td>\n",
              "      <td>False</td>\n",
              "      <td>0.0</td>\n",
              "      <td>0.0</td>\n",
              "      <td>NaN</td>\n",
              "      <td>0.0</td>\n",
              "      <td>0.0</td>\n",
              "      <td>Altardr Flatic</td>\n",
              "      <td>True</td>\n",
              "    </tr>\n",
              "    <tr>\n",
              "      <th>11</th>\n",
              "      <td>0008_03</td>\n",
              "      <td>Europa</td>\n",
              "      <td>False</td>\n",
              "      <td>B/1/P</td>\n",
              "      <td>55 Cancri e</td>\n",
              "      <td>45.0</td>\n",
              "      <td>False</td>\n",
              "      <td>39.0</td>\n",
              "      <td>7295.0</td>\n",
              "      <td>589.0</td>\n",
              "      <td>110.0</td>\n",
              "      <td>124.0</td>\n",
              "      <td>Wezena Flatic</td>\n",
              "      <td>True</td>\n",
              "    </tr>\n",
              "    <tr>\n",
              "      <th>12</th>\n",
              "      <td>0009_01</td>\n",
              "      <td>Mars</td>\n",
              "      <td>False</td>\n",
              "      <td>F/1/P</td>\n",
              "      <td>TRAPPIST-1e</td>\n",
              "      <td>32.0</td>\n",
              "      <td>False</td>\n",
              "      <td>73.0</td>\n",
              "      <td>0.0</td>\n",
              "      <td>1123.0</td>\n",
              "      <td>0.0</td>\n",
              "      <td>113.0</td>\n",
              "      <td>Berers Barne</td>\n",
              "      <td>True</td>\n",
              "    </tr>\n",
              "    <tr>\n",
              "      <th>13</th>\n",
              "      <td>0010_01</td>\n",
              "      <td>Earth</td>\n",
              "      <td>False</td>\n",
              "      <td>G/1/S</td>\n",
              "      <td>TRAPPIST-1e</td>\n",
              "      <td>48.0</td>\n",
              "      <td>False</td>\n",
              "      <td>719.0</td>\n",
              "      <td>1.0</td>\n",
              "      <td>65.0</td>\n",
              "      <td>0.0</td>\n",
              "      <td>24.0</td>\n",
              "      <td>Reney Baketton</td>\n",
              "      <td>False</td>\n",
              "    </tr>\n",
              "    <tr>\n",
              "      <th>14</th>\n",
              "      <td>0011_01</td>\n",
              "      <td>Earth</td>\n",
              "      <td>False</td>\n",
              "      <td>F/2/P</td>\n",
              "      <td>TRAPPIST-1e</td>\n",
              "      <td>28.0</td>\n",
              "      <td>False</td>\n",
              "      <td>8.0</td>\n",
              "      <td>974.0</td>\n",
              "      <td>12.0</td>\n",
              "      <td>2.0</td>\n",
              "      <td>7.0</td>\n",
              "      <td>Elle Bertsontry</td>\n",
              "      <td>True</td>\n",
              "    </tr>\n",
              "    <tr>\n",
              "      <th>15</th>\n",
              "      <td>0012_01</td>\n",
              "      <td>Earth</td>\n",
              "      <td>False</td>\n",
              "      <td>NaN</td>\n",
              "      <td>TRAPPIST-1e</td>\n",
              "      <td>31.0</td>\n",
              "      <td>False</td>\n",
              "      <td>32.0</td>\n",
              "      <td>0.0</td>\n",
              "      <td>876.0</td>\n",
              "      <td>0.0</td>\n",
              "      <td>0.0</td>\n",
              "      <td>Justie Pooles</td>\n",
              "      <td>False</td>\n",
              "    </tr>\n",
              "    <tr>\n",
              "      <th>16</th>\n",
              "      <td>0014_01</td>\n",
              "      <td>Mars</td>\n",
              "      <td>False</td>\n",
              "      <td>F/3/P</td>\n",
              "      <td>55 Cancri e</td>\n",
              "      <td>27.0</td>\n",
              "      <td>False</td>\n",
              "      <td>1286.0</td>\n",
              "      <td>122.0</td>\n",
              "      <td>NaN</td>\n",
              "      <td>0.0</td>\n",
              "      <td>0.0</td>\n",
              "      <td>Flats Eccle</td>\n",
              "      <td>False</td>\n",
              "    </tr>\n",
              "    <tr>\n",
              "      <th>17</th>\n",
              "      <td>0015_01</td>\n",
              "      <td>Earth</td>\n",
              "      <td>False</td>\n",
              "      <td>F/4/P</td>\n",
              "      <td>55 Cancri e</td>\n",
              "      <td>24.0</td>\n",
              "      <td>False</td>\n",
              "      <td>0.0</td>\n",
              "      <td>1.0</td>\n",
              "      <td>0.0</td>\n",
              "      <td>0.0</td>\n",
              "      <td>637.0</td>\n",
              "      <td>Carry Hughriend</td>\n",
              "      <td>False</td>\n",
              "    </tr>\n",
              "    <tr>\n",
              "      <th>18</th>\n",
              "      <td>0016_01</td>\n",
              "      <td>Mars</td>\n",
              "      <td>True</td>\n",
              "      <td>F/5/P</td>\n",
              "      <td>TRAPPIST-1e</td>\n",
              "      <td>45.0</td>\n",
              "      <td>False</td>\n",
              "      <td>0.0</td>\n",
              "      <td>0.0</td>\n",
              "      <td>0.0</td>\n",
              "      <td>0.0</td>\n",
              "      <td>0.0</td>\n",
              "      <td>Alus Upead</td>\n",
              "      <td>True</td>\n",
              "    </tr>\n",
              "    <tr>\n",
              "      <th>19</th>\n",
              "      <td>0017_01</td>\n",
              "      <td>Earth</td>\n",
              "      <td>False</td>\n",
              "      <td>G/0/P</td>\n",
              "      <td>TRAPPIST-1e</td>\n",
              "      <td>0.0</td>\n",
              "      <td>False</td>\n",
              "      <td>0.0</td>\n",
              "      <td>0.0</td>\n",
              "      <td>0.0</td>\n",
              "      <td>0.0</td>\n",
              "      <td>0.0</td>\n",
              "      <td>Lyde Brighttt</td>\n",
              "      <td>True</td>\n",
              "    </tr>\n",
              "  </tbody>\n",
              "</table>\n",
              "</div>"
            ],
            "text/plain": [
              "   PassengerId HomePlanet CryoSleep  Cabin    Destination   Age    VIP  \\\n",
              "0      0001_01     Europa     False  B/0/P    TRAPPIST-1e  39.0  False   \n",
              "1      0002_01      Earth     False  F/0/S    TRAPPIST-1e  24.0  False   \n",
              "2      0003_01     Europa     False  A/0/S    TRAPPIST-1e  58.0   True   \n",
              "3      0003_02     Europa     False  A/0/S    TRAPPIST-1e  33.0  False   \n",
              "4      0004_01      Earth     False  F/1/S    TRAPPIST-1e  16.0  False   \n",
              "5      0005_01      Earth     False  F/0/P  PSO J318.5-22  44.0  False   \n",
              "6      0006_01      Earth     False  F/2/S    TRAPPIST-1e  26.0  False   \n",
              "7      0006_02      Earth      True  G/0/S    TRAPPIST-1e  28.0  False   \n",
              "8      0007_01      Earth     False  F/3/S    TRAPPIST-1e  35.0  False   \n",
              "9      0008_01     Europa      True  B/1/P    55 Cancri e  14.0  False   \n",
              "10     0008_02     Europa      True  B/1/P    TRAPPIST-1e  34.0  False   \n",
              "11     0008_03     Europa     False  B/1/P    55 Cancri e  45.0  False   \n",
              "12     0009_01       Mars     False  F/1/P    TRAPPIST-1e  32.0  False   \n",
              "13     0010_01      Earth     False  G/1/S    TRAPPIST-1e  48.0  False   \n",
              "14     0011_01      Earth     False  F/2/P    TRAPPIST-1e  28.0  False   \n",
              "15     0012_01      Earth     False    NaN    TRAPPIST-1e  31.0  False   \n",
              "16     0014_01       Mars     False  F/3/P    55 Cancri e  27.0  False   \n",
              "17     0015_01      Earth     False  F/4/P    55 Cancri e  24.0  False   \n",
              "18     0016_01       Mars      True  F/5/P    TRAPPIST-1e  45.0  False   \n",
              "19     0017_01      Earth     False  G/0/P    TRAPPIST-1e   0.0  False   \n",
              "\n",
              "    RoomService  FoodCourt  ShoppingMall     Spa  VRDeck                Name  \\\n",
              "0           0.0        0.0           0.0     0.0     0.0     Maham Ofracculy   \n",
              "1         109.0        9.0          25.0   549.0    44.0        Juanna Vines   \n",
              "2          43.0     3576.0           0.0  6715.0    49.0       Altark Susent   \n",
              "3           0.0     1283.0         371.0  3329.0   193.0        Solam Susent   \n",
              "4         303.0       70.0         151.0   565.0     2.0   Willy Santantines   \n",
              "5           0.0      483.0           0.0   291.0     0.0   Sandie Hinetthews   \n",
              "6          42.0     1539.0           3.0     0.0     0.0  Billex Jacostaffey   \n",
              "7           0.0        0.0           0.0     0.0     NaN  Candra Jacostaffey   \n",
              "8           0.0      785.0          17.0   216.0     0.0       Andona Beston   \n",
              "9           0.0        0.0           0.0     0.0     0.0      Erraiam Flatic   \n",
              "10          0.0        0.0           NaN     0.0     0.0      Altardr Flatic   \n",
              "11         39.0     7295.0         589.0   110.0   124.0       Wezena Flatic   \n",
              "12         73.0        0.0        1123.0     0.0   113.0        Berers Barne   \n",
              "13        719.0        1.0          65.0     0.0    24.0      Reney Baketton   \n",
              "14          8.0      974.0          12.0     2.0     7.0     Elle Bertsontry   \n",
              "15         32.0        0.0         876.0     0.0     0.0       Justie Pooles   \n",
              "16       1286.0      122.0           NaN     0.0     0.0         Flats Eccle   \n",
              "17          0.0        1.0           0.0     0.0   637.0     Carry Hughriend   \n",
              "18          0.0        0.0           0.0     0.0     0.0          Alus Upead   \n",
              "19          0.0        0.0           0.0     0.0     0.0       Lyde Brighttt   \n",
              "\n",
              "    Transported  \n",
              "0         False  \n",
              "1          True  \n",
              "2         False  \n",
              "3         False  \n",
              "4          True  \n",
              "5          True  \n",
              "6          True  \n",
              "7          True  \n",
              "8          True  \n",
              "9          True  \n",
              "10         True  \n",
              "11         True  \n",
              "12         True  \n",
              "13        False  \n",
              "14         True  \n",
              "15        False  \n",
              "16        False  \n",
              "17        False  \n",
              "18         True  \n",
              "19         True  "
            ]
          },
          "execution_count": 4,
          "metadata": {},
          "output_type": "execute_result"
        }
      ],
      "source": [
        "# viewing first 20 data samples\n",
        "train.head(20)"
      ]
    },
    {
      "cell_type": "code",
      "execution_count": null,
      "id": "5b5d0f0d",
      "metadata": {
        "execution": {
          "iopub.execute_input": "2022-04-11T12:23:00.706555Z",
          "iopub.status.busy": "2022-04-11T12:23:00.705625Z",
          "iopub.status.idle": "2022-04-11T12:23:00.739274Z",
          "shell.execute_reply": "2022-04-11T12:23:00.739821Z",
          "shell.execute_reply.started": "2022-04-11T12:12:00.034175Z"
        },
        "papermill": {
          "duration": 0.126235,
          "end_time": "2022-04-11T12:23:00.740031",
          "exception": false,
          "start_time": "2022-04-11T12:23:00.613796",
          "status": "completed"
        },
        "tags": [],
        "id": "5b5d0f0d",
        "outputId": "07994bc1-6db8-4c2e-904e-9a867b5f8275"
      },
      "outputs": [
        {
          "data": {
            "text/html": [
              "<div>\n",
              "<style scoped>\n",
              "    .dataframe tbody tr th:only-of-type {\n",
              "        vertical-align: middle;\n",
              "    }\n",
              "\n",
              "    .dataframe tbody tr th {\n",
              "        vertical-align: top;\n",
              "    }\n",
              "\n",
              "    .dataframe thead th {\n",
              "        text-align: right;\n",
              "    }\n",
              "</style>\n",
              "<table border=\"1\" class=\"dataframe\">\n",
              "  <thead>\n",
              "    <tr style=\"text-align: right;\">\n",
              "      <th></th>\n",
              "      <th>PassengerId</th>\n",
              "      <th>HomePlanet</th>\n",
              "      <th>CryoSleep</th>\n",
              "      <th>Cabin</th>\n",
              "      <th>Destination</th>\n",
              "      <th>Age</th>\n",
              "      <th>VIP</th>\n",
              "      <th>RoomService</th>\n",
              "      <th>FoodCourt</th>\n",
              "      <th>ShoppingMall</th>\n",
              "      <th>Spa</th>\n",
              "      <th>VRDeck</th>\n",
              "      <th>Name</th>\n",
              "      <th>Transported</th>\n",
              "    </tr>\n",
              "  </thead>\n",
              "  <tbody>\n",
              "    <tr>\n",
              "      <th>8673</th>\n",
              "      <td>9256_01</td>\n",
              "      <td>Earth</td>\n",
              "      <td>True</td>\n",
              "      <td>G/1494/S</td>\n",
              "      <td>TRAPPIST-1e</td>\n",
              "      <td>28.0</td>\n",
              "      <td>False</td>\n",
              "      <td>0.0</td>\n",
              "      <td>0.0</td>\n",
              "      <td>0.0</td>\n",
              "      <td>0.0</td>\n",
              "      <td>0.0</td>\n",
              "      <td>Darley Franton</td>\n",
              "      <td>True</td>\n",
              "    </tr>\n",
              "    <tr>\n",
              "      <th>8674</th>\n",
              "      <td>9257_01</td>\n",
              "      <td>NaN</td>\n",
              "      <td>False</td>\n",
              "      <td>F/1892/P</td>\n",
              "      <td>TRAPPIST-1e</td>\n",
              "      <td>13.0</td>\n",
              "      <td>False</td>\n",
              "      <td>39.0</td>\n",
              "      <td>0.0</td>\n",
              "      <td>1085.0</td>\n",
              "      <td>24.0</td>\n",
              "      <td>0.0</td>\n",
              "      <td>Ties Apple</td>\n",
              "      <td>False</td>\n",
              "    </tr>\n",
              "    <tr>\n",
              "      <th>8675</th>\n",
              "      <td>9259_01</td>\n",
              "      <td>Earth</td>\n",
              "      <td>NaN</td>\n",
              "      <td>F/1893/P</td>\n",
              "      <td>TRAPPIST-1e</td>\n",
              "      <td>44.0</td>\n",
              "      <td>False</td>\n",
              "      <td>1030.0</td>\n",
              "      <td>1015.0</td>\n",
              "      <td>0.0</td>\n",
              "      <td>11.0</td>\n",
              "      <td>NaN</td>\n",
              "      <td>Annah Gilleyons</td>\n",
              "      <td>True</td>\n",
              "    </tr>\n",
              "    <tr>\n",
              "      <th>8676</th>\n",
              "      <td>9261_01</td>\n",
              "      <td>Earth</td>\n",
              "      <td>True</td>\n",
              "      <td>G/1504/P</td>\n",
              "      <td>PSO J318.5-22</td>\n",
              "      <td>22.0</td>\n",
              "      <td>False</td>\n",
              "      <td>0.0</td>\n",
              "      <td>0.0</td>\n",
              "      <td>0.0</td>\n",
              "      <td>0.0</td>\n",
              "      <td>0.0</td>\n",
              "      <td>Therta Casentry</td>\n",
              "      <td>False</td>\n",
              "    </tr>\n",
              "    <tr>\n",
              "      <th>8677</th>\n",
              "      <td>9264_01</td>\n",
              "      <td>Europa</td>\n",
              "      <td>True</td>\n",
              "      <td>E/606/S</td>\n",
              "      <td>55 Cancri e</td>\n",
              "      <td>30.0</td>\n",
              "      <td>False</td>\n",
              "      <td>0.0</td>\n",
              "      <td>0.0</td>\n",
              "      <td>0.0</td>\n",
              "      <td>0.0</td>\n",
              "      <td>0.0</td>\n",
              "      <td>Giedir Sionerorly</td>\n",
              "      <td>True</td>\n",
              "    </tr>\n",
              "    <tr>\n",
              "      <th>8678</th>\n",
              "      <td>9267_01</td>\n",
              "      <td>Europa</td>\n",
              "      <td>True</td>\n",
              "      <td>E/607/S</td>\n",
              "      <td>TRAPPIST-1e</td>\n",
              "      <td>21.0</td>\n",
              "      <td>False</td>\n",
              "      <td>0.0</td>\n",
              "      <td>0.0</td>\n",
              "      <td>0.0</td>\n",
              "      <td>0.0</td>\n",
              "      <td>0.0</td>\n",
              "      <td>Arraid Opshaft</td>\n",
              "      <td>True</td>\n",
              "    </tr>\n",
              "    <tr>\n",
              "      <th>8679</th>\n",
              "      <td>9267_02</td>\n",
              "      <td>Europa</td>\n",
              "      <td>True</td>\n",
              "      <td>E/607/S</td>\n",
              "      <td>TRAPPIST-1e</td>\n",
              "      <td>20.0</td>\n",
              "      <td>False</td>\n",
              "      <td>0.0</td>\n",
              "      <td>0.0</td>\n",
              "      <td>0.0</td>\n",
              "      <td>0.0</td>\n",
              "      <td>0.0</td>\n",
              "      <td>Sabi Opshaft</td>\n",
              "      <td>True</td>\n",
              "    </tr>\n",
              "    <tr>\n",
              "      <th>8680</th>\n",
              "      <td>9268_01</td>\n",
              "      <td>Earth</td>\n",
              "      <td>True</td>\n",
              "      <td>G/1505/P</td>\n",
              "      <td>TRAPPIST-1e</td>\n",
              "      <td>31.0</td>\n",
              "      <td>False</td>\n",
              "      <td>0.0</td>\n",
              "      <td>0.0</td>\n",
              "      <td>0.0</td>\n",
              "      <td>0.0</td>\n",
              "      <td>0.0</td>\n",
              "      <td>Agnesa Baldson</td>\n",
              "      <td>True</td>\n",
              "    </tr>\n",
              "    <tr>\n",
              "      <th>8681</th>\n",
              "      <td>9270_01</td>\n",
              "      <td>Earth</td>\n",
              "      <td>True</td>\n",
              "      <td>G/1497/S</td>\n",
              "      <td>55 Cancri e</td>\n",
              "      <td>33.0</td>\n",
              "      <td>False</td>\n",
              "      <td>0.0</td>\n",
              "      <td>0.0</td>\n",
              "      <td>0.0</td>\n",
              "      <td>0.0</td>\n",
              "      <td>0.0</td>\n",
              "      <td>Lan Mckinsond</td>\n",
              "      <td>True</td>\n",
              "    </tr>\n",
              "    <tr>\n",
              "      <th>8682</th>\n",
              "      <td>9272_01</td>\n",
              "      <td>Earth</td>\n",
              "      <td>False</td>\n",
              "      <td>G/1507/P</td>\n",
              "      <td>TRAPPIST-1e</td>\n",
              "      <td>26.0</td>\n",
              "      <td>False</td>\n",
              "      <td>240.0</td>\n",
              "      <td>242.0</td>\n",
              "      <td>510.0</td>\n",
              "      <td>0.0</td>\n",
              "      <td>0.0</td>\n",
              "      <td>Ireene Simson</td>\n",
              "      <td>True</td>\n",
              "    </tr>\n",
              "    <tr>\n",
              "      <th>8683</th>\n",
              "      <td>9272_02</td>\n",
              "      <td>Earth</td>\n",
              "      <td>False</td>\n",
              "      <td>F/1894/P</td>\n",
              "      <td>TRAPPIST-1e</td>\n",
              "      <td>21.0</td>\n",
              "      <td>False</td>\n",
              "      <td>86.0</td>\n",
              "      <td>3.0</td>\n",
              "      <td>149.0</td>\n",
              "      <td>208.0</td>\n",
              "      <td>329.0</td>\n",
              "      <td>Gordo Simson</td>\n",
              "      <td>False</td>\n",
              "    </tr>\n",
              "    <tr>\n",
              "      <th>8684</th>\n",
              "      <td>9274_01</td>\n",
              "      <td>NaN</td>\n",
              "      <td>True</td>\n",
              "      <td>G/1508/P</td>\n",
              "      <td>TRAPPIST-1e</td>\n",
              "      <td>23.0</td>\n",
              "      <td>False</td>\n",
              "      <td>0.0</td>\n",
              "      <td>0.0</td>\n",
              "      <td>0.0</td>\n",
              "      <td>0.0</td>\n",
              "      <td>0.0</td>\n",
              "      <td>Chelsa Bullisey</td>\n",
              "      <td>True</td>\n",
              "    </tr>\n",
              "    <tr>\n",
              "      <th>8685</th>\n",
              "      <td>9275_01</td>\n",
              "      <td>Europa</td>\n",
              "      <td>False</td>\n",
              "      <td>A/97/P</td>\n",
              "      <td>TRAPPIST-1e</td>\n",
              "      <td>0.0</td>\n",
              "      <td>False</td>\n",
              "      <td>0.0</td>\n",
              "      <td>0.0</td>\n",
              "      <td>0.0</td>\n",
              "      <td>0.0</td>\n",
              "      <td>0.0</td>\n",
              "      <td>Polaton Conable</td>\n",
              "      <td>True</td>\n",
              "    </tr>\n",
              "    <tr>\n",
              "      <th>8686</th>\n",
              "      <td>9275_02</td>\n",
              "      <td>Europa</td>\n",
              "      <td>False</td>\n",
              "      <td>A/97/P</td>\n",
              "      <td>TRAPPIST-1e</td>\n",
              "      <td>32.0</td>\n",
              "      <td>False</td>\n",
              "      <td>1.0</td>\n",
              "      <td>1146.0</td>\n",
              "      <td>0.0</td>\n",
              "      <td>50.0</td>\n",
              "      <td>34.0</td>\n",
              "      <td>Diram Conable</td>\n",
              "      <td>False</td>\n",
              "    </tr>\n",
              "    <tr>\n",
              "      <th>8687</th>\n",
              "      <td>9275_03</td>\n",
              "      <td>Europa</td>\n",
              "      <td>NaN</td>\n",
              "      <td>A/97/P</td>\n",
              "      <td>TRAPPIST-1e</td>\n",
              "      <td>30.0</td>\n",
              "      <td>False</td>\n",
              "      <td>0.0</td>\n",
              "      <td>3208.0</td>\n",
              "      <td>0.0</td>\n",
              "      <td>2.0</td>\n",
              "      <td>330.0</td>\n",
              "      <td>Atlasym Conable</td>\n",
              "      <td>True</td>\n",
              "    </tr>\n",
              "    <tr>\n",
              "      <th>8688</th>\n",
              "      <td>9276_01</td>\n",
              "      <td>Europa</td>\n",
              "      <td>False</td>\n",
              "      <td>A/98/P</td>\n",
              "      <td>55 Cancri e</td>\n",
              "      <td>41.0</td>\n",
              "      <td>True</td>\n",
              "      <td>0.0</td>\n",
              "      <td>6819.0</td>\n",
              "      <td>0.0</td>\n",
              "      <td>1643.0</td>\n",
              "      <td>74.0</td>\n",
              "      <td>Gravior Noxnuther</td>\n",
              "      <td>False</td>\n",
              "    </tr>\n",
              "    <tr>\n",
              "      <th>8689</th>\n",
              "      <td>9278_01</td>\n",
              "      <td>Earth</td>\n",
              "      <td>True</td>\n",
              "      <td>G/1499/S</td>\n",
              "      <td>PSO J318.5-22</td>\n",
              "      <td>18.0</td>\n",
              "      <td>False</td>\n",
              "      <td>0.0</td>\n",
              "      <td>0.0</td>\n",
              "      <td>0.0</td>\n",
              "      <td>0.0</td>\n",
              "      <td>0.0</td>\n",
              "      <td>Kurta Mondalley</td>\n",
              "      <td>False</td>\n",
              "    </tr>\n",
              "    <tr>\n",
              "      <th>8690</th>\n",
              "      <td>9279_01</td>\n",
              "      <td>Earth</td>\n",
              "      <td>False</td>\n",
              "      <td>G/1500/S</td>\n",
              "      <td>TRAPPIST-1e</td>\n",
              "      <td>26.0</td>\n",
              "      <td>False</td>\n",
              "      <td>0.0</td>\n",
              "      <td>0.0</td>\n",
              "      <td>1872.0</td>\n",
              "      <td>1.0</td>\n",
              "      <td>0.0</td>\n",
              "      <td>Fayey Connon</td>\n",
              "      <td>True</td>\n",
              "    </tr>\n",
              "    <tr>\n",
              "      <th>8691</th>\n",
              "      <td>9280_01</td>\n",
              "      <td>Europa</td>\n",
              "      <td>False</td>\n",
              "      <td>E/608/S</td>\n",
              "      <td>55 Cancri e</td>\n",
              "      <td>32.0</td>\n",
              "      <td>False</td>\n",
              "      <td>0.0</td>\n",
              "      <td>1049.0</td>\n",
              "      <td>0.0</td>\n",
              "      <td>353.0</td>\n",
              "      <td>3235.0</td>\n",
              "      <td>Celeon Hontichre</td>\n",
              "      <td>False</td>\n",
              "    </tr>\n",
              "    <tr>\n",
              "      <th>8692</th>\n",
              "      <td>9280_02</td>\n",
              "      <td>Europa</td>\n",
              "      <td>False</td>\n",
              "      <td>E/608/S</td>\n",
              "      <td>TRAPPIST-1e</td>\n",
              "      <td>44.0</td>\n",
              "      <td>False</td>\n",
              "      <td>126.0</td>\n",
              "      <td>4688.0</td>\n",
              "      <td>0.0</td>\n",
              "      <td>0.0</td>\n",
              "      <td>12.0</td>\n",
              "      <td>Propsh Hontichre</td>\n",
              "      <td>True</td>\n",
              "    </tr>\n",
              "  </tbody>\n",
              "</table>\n",
              "</div>"
            ],
            "text/plain": [
              "     PassengerId HomePlanet CryoSleep     Cabin    Destination   Age    VIP  \\\n",
              "8673     9256_01      Earth      True  G/1494/S    TRAPPIST-1e  28.0  False   \n",
              "8674     9257_01        NaN     False  F/1892/P    TRAPPIST-1e  13.0  False   \n",
              "8675     9259_01      Earth       NaN  F/1893/P    TRAPPIST-1e  44.0  False   \n",
              "8676     9261_01      Earth      True  G/1504/P  PSO J318.5-22  22.0  False   \n",
              "8677     9264_01     Europa      True   E/606/S    55 Cancri e  30.0  False   \n",
              "8678     9267_01     Europa      True   E/607/S    TRAPPIST-1e  21.0  False   \n",
              "8679     9267_02     Europa      True   E/607/S    TRAPPIST-1e  20.0  False   \n",
              "8680     9268_01      Earth      True  G/1505/P    TRAPPIST-1e  31.0  False   \n",
              "8681     9270_01      Earth      True  G/1497/S    55 Cancri e  33.0  False   \n",
              "8682     9272_01      Earth     False  G/1507/P    TRAPPIST-1e  26.0  False   \n",
              "8683     9272_02      Earth     False  F/1894/P    TRAPPIST-1e  21.0  False   \n",
              "8684     9274_01        NaN      True  G/1508/P    TRAPPIST-1e  23.0  False   \n",
              "8685     9275_01     Europa     False    A/97/P    TRAPPIST-1e   0.0  False   \n",
              "8686     9275_02     Europa     False    A/97/P    TRAPPIST-1e  32.0  False   \n",
              "8687     9275_03     Europa       NaN    A/97/P    TRAPPIST-1e  30.0  False   \n",
              "8688     9276_01     Europa     False    A/98/P    55 Cancri e  41.0   True   \n",
              "8689     9278_01      Earth      True  G/1499/S  PSO J318.5-22  18.0  False   \n",
              "8690     9279_01      Earth     False  G/1500/S    TRAPPIST-1e  26.0  False   \n",
              "8691     9280_01     Europa     False   E/608/S    55 Cancri e  32.0  False   \n",
              "8692     9280_02     Europa     False   E/608/S    TRAPPIST-1e  44.0  False   \n",
              "\n",
              "      RoomService  FoodCourt  ShoppingMall     Spa  VRDeck               Name  \\\n",
              "8673          0.0        0.0           0.0     0.0     0.0     Darley Franton   \n",
              "8674         39.0        0.0        1085.0    24.0     0.0         Ties Apple   \n",
              "8675       1030.0     1015.0           0.0    11.0     NaN    Annah Gilleyons   \n",
              "8676          0.0        0.0           0.0     0.0     0.0    Therta Casentry   \n",
              "8677          0.0        0.0           0.0     0.0     0.0  Giedir Sionerorly   \n",
              "8678          0.0        0.0           0.0     0.0     0.0     Arraid Opshaft   \n",
              "8679          0.0        0.0           0.0     0.0     0.0       Sabi Opshaft   \n",
              "8680          0.0        0.0           0.0     0.0     0.0     Agnesa Baldson   \n",
              "8681          0.0        0.0           0.0     0.0     0.0      Lan Mckinsond   \n",
              "8682        240.0      242.0         510.0     0.0     0.0      Ireene Simson   \n",
              "8683         86.0        3.0         149.0   208.0   329.0       Gordo Simson   \n",
              "8684          0.0        0.0           0.0     0.0     0.0    Chelsa Bullisey   \n",
              "8685          0.0        0.0           0.0     0.0     0.0    Polaton Conable   \n",
              "8686          1.0     1146.0           0.0    50.0    34.0      Diram Conable   \n",
              "8687          0.0     3208.0           0.0     2.0   330.0    Atlasym Conable   \n",
              "8688          0.0     6819.0           0.0  1643.0    74.0  Gravior Noxnuther   \n",
              "8689          0.0        0.0           0.0     0.0     0.0    Kurta Mondalley   \n",
              "8690          0.0        0.0        1872.0     1.0     0.0       Fayey Connon   \n",
              "8691          0.0     1049.0           0.0   353.0  3235.0   Celeon Hontichre   \n",
              "8692        126.0     4688.0           0.0     0.0    12.0   Propsh Hontichre   \n",
              "\n",
              "      Transported  \n",
              "8673         True  \n",
              "8674        False  \n",
              "8675         True  \n",
              "8676        False  \n",
              "8677         True  \n",
              "8678         True  \n",
              "8679         True  \n",
              "8680         True  \n",
              "8681         True  \n",
              "8682         True  \n",
              "8683        False  \n",
              "8684         True  \n",
              "8685         True  \n",
              "8686        False  \n",
              "8687         True  \n",
              "8688        False  \n",
              "8689        False  \n",
              "8690         True  \n",
              "8691        False  \n",
              "8692         True  "
            ]
          },
          "execution_count": 5,
          "metadata": {},
          "output_type": "execute_result"
        }
      ],
      "source": [
        "# last 20 data samples \n",
        "train.tail(20)"
      ]
    },
    {
      "cell_type": "code",
      "execution_count": null,
      "id": "7789f573",
      "metadata": {
        "execution": {
          "iopub.execute_input": "2022-04-11T12:23:00.945928Z",
          "iopub.status.busy": "2022-04-11T12:23:00.945138Z",
          "iopub.status.idle": "2022-04-11T12:23:00.981491Z",
          "shell.execute_reply": "2022-04-11T12:23:00.982139Z",
          "shell.execute_reply.started": "2022-04-11T12:12:00.068719Z"
        },
        "papermill": {
          "duration": 0.145299,
          "end_time": "2022-04-11T12:23:00.982341",
          "exception": false,
          "start_time": "2022-04-11T12:23:00.837042",
          "status": "completed"
        },
        "tags": [],
        "id": "7789f573",
        "outputId": "e22f8c75-1f7f-4031-ff11-32bfcefe6f30"
      },
      "outputs": [
        {
          "data": {
            "text/html": [
              "<div>\n",
              "<style scoped>\n",
              "    .dataframe tbody tr th:only-of-type {\n",
              "        vertical-align: middle;\n",
              "    }\n",
              "\n",
              "    .dataframe tbody tr th {\n",
              "        vertical-align: top;\n",
              "    }\n",
              "\n",
              "    .dataframe thead th {\n",
              "        text-align: right;\n",
              "    }\n",
              "</style>\n",
              "<table border=\"1\" class=\"dataframe\">\n",
              "  <thead>\n",
              "    <tr style=\"text-align: right;\">\n",
              "      <th></th>\n",
              "      <th>count</th>\n",
              "      <th>mean</th>\n",
              "      <th>std</th>\n",
              "      <th>min</th>\n",
              "      <th>25%</th>\n",
              "      <th>50%</th>\n",
              "      <th>75%</th>\n",
              "      <th>max</th>\n",
              "    </tr>\n",
              "  </thead>\n",
              "  <tbody>\n",
              "    <tr>\n",
              "      <th>Age</th>\n",
              "      <td>8514.0</td>\n",
              "      <td>28.827930</td>\n",
              "      <td>14.489021</td>\n",
              "      <td>0.0</td>\n",
              "      <td>19.0</td>\n",
              "      <td>27.0</td>\n",
              "      <td>38.0</td>\n",
              "      <td>79.0</td>\n",
              "    </tr>\n",
              "    <tr>\n",
              "      <th>RoomService</th>\n",
              "      <td>8512.0</td>\n",
              "      <td>224.687617</td>\n",
              "      <td>666.717663</td>\n",
              "      <td>0.0</td>\n",
              "      <td>0.0</td>\n",
              "      <td>0.0</td>\n",
              "      <td>47.0</td>\n",
              "      <td>14327.0</td>\n",
              "    </tr>\n",
              "    <tr>\n",
              "      <th>FoodCourt</th>\n",
              "      <td>8510.0</td>\n",
              "      <td>458.077203</td>\n",
              "      <td>1611.489240</td>\n",
              "      <td>0.0</td>\n",
              "      <td>0.0</td>\n",
              "      <td>0.0</td>\n",
              "      <td>76.0</td>\n",
              "      <td>29813.0</td>\n",
              "    </tr>\n",
              "    <tr>\n",
              "      <th>ShoppingMall</th>\n",
              "      <td>8485.0</td>\n",
              "      <td>173.729169</td>\n",
              "      <td>604.696458</td>\n",
              "      <td>0.0</td>\n",
              "      <td>0.0</td>\n",
              "      <td>0.0</td>\n",
              "      <td>27.0</td>\n",
              "      <td>23492.0</td>\n",
              "    </tr>\n",
              "    <tr>\n",
              "      <th>Spa</th>\n",
              "      <td>8510.0</td>\n",
              "      <td>311.138778</td>\n",
              "      <td>1136.705535</td>\n",
              "      <td>0.0</td>\n",
              "      <td>0.0</td>\n",
              "      <td>0.0</td>\n",
              "      <td>59.0</td>\n",
              "      <td>22408.0</td>\n",
              "    </tr>\n",
              "    <tr>\n",
              "      <th>VRDeck</th>\n",
              "      <td>8505.0</td>\n",
              "      <td>304.854791</td>\n",
              "      <td>1145.717189</td>\n",
              "      <td>0.0</td>\n",
              "      <td>0.0</td>\n",
              "      <td>0.0</td>\n",
              "      <td>46.0</td>\n",
              "      <td>24133.0</td>\n",
              "    </tr>\n",
              "  </tbody>\n",
              "</table>\n",
              "</div>"
            ],
            "text/plain": [
              "               count        mean          std  min   25%   50%   75%      max\n",
              "Age           8514.0   28.827930    14.489021  0.0  19.0  27.0  38.0     79.0\n",
              "RoomService   8512.0  224.687617   666.717663  0.0   0.0   0.0  47.0  14327.0\n",
              "FoodCourt     8510.0  458.077203  1611.489240  0.0   0.0   0.0  76.0  29813.0\n",
              "ShoppingMall  8485.0  173.729169   604.696458  0.0   0.0   0.0  27.0  23492.0\n",
              "Spa           8510.0  311.138778  1136.705535  0.0   0.0   0.0  59.0  22408.0\n",
              "VRDeck        8505.0  304.854791  1145.717189  0.0   0.0   0.0  46.0  24133.0"
            ]
          },
          "execution_count": 6,
          "metadata": {},
          "output_type": "execute_result"
        }
      ],
      "source": [
        "# with desribe function you can get all statistical information about your numeric data \n",
        "train.describe().T"
      ]
    },
    {
      "cell_type": "code",
      "execution_count": null,
      "id": "0df352c4",
      "metadata": {
        "execution": {
          "iopub.execute_input": "2022-04-11T12:23:01.171084Z",
          "iopub.status.busy": "2022-04-11T12:23:01.170407Z",
          "iopub.status.idle": "2022-04-11T12:23:01.197207Z",
          "shell.execute_reply": "2022-04-11T12:23:01.198009Z",
          "shell.execute_reply.started": "2022-04-11T12:12:00.101404Z"
        },
        "papermill": {
          "duration": 0.122066,
          "end_time": "2022-04-11T12:23:01.198474",
          "exception": false,
          "start_time": "2022-04-11T12:23:01.076408",
          "status": "completed"
        },
        "tags": [],
        "id": "0df352c4",
        "outputId": "2ea08583-3112-4963-d7d8-6ab9513001b7"
      },
      "outputs": [
        {
          "name": "stdout",
          "output_type": "stream",
          "text": [
            "<class 'pandas.core.frame.DataFrame'>\n",
            "RangeIndex: 8693 entries, 0 to 8692\n",
            "Data columns (total 14 columns):\n",
            " #   Column        Non-Null Count  Dtype  \n",
            "---  ------        --------------  -----  \n",
            " 0   PassengerId   8693 non-null   object \n",
            " 1   HomePlanet    8492 non-null   object \n",
            " 2   CryoSleep     8476 non-null   object \n",
            " 3   Cabin         8494 non-null   object \n",
            " 4   Destination   8511 non-null   object \n",
            " 5   Age           8514 non-null   float64\n",
            " 6   VIP           8490 non-null   object \n",
            " 7   RoomService   8512 non-null   float64\n",
            " 8   FoodCourt     8510 non-null   float64\n",
            " 9   ShoppingMall  8485 non-null   float64\n",
            " 10  Spa           8510 non-null   float64\n",
            " 11  VRDeck        8505 non-null   float64\n",
            " 12  Name          8493 non-null   object \n",
            " 13  Transported   8693 non-null   bool   \n",
            "dtypes: bool(1), float64(6), object(7)\n",
            "memory usage: 891.5+ KB\n"
          ]
        }
      ],
      "source": [
        "# calling info() on dataset will provide all standard information about your dataset\n",
        "train.info()"
      ]
    },
    {
      "cell_type": "markdown",
      "id": "51ed84c0",
      "metadata": {
        "papermill": {
          "duration": 0.092609,
          "end_time": "2022-04-11T12:23:01.389876",
          "exception": false,
          "start_time": "2022-04-11T12:23:01.297267",
          "status": "completed"
        },
        "tags": [],
        "id": "51ed84c0"
      },
      "source": [
        "- there are total 8693 raws and in info() where it is less than 8693 it means the difference is missing value for that particular feature in raws\n",
        "- Dtype will give you data type of feature \n"
      ]
    },
    {
      "cell_type": "code",
      "execution_count": null,
      "id": "fdf9f6a6",
      "metadata": {
        "execution": {
          "iopub.execute_input": "2022-04-11T12:23:01.587646Z",
          "iopub.status.busy": "2022-04-11T12:23:01.586565Z",
          "iopub.status.idle": "2022-04-11T12:23:01.612987Z",
          "shell.execute_reply": "2022-04-11T12:23:01.612430Z",
          "shell.execute_reply.started": "2022-04-11T12:12:00.119514Z"
        },
        "papermill": {
          "duration": 0.128744,
          "end_time": "2022-04-11T12:23:01.613171",
          "exception": false,
          "start_time": "2022-04-11T12:23:01.484427",
          "status": "completed"
        },
        "tags": [],
        "id": "fdf9f6a6",
        "outputId": "ea9eb1b8-68ad-483d-b918-eb7198e8711c"
      },
      "outputs": [
        {
          "data": {
            "text/plain": [
              "PassengerId     8693\n",
              "HomePlanet         3\n",
              "CryoSleep          2\n",
              "Cabin           6560\n",
              "Destination        3\n",
              "Age               80\n",
              "VIP                2\n",
              "RoomService     1273\n",
              "FoodCourt       1507\n",
              "ShoppingMall    1115\n",
              "Spa             1327\n",
              "VRDeck          1306\n",
              "Name            8473\n",
              "Transported        2\n",
              "dtype: int64"
            ]
          },
          "execution_count": 8,
          "metadata": {},
          "output_type": "execute_result"
        }
      ],
      "source": [
        "# unique() will give you idea of how many unique values are in particular feature\n",
        "train.nunique()"
      ]
    },
    {
      "cell_type": "code",
      "execution_count": null,
      "id": "9eb7a644",
      "metadata": {
        "execution": {
          "iopub.execute_input": "2022-04-11T12:23:01.803874Z",
          "iopub.status.busy": "2022-04-11T12:23:01.803162Z",
          "iopub.status.idle": "2022-04-11T12:23:01.820479Z",
          "shell.execute_reply": "2022-04-11T12:23:01.819792Z",
          "shell.execute_reply.started": "2022-04-11T12:12:00.135860Z"
        },
        "papermill": {
          "duration": 0.11354,
          "end_time": "2022-04-11T12:23:01.820689",
          "exception": false,
          "start_time": "2022-04-11T12:23:01.707149",
          "status": "completed"
        },
        "tags": [],
        "id": "9eb7a644",
        "outputId": "8101e564-ae93-4499-dcdd-a750360caa69"
      },
      "outputs": [
        {
          "data": {
            "text/plain": [
              "PassengerId       0\n",
              "HomePlanet      201\n",
              "CryoSleep       217\n",
              "Cabin           199\n",
              "Destination     182\n",
              "Age             179\n",
              "VIP             203\n",
              "RoomService     181\n",
              "FoodCourt       183\n",
              "ShoppingMall    208\n",
              "Spa             183\n",
              "VRDeck          188\n",
              "Name            200\n",
              "Transported       0\n",
              "dtype: int64"
            ]
          },
          "execution_count": 9,
          "metadata": {},
          "output_type": "execute_result"
        }
      ],
      "source": [
        "# this will show you how many total missing values are in features \n",
        "train.isna().sum()"
      ]
    },
    {
      "cell_type": "markdown",
      "id": "2043e4c0",
      "metadata": {
        "papermill": {
          "duration": 0.094863,
          "end_time": "2022-04-11T12:23:02.010438",
          "exception": false,
          "start_time": "2022-04-11T12:23:01.915575",
          "status": "completed"
        },
        "tags": [],
        "id": "2043e4c0"
      },
      "source": [
        "## Data Visualization "
      ]
    },
    {
      "cell_type": "markdown",
      "id": "48e8f42d",
      "metadata": {
        "papermill": {
          "duration": 0.093246,
          "end_time": "2022-04-11T12:23:02.197860",
          "exception": false,
          "start_time": "2022-04-11T12:23:02.104614",
          "status": "completed"
        },
        "tags": [],
        "id": "48e8f42d"
      },
      "source": [
        "- We use seaborn here to plot Countplot and histogram here\n",
        "- As name suggest countplot will plot count per category in feature when we are working with law cardinality features it is great to visualize them using countplot\n",
        "\n",
        "- histogram is more used for looking at the distibution of feature\n",
        "\n",
        "- Low cardinality features means feature which has few category like our target variable here which has only two category\n",
        "- High cardinality feature means feature which has high number of category like our Name feature in this dataset which has 8473 different values"
      ]
    },
    {
      "cell_type": "code",
      "execution_count": null,
      "id": "4f26d9f4",
      "metadata": {
        "execution": {
          "iopub.execute_input": "2022-04-11T12:23:02.419418Z",
          "iopub.status.busy": "2022-04-11T12:23:02.418473Z",
          "iopub.status.idle": "2022-04-11T12:23:02.648811Z",
          "shell.execute_reply": "2022-04-11T12:23:02.650082Z",
          "shell.execute_reply.started": "2022-04-11T12:12:00.147285Z"
        },
        "papermill": {
          "duration": 0.354882,
          "end_time": "2022-04-11T12:23:02.650409",
          "exception": false,
          "start_time": "2022-04-11T12:23:02.295527",
          "status": "completed"
        },
        "tags": [],
        "id": "4f26d9f4",
        "outputId": "21176f77-1460-487d-e22a-05382f5fc943"
      },
      "outputs": [
        {
          "data": {
            "text/plain": [
              "<AxesSubplot:xlabel='count', ylabel='Transported'>"
            ]
          },
          "execution_count": 10,
          "metadata": {},
          "output_type": "execute_result"
        },
        {
          "data": {
            "image/png": "[encoded data removed]",
            "text/plain": [
              "<Figure size 432x288 with 1 Axes>"
            ]
          },
          "metadata": {
            "needs_background": "light"
          },
          "output_type": "display_data"
        }
      ],
      "source": [
        "# Transported is our target variable\n",
        "sns.countplot(y=train.Transported)"
      ]
    },
    {
      "cell_type": "markdown",
      "id": "051fad0d",
      "metadata": {
        "papermill": {
          "duration": 0.102676,
          "end_time": "2022-04-11T12:23:02.877002",
          "exception": false,
          "start_time": "2022-04-11T12:23:02.774326",
          "status": "completed"
        },
        "tags": [],
        "id": "051fad0d"
      },
      "source": [
        "- In this dataset our target variable is perfectly balanced but in most of datasets it is not balanced \n",
        "- We will work with more unbalanced dataset from tomorrow so don't worry about how to handle them now\n"
      ]
    },
    {
      "cell_type": "code",
      "execution_count": null,
      "id": "821ee2de",
      "metadata": {
        "execution": {
          "iopub.execute_input": "2022-04-11T12:23:03.106175Z",
          "iopub.status.busy": "2022-04-11T12:23:03.105026Z",
          "iopub.status.idle": "2022-04-11T12:23:03.271951Z",
          "shell.execute_reply": "2022-04-11T12:23:03.272942Z",
          "shell.execute_reply.started": "2022-04-11T12:12:00.308309Z"
        },
        "papermill": {
          "duration": 0.290012,
          "end_time": "2022-04-11T12:23:03.273259",
          "exception": false,
          "start_time": "2022-04-11T12:23:02.983247",
          "status": "completed"
        },
        "tags": [],
        "id": "821ee2de",
        "outputId": "c19ca7d3-f2a1-4318-d09c-42795d1180af"
      },
      "outputs": [
        {
          "data": {
            "text/plain": [
              "<AxesSubplot:xlabel='count', ylabel='HomePlanet'>"
            ]
          },
          "execution_count": 11,
          "metadata": {},
          "output_type": "execute_result"
        },
        {
          "data": {
            "image/png": "[encoded data removed]",
            "text/plain": [
              "<Figure size 432x288 with 1 Axes>"
            ]
          },
          "metadata": {
            "needs_background": "light"
          },
          "output_type": "display_data"
        }
      ],
      "source": [
        "sns.countplot(y=train.HomePlanet)"
      ]
    },
    {
      "cell_type": "markdown",
      "id": "41ba8184",
      "metadata": {
        "papermill": {
          "duration": 0.104289,
          "end_time": "2022-04-11T12:23:03.480640",
          "exception": false,
          "start_time": "2022-04-11T12:23:03.376351",
          "status": "completed"
        },
        "tags": [],
        "id": "41ba8184"
      },
      "source": [
        "- Earthings rules the universe 😎\n"
      ]
    },
    {
      "cell_type": "code",
      "execution_count": null,
      "id": "3508cc77",
      "metadata": {
        "execution": {
          "iopub.execute_input": "2022-04-11T12:23:03.716567Z",
          "iopub.status.busy": "2022-04-11T12:23:03.715812Z",
          "iopub.status.idle": "2022-04-11T12:23:03.832115Z",
          "shell.execute_reply": "2022-04-11T12:23:03.833112Z",
          "shell.execute_reply.started": "2022-04-11T12:12:00.488915Z"
        },
        "papermill": {
          "duration": 0.250763,
          "end_time": "2022-04-11T12:23:03.833466",
          "exception": false,
          "start_time": "2022-04-11T12:23:03.582703",
          "status": "completed"
        },
        "tags": [],
        "id": "3508cc77",
        "outputId": "9c4b2bf2-2bef-485d-9645-cfafbbb673a5"
      },
      "outputs": [
        {
          "data": {
            "text/plain": [
              "<AxesSubplot:xlabel='count', ylabel='CryoSleep'>"
            ]
          },
          "execution_count": 12,
          "metadata": {},
          "output_type": "execute_result"
        },
        {
          "data": {
            "image/png": "[encoded data removed]",
            "text/plain": [
              "<Figure size 432x288 with 1 Axes>"
            ]
          },
          "metadata": {
            "needs_background": "light"
          },
          "output_type": "display_data"
        }
      ],
      "source": [
        "sns.countplot(y=train.CryoSleep)"
      ]
    },
    {
      "cell_type": "markdown",
      "id": "9d4c6935",
      "metadata": {
        "papermill": {
          "duration": 0.101088,
          "end_time": "2022-04-11T12:23:04.054642",
          "exception": false,
          "start_time": "2022-04-11T12:23:03.953554",
          "status": "completed"
        },
        "tags": [],
        "id": "9d4c6935"
      },
      "source": [
        "- There are almost 3000 people who like to be in animation while travelling\n",
        "- Looks like many people like metaverse might just hit off 🙂\n"
      ]
    },
    {
      "cell_type": "code",
      "execution_count": null,
      "id": "f172e047",
      "metadata": {
        "execution": {
          "iopub.execute_input": "2022-04-11T12:23:04.269920Z",
          "iopub.status.busy": "2022-04-11T12:23:04.254809Z",
          "iopub.status.idle": "2022-04-11T12:23:04.473679Z",
          "shell.execute_reply": "2022-04-11T12:23:04.473129Z",
          "shell.execute_reply.started": "2022-04-11T12:12:00.679206Z"
        },
        "papermill": {
          "duration": 0.322592,
          "end_time": "2022-04-11T12:23:04.473828",
          "exception": false,
          "start_time": "2022-04-11T12:23:04.151236",
          "status": "completed"
        },
        "tags": [],
        "id": "f172e047",
        "outputId": "aafda003-e691-49b2-aae9-0ada33ef5369"
      },
      "outputs": [
        {
          "data": {
            "text/plain": [
              "<AxesSubplot:xlabel='count', ylabel='Destination'>"
            ]
          },
          "execution_count": 13,
          "metadata": {},
          "output_type": "execute_result"
        },
        {
          "data": {
            "image/png": "[encoded data removed]",
            "text/plain": [
              "<Figure size 432x288 with 1 Axes>"
            ]
          },
          "metadata": {
            "needs_background": "light"
          },
          "output_type": "display_data"
        }
      ],
      "source": [
        "sns.countplot(y=train.Destination)"
      ]
    },
    {
      "cell_type": "markdown",
      "id": "3f65d05f",
      "metadata": {
        "papermill": {
          "duration": 0.100854,
          "end_time": "2022-04-11T12:23:04.674312",
          "exception": false,
          "start_time": "2022-04-11T12:23:04.573458",
          "status": "completed"
        },
        "tags": [],
        "id": "3f65d05f"
      },
      "source": [
        "- I have never been to these places man !! Looks like passwords though or Elon's son 😂\n"
      ]
    },
    {
      "cell_type": "code",
      "execution_count": null,
      "id": "6c8a782f",
      "metadata": {
        "execution": {
          "iopub.execute_input": "2022-04-11T12:23:04.883356Z",
          "iopub.status.busy": "2022-04-11T12:23:04.882681Z",
          "iopub.status.idle": "2022-04-11T12:23:05.102167Z",
          "shell.execute_reply": "2022-04-11T12:23:05.102851Z",
          "shell.execute_reply.started": "2022-04-11T12:12:00.863959Z"
        },
        "papermill": {
          "duration": 0.326212,
          "end_time": "2022-04-11T12:23:05.103098",
          "exception": false,
          "start_time": "2022-04-11T12:23:04.776886",
          "status": "completed"
        },
        "tags": [],
        "id": "6c8a782f",
        "outputId": "51136ce2-aee2-4310-e6ea-be57e4131f0a"
      },
      "outputs": [
        {
          "data": {
            "text/plain": [
              "<AxesSubplot:xlabel='count', ylabel='VIP'>"
            ]
          },
          "execution_count": 14,
          "metadata": {},
          "output_type": "execute_result"
        },
        {
          "data": {
            "image/png": "[encoded data removed]",
            "text/plain": [
              "<Figure size 432x288 with 1 Axes>"
            ]
          },
          "metadata": {
            "needs_background": "light"
          },
          "output_type": "display_data"
        }
      ],
      "source": [
        "sns.countplot(y=train.VIP)"
      ]
    },
    {
      "cell_type": "markdown",
      "id": "3dbd50b1",
      "metadata": {
        "papermill": {
          "duration": 0.105675,
          "end_time": "2022-04-11T12:23:05.316562",
          "exception": false,
          "start_time": "2022-04-11T12:23:05.210887",
          "status": "completed"
        },
        "tags": [],
        "id": "3dbd50b1"
      },
      "source": [
        "- Very few VIP people as always 🥲"
      ]
    },
    {
      "cell_type": "code",
      "execution_count": null,
      "id": "3bf080c9",
      "metadata": {
        "execution": {
          "iopub.execute_input": "2022-04-11T12:23:05.529971Z",
          "iopub.status.busy": "2022-04-11T12:23:05.529270Z",
          "iopub.status.idle": "2022-04-11T12:23:05.899978Z",
          "shell.execute_reply": "2022-04-11T12:23:05.900615Z",
          "shell.execute_reply.started": "2022-04-11T12:12:01.061456Z"
        },
        "papermill": {
          "duration": 0.482428,
          "end_time": "2022-04-11T12:23:05.900804",
          "exception": false,
          "start_time": "2022-04-11T12:23:05.418376",
          "status": "completed"
        },
        "tags": [],
        "id": "3bf080c9",
        "outputId": "8ae598e0-3e75-4c2e-8527-d39d738e076b"
      },
      "outputs": [
        {
          "data": {
            "text/plain": [
              "<AxesSubplot:xlabel='Age', ylabel='Count'>"
            ]
          },
          "execution_count": 15,
          "metadata": {},
          "output_type": "execute_result"
        },
        {
          "data": {
            "image/png": "[encoded data removed]",
            "text/plain": [
              "<Figure size 432x288 with 1 Axes>"
            ]
          },
          "metadata": {
            "needs_background": "light"
          },
          "output_type": "display_data"
        }
      ],
      "source": [
        "sns.histplot(x=train.Age,kde=True)"
      ]
    },
    {
      "cell_type": "markdown",
      "id": "2879e4d6",
      "metadata": {
        "papermill": {
          "duration": 0.105989,
          "end_time": "2022-04-11T12:23:06.117514",
          "exception": false,
          "start_time": "2022-04-11T12:23:06.011525",
          "status": "completed"
        },
        "tags": [],
        "id": "2879e4d6"
      },
      "source": [
        "- Looks like our distibution for Age class isn't bad "
      ]
    },
    {
      "cell_type": "code",
      "execution_count": null,
      "id": "9065a404",
      "metadata": {
        "execution": {
          "iopub.execute_input": "2022-04-11T12:23:06.321625Z",
          "iopub.status.busy": "2022-04-11T12:23:06.320898Z",
          "iopub.status.idle": "2022-04-11T12:23:06.945642Z",
          "shell.execute_reply": "2022-04-11T12:23:06.946199Z",
          "shell.execute_reply.started": "2022-04-11T12:12:01.386875Z"
        },
        "papermill": {
          "duration": 0.728583,
          "end_time": "2022-04-11T12:23:06.946406",
          "exception": false,
          "start_time": "2022-04-11T12:23:06.217823",
          "status": "completed"
        },
        "tags": [],
        "id": "9065a404",
        "outputId": "3a5730b7-ef03-4df8-cbda-987b15ae893c"
      },
      "outputs": [
        {
          "data": {
            "text/plain": [
              "<AxesSubplot:>"
            ]
          },
          "execution_count": 16,
          "metadata": {},
          "output_type": "execute_result"
        },
        {
          "data": {
            "image/png": "[encoded data removed]",
            "text/plain": [
              "<Figure size 864x648 with 2 Axes>"
            ]
          },
          "metadata": {
            "needs_background": "light"
          },
          "output_type": "display_data"
        }
      ],
      "source": [
        "# Now time to check correlation\n",
        "corr=train.corr()\n",
        "plt.figure(figsize=(12,9))\n",
        "sns.heatmap(corr,annot=True)"
      ]
    },
    {
      "cell_type": "markdown",
      "id": "9afa723a",
      "metadata": {
        "papermill": {
          "duration": 0.104659,
          "end_time": "2022-04-11T12:23:07.162209",
          "exception": false,
          "start_time": "2022-04-11T12:23:07.057550",
          "status": "completed"
        },
        "tags": [],
        "id": "9afa723a"
      },
      "source": [
        "- Correlation == Relationship between different variables. Yepp that's what you need to know about correlation that it shows relation between variable. Generally it is between 1 to 1. 1 meaning high relation and -1 meaning negative realtion and 0 meaning no relation"
      ]
    },
    {
      "cell_type": "markdown",
      "id": "b7a068c9",
      "metadata": {
        "papermill": {
          "duration": 0.101682,
          "end_time": "2022-04-11T12:23:07.366483",
          "exception": false,
          "start_time": "2022-04-11T12:23:07.264801",
          "status": "completed"
        },
        "tags": [],
        "id": "b7a068c9"
      },
      "source": [
        "### Time to look in Cabin"
      ]
    },
    {
      "cell_type": "code",
      "execution_count": null,
      "id": "5525ee38",
      "metadata": {
        "execution": {
          "iopub.execute_input": "2022-04-11T12:23:07.576509Z",
          "iopub.status.busy": "2022-04-11T12:23:07.575835Z",
          "iopub.status.idle": "2022-04-11T12:23:07.584742Z",
          "shell.execute_reply": "2022-04-11T12:23:07.585252Z",
          "shell.execute_reply.started": "2022-04-11T12:12:01.922777Z"
        },
        "papermill": {
          "duration": 0.115714,
          "end_time": "2022-04-11T12:23:07.585424",
          "exception": false,
          "start_time": "2022-04-11T12:23:07.469710",
          "status": "completed"
        },
        "tags": [],
        "id": "5525ee38",
        "outputId": "83e3b4e6-d5ec-46ea-da83-908abc9c3efd"
      },
      "outputs": [
        {
          "data": {
            "text/plain": [
              "6560"
            ]
          },
          "execution_count": 17,
          "metadata": {},
          "output_type": "execute_result"
        }
      ],
      "source": [
        "train.Cabin.nunique()"
      ]
    },
    {
      "cell_type": "markdown",
      "id": "0bd19689",
      "metadata": {
        "papermill": {
          "duration": 0.114989,
          "end_time": "2022-04-11T12:23:07.805304",
          "exception": false,
          "start_time": "2022-04-11T12:23:07.690315",
          "status": "completed"
        },
        "tags": [],
        "id": "0bd19689"
      },
      "source": [
        "- Cabin is categorical feature with having 6560 different values in it. If we try to encode it with OneHotEncoding it will be disaster for our model since it will add 6560 columns in our dataset after encoding this columns\n",
        "\n",
        "- This is what one hot encoding looks like\n",
        "![image.png](attachment:c1af3905-9fc6-4631-ae57-4a375d61ddf0.png)\n",
        "\n",
        "- For better understanding of Categorical Encoding I suggest go [here](https://www.kaggle.com/code/alexisbcook/categorical-variables/tutorial) It will only take 5-10 minutes to go through it.\n"
      ]
    },
    {
      "cell_type": "code",
      "execution_count": null,
      "id": "019da47a",
      "metadata": {
        "execution": {
          "iopub.execute_input": "2022-04-11T12:23:08.034380Z",
          "iopub.status.busy": "2022-04-11T12:23:08.033708Z",
          "iopub.status.idle": "2022-04-11T12:23:08.044166Z",
          "shell.execute_reply": "2022-04-11T12:23:08.044667Z",
          "shell.execute_reply.started": "2022-04-11T12:12:01.930992Z"
        },
        "papermill": {
          "duration": 0.118064,
          "end_time": "2022-04-11T12:23:08.044855",
          "exception": false,
          "start_time": "2022-04-11T12:23:07.926791",
          "status": "completed"
        },
        "tags": [],
        "id": "019da47a"
      },
      "outputs": [],
      "source": [
        "# let's fill our Cabin column with mode(most frequent) first to precess further.\n",
        "train.Cabin=train.Cabin.fillna(train.Cabin.mode()[0])"
      ]
    },
    {
      "cell_type": "code",
      "execution_count": null,
      "id": "adafb3e1",
      "metadata": {
        "execution": {
          "iopub.execute_input": "2022-04-11T12:23:08.256011Z",
          "iopub.status.busy": "2022-04-11T12:23:08.255052Z",
          "iopub.status.idle": "2022-04-11T12:23:08.262413Z",
          "shell.execute_reply": "2022-04-11T12:23:08.263034Z",
          "shell.execute_reply.started": "2022-04-11T12:12:01.944415Z"
        },
        "papermill": {
          "duration": 0.114448,
          "end_time": "2022-04-11T12:23:08.263210",
          "exception": false,
          "start_time": "2022-04-11T12:23:08.148762",
          "status": "completed"
        },
        "tags": [],
        "id": "adafb3e1",
        "outputId": "849d3150-826e-40ca-8c09-0c0e825e88d1"
      },
      "outputs": [
        {
          "data": {
            "text/plain": [
              "0"
            ]
          },
          "execution_count": 19,
          "metadata": {},
          "output_type": "execute_result"
        }
      ],
      "source": [
        "# Voila there are no missing values in Cabin any more 😁\n",
        "train.Cabin.isna().sum()\n"
      ]
    },
    {
      "cell_type": "code",
      "execution_count": null,
      "id": "280c5ed9",
      "metadata": {
        "execution": {
          "iopub.execute_input": "2022-04-11T12:23:08.474469Z",
          "iopub.status.busy": "2022-04-11T12:23:08.473679Z",
          "iopub.status.idle": "2022-04-11T12:23:08.480184Z",
          "shell.execute_reply": "2022-04-11T12:23:08.480767Z",
          "shell.execute_reply.started": "2022-04-11T12:12:01.960026Z"
        },
        "papermill": {
          "duration": 0.114048,
          "end_time": "2022-04-11T12:23:08.480983",
          "exception": false,
          "start_time": "2022-04-11T12:23:08.366935",
          "status": "completed"
        },
        "tags": [],
        "id": "280c5ed9",
        "outputId": "1d5f5bee-f600-4de4-a360-dbe51b18f74a"
      },
      "outputs": [
        {
          "data": {
            "text/plain": [
              "0          B/0/P\n",
              "1          F/0/S\n",
              "2          A/0/S\n",
              "3          A/0/S\n",
              "4          F/1/S\n",
              "          ...   \n",
              "8688      A/98/P\n",
              "8689    G/1499/S\n",
              "8690    G/1500/S\n",
              "8691     E/608/S\n",
              "8692     E/608/S\n",
              "Name: Cabin, Length: 8693, dtype: object"
            ]
          },
          "execution_count": 20,
          "metadata": {},
          "output_type": "execute_result"
        }
      ],
      "source": [
        "# let's look at Cabin column only now\n",
        "train.Cabin"
      ]
    },
    {
      "cell_type": "markdown",
      "id": "9d058065",
      "metadata": {
        "papermill": {
          "duration": 0.115524,
          "end_time": "2022-04-11T12:23:08.714578",
          "exception": false,
          "start_time": "2022-04-11T12:23:08.599054",
          "status": "completed"
        },
        "tags": [],
        "id": "9d058065"
      },
      "source": [
        "- If you have read Data Description which I know you did you will know that ''Cabin Takes the form deck/num/side''\n",
        "\n",
        "- So for example in B/0/P; B= deck, 0=num and P=side"
      ]
    },
    {
      "cell_type": "code",
      "execution_count": null,
      "id": "bc6cbb9f",
      "metadata": {
        "execution": {
          "iopub.execute_input": "2022-04-11T12:23:08.941850Z",
          "iopub.status.busy": "2022-04-11T12:23:08.940977Z",
          "iopub.status.idle": "2022-04-11T12:23:08.951095Z",
          "shell.execute_reply": "2022-04-11T12:23:08.951675Z",
          "shell.execute_reply.started": "2022-04-11T12:12:01.973290Z"
        },
        "papermill": {
          "duration": 0.124136,
          "end_time": "2022-04-11T12:23:08.951911",
          "exception": false,
          "start_time": "2022-04-11T12:23:08.827775",
          "status": "completed"
        },
        "tags": [],
        "id": "bc6cbb9f",
        "outputId": "d542c76a-2043-4641-8eff-a202bddcff49"
      },
      "outputs": [
        {
          "data": {
            "text/plain": [
              "0       P\n",
              "1       S\n",
              "2       S\n",
              "3       S\n",
              "4       S\n",
              "       ..\n",
              "8688    P\n",
              "8689    S\n",
              "8690    S\n",
              "8691    S\n",
              "8692    S\n",
              "Name: Cabin Side, Length: 8693, dtype: object"
            ]
          },
          "execution_count": 21,
          "metadata": {},
          "output_type": "execute_result"
        }
      ],
      "source": [
        "train['Cabin Side']=train.Cabin.map(lambda x: x[-1]) \n",
        "train['Cabin Side']\n"
      ]
    },
    {
      "cell_type": "markdown",
      "id": "b394d894",
      "metadata": {
        "papermill": {
          "duration": 0.106381,
          "end_time": "2022-04-11T12:23:09.176193",
          "exception": false,
          "start_time": "2022-04-11T12:23:09.069812",
          "status": "completed"
        },
        "tags": [],
        "id": "b394d894"
      },
      "source": [
        "- Doing this will give us side of our cabin which can either be Port or Standbord, we will store it in new column Cabin Side\n",
        "\n",
        "- If you don't know about map function go [here](https://www.geeksforgeeks.org/python-map-function/) and if don't know about lambda function go [here](https://www.w3schools.com/python/python_lambda.asp)"
      ]
    },
    {
      "cell_type": "code",
      "execution_count": null,
      "id": "abe5601c",
      "metadata": {
        "execution": {
          "iopub.execute_input": "2022-04-11T12:23:09.388034Z",
          "iopub.status.busy": "2022-04-11T12:23:09.387235Z",
          "iopub.status.idle": "2022-04-11T12:23:09.399158Z",
          "shell.execute_reply": "2022-04-11T12:23:09.399631Z",
          "shell.execute_reply.started": "2022-04-11T12:12:01.992901Z"
        },
        "papermill": {
          "duration": 0.119424,
          "end_time": "2022-04-11T12:23:09.399810",
          "exception": false,
          "start_time": "2022-04-11T12:23:09.280386",
          "status": "completed"
        },
        "tags": [],
        "id": "abe5601c",
        "outputId": "7b43bb42-5773-413f-d8c9-a37b568c16f5"
      },
      "outputs": [
        {
          "data": {
            "text/plain": [
              "0       B\n",
              "1       F\n",
              "2       A\n",
              "3       A\n",
              "4       F\n",
              "       ..\n",
              "8688    A\n",
              "8689    G\n",
              "8690    G\n",
              "8691    E\n",
              "8692    E\n",
              "Name: Cabin Deck, Length: 8693, dtype: object"
            ]
          },
          "execution_count": 22,
          "metadata": {},
          "output_type": "execute_result"
        }
      ],
      "source": [
        "train['Cabin Deck']=train.Cabin.map(lambda x: x[0])\n",
        "train['Cabin Deck']\n"
      ]
    },
    {
      "cell_type": "markdown",
      "id": "b9caf5a7",
      "metadata": {
        "papermill": {
          "duration": 0.104617,
          "end_time": "2022-04-11T12:23:09.609495",
          "exception": false,
          "start_time": "2022-04-11T12:23:09.504878",
          "status": "completed"
        },
        "tags": [],
        "id": "b9caf5a7"
      },
      "source": [
        "- Doing this will give us deck of our cabin which we will store in new column Cabin Deck"
      ]
    },
    {
      "cell_type": "code",
      "execution_count": null,
      "id": "06c90a41",
      "metadata": {
        "execution": {
          "iopub.execute_input": "2022-04-11T12:23:09.825914Z",
          "iopub.status.busy": "2022-04-11T12:23:09.825226Z",
          "iopub.status.idle": "2022-04-11T12:23:09.837523Z",
          "shell.execute_reply": "2022-04-11T12:23:09.838008Z",
          "shell.execute_reply.started": "2022-04-11T12:12:02.004115Z"
        },
        "papermill": {
          "duration": 0.122864,
          "end_time": "2022-04-11T12:23:09.838224",
          "exception": false,
          "start_time": "2022-04-11T12:23:09.715360",
          "status": "completed"
        },
        "tags": [],
        "id": "06c90a41",
        "outputId": "1d22695b-0dba-4899-9a46-2db5d8018699"
      },
      "outputs": [
        {
          "data": {
            "text/plain": [
              "0       0\n",
              "1       0\n",
              "2       0\n",
              "3       0\n",
              "4       1\n",
              "       ..\n",
              "8688    9\n",
              "8689    1\n",
              "8690    1\n",
              "8691    6\n",
              "8692    6\n",
              "Name: Cabin Num, Length: 8693, dtype: object"
            ]
          },
          "execution_count": 23,
          "metadata": {},
          "output_type": "execute_result"
        }
      ],
      "source": [
        "train['Cabin Num']=train.Cabin.map(lambda x: x[2])\n",
        "train['Cabin Num']"
      ]
    },
    {
      "cell_type": "markdown",
      "id": "17afc101",
      "metadata": {
        "papermill": {
          "duration": 0.11411,
          "end_time": "2022-04-11T12:23:10.076880",
          "exception": false,
          "start_time": "2022-04-11T12:23:09.962770",
          "status": "completed"
        },
        "tags": [],
        "id": "17afc101"
      },
      "source": [
        "- This will give us number of our cabin which we will store in new column Cabin Num"
      ]
    },
    {
      "cell_type": "markdown",
      "id": "b6388046",
      "metadata": {
        "papermill": {
          "duration": 0.105583,
          "end_time": "2022-04-11T12:23:10.289030",
          "exception": false,
          "start_time": "2022-04-11T12:23:10.183447",
          "status": "completed"
        },
        "tags": [],
        "id": "b6388046"
      },
      "source": [
        "- Now let's drop some columns which we don't need at all, we drop them because they can't help us in making predictions at all\n",
        "- We don't need Name or Id because they are useless when we want to find out if person will survive or not.\n",
        "- We have made three new columns from cabin column so we don't need it anymore either\n",
        "- We don't also need Destination for predictions because no mattere where you are going, ship crash can surely kill you 🙂"
      ]
    },
    {
      "cell_type": "code",
      "execution_count": null,
      "id": "7f251962",
      "metadata": {
        "execution": {
          "iopub.execute_input": "2022-04-11T12:23:10.507969Z",
          "iopub.status.busy": "2022-04-11T12:23:10.507149Z",
          "iopub.status.idle": "2022-04-11T12:23:10.509620Z",
          "shell.execute_reply": "2022-04-11T12:23:10.510094Z",
          "shell.execute_reply.started": "2022-04-11T12:12:02.022736Z"
        },
        "papermill": {
          "duration": 0.116346,
          "end_time": "2022-04-11T12:23:10.510277",
          "exception": false,
          "start_time": "2022-04-11T12:23:10.393931",
          "status": "completed"
        },
        "tags": [],
        "id": "7f251962"
      },
      "outputs": [],
      "source": [
        "cols_to_drop=['Name','PassengerId','Destination','Cabin']"
      ]
    },
    {
      "cell_type": "code",
      "execution_count": null,
      "id": "86dbd033",
      "metadata": {
        "execution": {
          "iopub.execute_input": "2022-04-11T12:23:10.732372Z",
          "iopub.status.busy": "2022-04-11T12:23:10.731653Z",
          "iopub.status.idle": "2022-04-11T12:23:10.737305Z",
          "shell.execute_reply": "2022-04-11T12:23:10.737799Z",
          "shell.execute_reply.started": "2022-04-11T12:12:02.030350Z"
        },
        "papermill": {
          "duration": 0.119671,
          "end_time": "2022-04-11T12:23:10.737975",
          "exception": false,
          "start_time": "2022-04-11T12:23:10.618304",
          "status": "completed"
        },
        "tags": [],
        "id": "86dbd033"
      },
      "outputs": [],
      "source": [
        "# drop columns using drop() axis=1 means column and axis=0 means raw\n",
        "train=train.drop(cols_to_drop,axis=1)"
      ]
    },
    {
      "cell_type": "code",
      "execution_count": null,
      "id": "4978aad6",
      "metadata": {
        "execution": {
          "iopub.execute_input": "2022-04-11T12:23:10.971184Z",
          "iopub.status.busy": "2022-04-11T12:23:10.970519Z",
          "iopub.status.idle": "2022-04-11T12:23:10.995402Z",
          "shell.execute_reply": "2022-04-11T12:23:10.995892Z",
          "shell.execute_reply.started": "2022-04-11T12:12:02.045893Z"
        },
        "papermill": {
          "duration": 0.147332,
          "end_time": "2022-04-11T12:23:10.996074",
          "exception": false,
          "start_time": "2022-04-11T12:23:10.848742",
          "status": "completed"
        },
        "tags": [],
        "id": "4978aad6",
        "outputId": "4a81e849-36e5-414e-8420-0f30a973605d"
      },
      "outputs": [
        {
          "data": {
            "text/html": [
              "<div>\n",
              "<style scoped>\n",
              "    .dataframe tbody tr th:only-of-type {\n",
              "        vertical-align: middle;\n",
              "    }\n",
              "\n",
              "    .dataframe tbody tr th {\n",
              "        vertical-align: top;\n",
              "    }\n",
              "\n",
              "    .dataframe thead th {\n",
              "        text-align: right;\n",
              "    }\n",
              "</style>\n",
              "<table border=\"1\" class=\"dataframe\">\n",
              "  <thead>\n",
              "    <tr style=\"text-align: right;\">\n",
              "      <th></th>\n",
              "      <th>HomePlanet</th>\n",
              "      <th>CryoSleep</th>\n",
              "      <th>Age</th>\n",
              "      <th>VIP</th>\n",
              "      <th>RoomService</th>\n",
              "      <th>FoodCourt</th>\n",
              "      <th>ShoppingMall</th>\n",
              "      <th>Spa</th>\n",
              "      <th>VRDeck</th>\n",
              "      <th>Transported</th>\n",
              "      <th>Cabin Side</th>\n",
              "      <th>Cabin Deck</th>\n",
              "      <th>Cabin Num</th>\n",
              "    </tr>\n",
              "  </thead>\n",
              "  <tbody>\n",
              "    <tr>\n",
              "      <th>0</th>\n",
              "      <td>Europa</td>\n",
              "      <td>False</td>\n",
              "      <td>39.0</td>\n",
              "      <td>False</td>\n",
              "      <td>0.0</td>\n",
              "      <td>0.0</td>\n",
              "      <td>0.0</td>\n",
              "      <td>0.0</td>\n",
              "      <td>0.0</td>\n",
              "      <td>False</td>\n",
              "      <td>P</td>\n",
              "      <td>B</td>\n",
              "      <td>0</td>\n",
              "    </tr>\n",
              "    <tr>\n",
              "      <th>1</th>\n",
              "      <td>Earth</td>\n",
              "      <td>False</td>\n",
              "      <td>24.0</td>\n",
              "      <td>False</td>\n",
              "      <td>109.0</td>\n",
              "      <td>9.0</td>\n",
              "      <td>25.0</td>\n",
              "      <td>549.0</td>\n",
              "      <td>44.0</td>\n",
              "      <td>True</td>\n",
              "      <td>S</td>\n",
              "      <td>F</td>\n",
              "      <td>0</td>\n",
              "    </tr>\n",
              "    <tr>\n",
              "      <th>2</th>\n",
              "      <td>Europa</td>\n",
              "      <td>False</td>\n",
              "      <td>58.0</td>\n",
              "      <td>True</td>\n",
              "      <td>43.0</td>\n",
              "      <td>3576.0</td>\n",
              "      <td>0.0</td>\n",
              "      <td>6715.0</td>\n",
              "      <td>49.0</td>\n",
              "      <td>False</td>\n",
              "      <td>S</td>\n",
              "      <td>A</td>\n",
              "      <td>0</td>\n",
              "    </tr>\n",
              "    <tr>\n",
              "      <th>3</th>\n",
              "      <td>Europa</td>\n",
              "      <td>False</td>\n",
              "      <td>33.0</td>\n",
              "      <td>False</td>\n",
              "      <td>0.0</td>\n",
              "      <td>1283.0</td>\n",
              "      <td>371.0</td>\n",
              "      <td>3329.0</td>\n",
              "      <td>193.0</td>\n",
              "      <td>False</td>\n",
              "      <td>S</td>\n",
              "      <td>A</td>\n",
              "      <td>0</td>\n",
              "    </tr>\n",
              "    <tr>\n",
              "      <th>4</th>\n",
              "      <td>Earth</td>\n",
              "      <td>False</td>\n",
              "      <td>16.0</td>\n",
              "      <td>False</td>\n",
              "      <td>303.0</td>\n",
              "      <td>70.0</td>\n",
              "      <td>151.0</td>\n",
              "      <td>565.0</td>\n",
              "      <td>2.0</td>\n",
              "      <td>True</td>\n",
              "      <td>S</td>\n",
              "      <td>F</td>\n",
              "      <td>1</td>\n",
              "    </tr>\n",
              "    <tr>\n",
              "      <th>5</th>\n",
              "      <td>Earth</td>\n",
              "      <td>False</td>\n",
              "      <td>44.0</td>\n",
              "      <td>False</td>\n",
              "      <td>0.0</td>\n",
              "      <td>483.0</td>\n",
              "      <td>0.0</td>\n",
              "      <td>291.0</td>\n",
              "      <td>0.0</td>\n",
              "      <td>True</td>\n",
              "      <td>P</td>\n",
              "      <td>F</td>\n",
              "      <td>0</td>\n",
              "    </tr>\n",
              "    <tr>\n",
              "      <th>6</th>\n",
              "      <td>Earth</td>\n",
              "      <td>False</td>\n",
              "      <td>26.0</td>\n",
              "      <td>False</td>\n",
              "      <td>42.0</td>\n",
              "      <td>1539.0</td>\n",
              "      <td>3.0</td>\n",
              "      <td>0.0</td>\n",
              "      <td>0.0</td>\n",
              "      <td>True</td>\n",
              "      <td>S</td>\n",
              "      <td>F</td>\n",
              "      <td>2</td>\n",
              "    </tr>\n",
              "    <tr>\n",
              "      <th>7</th>\n",
              "      <td>Earth</td>\n",
              "      <td>True</td>\n",
              "      <td>28.0</td>\n",
              "      <td>False</td>\n",
              "      <td>0.0</td>\n",
              "      <td>0.0</td>\n",
              "      <td>0.0</td>\n",
              "      <td>0.0</td>\n",
              "      <td>NaN</td>\n",
              "      <td>True</td>\n",
              "      <td>S</td>\n",
              "      <td>G</td>\n",
              "      <td>0</td>\n",
              "    </tr>\n",
              "    <tr>\n",
              "      <th>8</th>\n",
              "      <td>Earth</td>\n",
              "      <td>False</td>\n",
              "      <td>35.0</td>\n",
              "      <td>False</td>\n",
              "      <td>0.0</td>\n",
              "      <td>785.0</td>\n",
              "      <td>17.0</td>\n",
              "      <td>216.0</td>\n",
              "      <td>0.0</td>\n",
              "      <td>True</td>\n",
              "      <td>S</td>\n",
              "      <td>F</td>\n",
              "      <td>3</td>\n",
              "    </tr>\n",
              "    <tr>\n",
              "      <th>9</th>\n",
              "      <td>Europa</td>\n",
              "      <td>True</td>\n",
              "      <td>14.0</td>\n",
              "      <td>False</td>\n",
              "      <td>0.0</td>\n",
              "      <td>0.0</td>\n",
              "      <td>0.0</td>\n",
              "      <td>0.0</td>\n",
              "      <td>0.0</td>\n",
              "      <td>True</td>\n",
              "      <td>P</td>\n",
              "      <td>B</td>\n",
              "      <td>1</td>\n",
              "    </tr>\n",
              "  </tbody>\n",
              "</table>\n",
              "</div>"
            ],
            "text/plain": [
              "  HomePlanet CryoSleep   Age    VIP  RoomService  FoodCourt  ShoppingMall  \\\n",
              "0     Europa     False  39.0  False          0.0        0.0           0.0   \n",
              "1      Earth     False  24.0  False        109.0        9.0          25.0   \n",
              "2     Europa     False  58.0   True         43.0     3576.0           0.0   \n",
              "3     Europa     False  33.0  False          0.0     1283.0         371.0   \n",
              "4      Earth     False  16.0  False        303.0       70.0         151.0   \n",
              "5      Earth     False  44.0  False          0.0      483.0           0.0   \n",
              "6      Earth     False  26.0  False         42.0     1539.0           3.0   \n",
              "7      Earth      True  28.0  False          0.0        0.0           0.0   \n",
              "8      Earth     False  35.0  False          0.0      785.0          17.0   \n",
              "9     Europa      True  14.0  False          0.0        0.0           0.0   \n",
              "\n",
              "      Spa  VRDeck  Transported Cabin Side Cabin Deck Cabin Num  \n",
              "0     0.0     0.0        False          P          B         0  \n",
              "1   549.0    44.0         True          S          F         0  \n",
              "2  6715.0    49.0        False          S          A         0  \n",
              "3  3329.0   193.0        False          S          A         0  \n",
              "4   565.0     2.0         True          S          F         1  \n",
              "5   291.0     0.0         True          P          F         0  \n",
              "6     0.0     0.0         True          S          F         2  \n",
              "7     0.0     NaN         True          S          G         0  \n",
              "8   216.0     0.0         True          S          F         3  \n",
              "9     0.0     0.0         True          P          B         1  "
            ]
          },
          "execution_count": 26,
          "metadata": {},
          "output_type": "execute_result"
        }
      ],
      "source": [
        "train.head(10)"
      ]
    },
    {
      "cell_type": "code",
      "execution_count": null,
      "id": "3bac325f",
      "metadata": {
        "execution": {
          "iopub.execute_input": "2022-04-11T12:23:11.223449Z",
          "iopub.status.busy": "2022-04-11T12:23:11.222743Z",
          "iopub.status.idle": "2022-04-11T12:23:11.232810Z",
          "shell.execute_reply": "2022-04-11T12:23:11.232266Z",
          "shell.execute_reply.started": "2022-04-11T12:12:02.075276Z"
        },
        "papermill": {
          "duration": 0.128198,
          "end_time": "2022-04-11T12:23:11.232958",
          "exception": false,
          "start_time": "2022-04-11T12:23:11.104760",
          "status": "completed"
        },
        "tags": [],
        "id": "3bac325f",
        "outputId": "b4154b0f-02fb-4e27-e2ab-bb6512596541"
      },
      "outputs": [
        {
          "data": {
            "text/plain": [
              "HomePlanet      201\n",
              "CryoSleep       217\n",
              "Age             179\n",
              "VIP             203\n",
              "RoomService     181\n",
              "FoodCourt       183\n",
              "ShoppingMall    208\n",
              "Spa             183\n",
              "VRDeck          188\n",
              "Transported       0\n",
              "Cabin Side        0\n",
              "Cabin Deck        0\n",
              "Cabin Num         0\n",
              "dtype: int64"
            ]
          },
          "execution_count": 27,
          "metadata": {},
          "output_type": "execute_result"
        }
      ],
      "source": [
        "train.isna().sum()"
      ]
    },
    {
      "cell_type": "code",
      "execution_count": null,
      "id": "c648407d",
      "metadata": {
        "execution": {
          "iopub.execute_input": "2022-04-11T12:23:11.451898Z",
          "iopub.status.busy": "2022-04-11T12:23:11.451201Z",
          "iopub.status.idle": "2022-04-11T12:23:11.456521Z",
          "shell.execute_reply": "2022-04-11T12:23:11.457052Z",
          "shell.execute_reply.started": "2022-04-11T12:12:02.098126Z"
        },
        "papermill": {
          "duration": 0.115748,
          "end_time": "2022-04-11T12:23:11.457236",
          "exception": false,
          "start_time": "2022-04-11T12:23:11.341488",
          "status": "completed"
        },
        "tags": [],
        "id": "c648407d",
        "outputId": "72ccb1b2-bea5-490d-ec3e-759c9fedd16c"
      },
      "outputs": [
        {
          "data": {
            "text/plain": [
              "(8693, 13)"
            ]
          },
          "execution_count": 28,
          "metadata": {},
          "output_type": "execute_result"
        }
      ],
      "source": [
        "train.shape"
      ]
    },
    {
      "cell_type": "markdown",
      "id": "cd133424",
      "metadata": {
        "papermill": {
          "duration": 0.109488,
          "end_time": "2022-04-11T12:23:11.674194",
          "exception": false,
          "start_time": "2022-04-11T12:23:11.564706",
          "status": "completed"
        },
        "tags": [],
        "id": "cd133424"
      },
      "source": [
        "- we dropped three columns and aslo added three new columns so shape will stay the same\n",
        "\n",
        "- Now let's divide our dataset into independent and dependent "
      ]
    },
    {
      "cell_type": "code",
      "execution_count": null,
      "id": "678c8298",
      "metadata": {
        "execution": {
          "iopub.execute_input": "2022-04-11T12:23:11.893627Z",
          "iopub.status.busy": "2022-04-11T12:23:11.892769Z",
          "iopub.status.idle": "2022-04-11T12:23:11.899815Z",
          "shell.execute_reply": "2022-04-11T12:23:11.900317Z",
          "shell.execute_reply.started": "2022-04-11T12:12:02.109604Z"
        },
        "papermill": {
          "duration": 0.120088,
          "end_time": "2022-04-11T12:23:11.900502",
          "exception": false,
          "start_time": "2022-04-11T12:23:11.780414",
          "status": "completed"
        },
        "tags": [],
        "id": "678c8298"
      },
      "outputs": [],
      "source": [
        "X=train.drop('Transported',axis=1) #Independent \n",
        "Y=train.Transported #Dependent"
      ]
    },
    {
      "cell_type": "markdown",
      "id": "ace27787",
      "metadata": {
        "papermill": {
          "duration": 0.108851,
          "end_time": "2022-04-11T12:23:12.117492",
          "exception": false,
          "start_time": "2022-04-11T12:23:12.008641",
          "status": "completed"
        },
        "tags": [],
        "id": "ace27787"
      },
      "source": [
        "- Y has two values False and True so we will convert them into 0 and 1 using astype() function. it will convert false into 0 and True into 1\n",
        "\n",
        "- we need to do so that our model can perform operations, We will convert it back into False and True when submitting predictions "
      ]
    },
    {
      "cell_type": "code",
      "execution_count": null,
      "id": "b8039cba",
      "metadata": {
        "execution": {
          "iopub.execute_input": "2022-04-11T12:23:12.339279Z",
          "iopub.status.busy": "2022-04-11T12:23:12.338615Z",
          "iopub.status.idle": "2022-04-11T12:23:12.343046Z",
          "shell.execute_reply": "2022-04-11T12:23:12.343657Z",
          "shell.execute_reply.started": "2022-04-11T12:12:02.124720Z"
        },
        "papermill": {
          "duration": 0.115332,
          "end_time": "2022-04-11T12:23:12.343849",
          "exception": false,
          "start_time": "2022-04-11T12:23:12.228517",
          "status": "completed"
        },
        "tags": [],
        "id": "b8039cba"
      },
      "outputs": [],
      "source": [
        "Y=Y.astype('int')"
      ]
    },
    {
      "cell_type": "markdown",
      "id": "ffb81aa6",
      "metadata": {
        "papermill": {
          "duration": 0.112143,
          "end_time": "2022-04-11T12:23:12.567052",
          "exception": false,
          "start_time": "2022-04-11T12:23:12.454909",
          "status": "completed"
        },
        "tags": [],
        "id": "ffb81aa6"
      },
      "source": [
        "## train test split"
      ]
    },
    {
      "cell_type": "code",
      "execution_count": null,
      "id": "1af9debe",
      "metadata": {
        "execution": {
          "iopub.execute_input": "2022-04-11T12:23:12.801050Z",
          "iopub.status.busy": "2022-04-11T12:23:12.800260Z",
          "iopub.status.idle": "2022-04-11T12:23:13.020226Z",
          "shell.execute_reply": "2022-04-11T12:23:13.019431Z",
          "shell.execute_reply.started": "2022-04-11T12:12:02.138727Z"
        },
        "papermill": {
          "duration": 0.337683,
          "end_time": "2022-04-11T12:23:13.020389",
          "exception": false,
          "start_time": "2022-04-11T12:23:12.682706",
          "status": "completed"
        },
        "tags": [],
        "id": "1af9debe"
      },
      "outputs": [],
      "source": [
        "from sklearn.model_selection import train_test_split\n",
        "\n",
        "train_X,val_X,train_y,val_y=train_test_split(X,Y,random_state=0,test_size=0.2)"
      ]
    },
    {
      "cell_type": "markdown",
      "id": "025334c5",
      "metadata": {
        "papermill": {
          "duration": 0.110057,
          "end_time": "2022-04-11T12:23:13.240169",
          "exception": false,
          "start_time": "2022-04-11T12:23:13.130112",
          "status": "completed"
        },
        "tags": [],
        "id": "025334c5"
      },
      "source": [
        "- We will split our training data into two part \n",
        "1. train data and \n",
        "2. validation data\n",
        "\n",
        "\n",
        "- We do so to check our model performance after it has trained on our training data. We don't dare touch our validation data for training purpose and once our model is trained we use validation data to check how good it is and if there can be further improvements in it."
      ]
    },
    {
      "cell_type": "code",
      "execution_count": null,
      "id": "3230d637",
      "metadata": {
        "execution": {
          "iopub.execute_input": "2022-04-11T12:23:13.459939Z",
          "iopub.status.busy": "2022-04-11T12:23:13.459257Z",
          "iopub.status.idle": "2022-04-11T12:23:13.465835Z",
          "shell.execute_reply": "2022-04-11T12:23:13.466343Z",
          "shell.execute_reply.started": "2022-04-11T12:12:02.153995Z"
        },
        "papermill": {
          "duration": 0.117661,
          "end_time": "2022-04-11T12:23:13.466516",
          "exception": false,
          "start_time": "2022-04-11T12:23:13.348855",
          "status": "completed"
        },
        "tags": [],
        "id": "3230d637"
      },
      "outputs": [],
      "source": [
        "# We will get numerica and categorical columns name from doing this\n",
        "obj_cols=[col for col in train_X.columns if train[col].dtypes=='object'] # Categorical columns\n",
        "num_cols=[col for col in train_X.columns if train[col].dtypes!='object'] #Numerica columns"
      ]
    },
    {
      "cell_type": "markdown",
      "id": "949e91f4",
      "metadata": {
        "papermill": {
          "duration": 0.110469,
          "end_time": "2022-04-11T12:23:13.690150",
          "exception": false,
          "start_time": "2022-04-11T12:23:13.579681",
          "status": "completed"
        },
        "tags": [],
        "id": "949e91f4"
      },
      "source": [
        "# Pipeline and ColumnTransformer"
      ]
    },
    {
      "cell_type": "markdown",
      "id": "b0d918c1",
      "metadata": {
        "papermill": {
          "duration": 0.107211,
          "end_time": "2022-04-11T12:23:13.905430",
          "exception": false,
          "start_time": "2022-04-11T12:23:13.798219",
          "status": "completed"
        },
        "tags": [],
        "id": "b0d918c1"
      },
      "source": [
        "- If you don't know about feature scaling go [here](https://prthgo.medium.com/feature-transformation-3306c7ac9dd5) it's blog written poorly by me 😂. \n",
        "- Pipeline will put multiple steps into one object so we can perform them easily it will keep our code clean and simple to understand \n",
        "- ColumnTransformer will perform preprocessing on our columns "
      ]
    },
    {
      "cell_type": "code",
      "execution_count": null,
      "id": "5a413132",
      "metadata": {
        "execution": {
          "iopub.execute_input": "2022-04-11T12:23:14.131828Z",
          "iopub.status.busy": "2022-04-11T12:23:14.131183Z",
          "iopub.status.idle": "2022-04-11T12:23:14.293371Z",
          "shell.execute_reply": "2022-04-11T12:23:14.292699Z",
          "shell.execute_reply.started": "2022-04-11T12:12:02.164801Z"
        },
        "papermill": {
          "duration": 0.278306,
          "end_time": "2022-04-11T12:23:14.293544",
          "exception": false,
          "start_time": "2022-04-11T12:23:14.015238",
          "status": "completed"
        },
        "tags": [],
        "id": "5a413132"
      },
      "outputs": [],
      "source": [
        "from sklearn.pipeline import Pipeline \n",
        "from sklearn.impute import SimpleImputer\n",
        "from sklearn.preprocessing import StandardScaler,OneHotEncoder\n",
        "from sklearn.compose import ColumnTransformer\n",
        "\n",
        "# This will do all preprocessing on numerical columns\n",
        "# First we will impute missing values in columns with the mean of column then we will scale our numerical\n",
        "#  features with StandardScaler.\n",
        "num_preprocess=Pipeline(steps=[\n",
        "    ('impute',SimpleImputer(strategy='mean')),\n",
        "    ('scaling',StandardScaler())\n",
        "])\n",
        "\n",
        "\n",
        "# This will perform preprocessing on our Categorical features\n",
        "# First we will impute missing values with most_frequnt values in that column and then we will one hot encode them\n",
        "obj_preprocess=Pipeline(steps=[\n",
        "    ('impute',SimpleImputer(strategy='most_frequent')),\n",
        "    ('encode',OneHotEncoder(handle_unknown='ignore'))\n",
        "    \n",
        "])\n",
        "\n",
        "\n",
        "# Now we will use ColumnTransformer to put above to steps in one object to perform all preprocessing at once\n",
        "preprocessor= ColumnTransformer(transformers=[\n",
        "    ('num', num_preprocess,num_cols),\n",
        "    ('obj', obj_preprocess,obj_cols)\n",
        "])"
      ]
    },
    {
      "cell_type": "markdown",
      "id": "e87ad72c",
      "metadata": {
        "papermill": {
          "duration": 0.110839,
          "end_time": "2022-04-11T12:23:14.517547",
          "exception": false,
          "start_time": "2022-04-11T12:23:14.406708",
          "status": "completed"
        },
        "tags": [],
        "id": "e87ad72c"
      },
      "source": [
        "## model building and evaluation "
      ]
    },
    {
      "cell_type": "code",
      "execution_count": null,
      "id": "4a25ff12",
      "metadata": {
        "execution": {
          "iopub.execute_input": "2022-04-11T12:23:14.750381Z",
          "iopub.status.busy": "2022-04-11T12:23:14.748132Z",
          "iopub.status.idle": "2022-04-11T12:23:14.753524Z",
          "shell.execute_reply": "2022-04-11T12:23:14.754085Z",
          "shell.execute_reply.started": "2022-04-11T12:12:02.179844Z"
        },
        "papermill": {
          "duration": 0.123301,
          "end_time": "2022-04-11T12:23:14.754345",
          "exception": false,
          "start_time": "2022-04-11T12:23:14.631044",
          "status": "completed"
        },
        "tags": [],
        "id": "4a25ff12"
      },
      "outputs": [],
      "source": [
        "# First we will use LogisticRegression model\n",
        "from sklearn.linear_model import LogisticRegression\n",
        "\n",
        "# not passing any parametrs, our model will accept default parameters\n",
        "lr_model=LogisticRegression(random_state=0)\n"
      ]
    },
    {
      "cell_type": "code",
      "execution_count": null,
      "id": "41f071cb",
      "metadata": {
        "execution": {
          "iopub.execute_input": "2022-04-11T12:23:14.980320Z",
          "iopub.status.busy": "2022-04-11T12:23:14.977547Z",
          "iopub.status.idle": "2022-04-11T12:23:14.983942Z",
          "shell.execute_reply": "2022-04-11T12:23:14.983049Z",
          "shell.execute_reply.started": "2022-04-11T12:12:02.195098Z"
        },
        "papermill": {
          "duration": 0.116431,
          "end_time": "2022-04-11T12:23:14.984093",
          "exception": false,
          "start_time": "2022-04-11T12:23:14.867662",
          "status": "completed"
        },
        "tags": [],
        "id": "41f071cb"
      },
      "outputs": [],
      "source": [
        "#  Now we will create pipeline using our lr_model with preprocessing\n",
        "\n",
        "lr_pipe=Pipeline(steps=[\n",
        "    ('preprocess',preprocessor),\n",
        "    ('model',lr_model)\n",
        "])"
      ]
    },
    {
      "cell_type": "code",
      "execution_count": null,
      "id": "0a370128",
      "metadata": {
        "execution": {
          "iopub.execute_input": "2022-04-11T12:23:15.216706Z",
          "iopub.status.busy": "2022-04-11T12:23:15.215958Z",
          "iopub.status.idle": "2022-04-11T12:23:15.418042Z",
          "shell.execute_reply": "2022-04-11T12:23:15.419038Z",
          "shell.execute_reply.started": "2022-04-11T12:12:02.208045Z"
        },
        "papermill": {
          "duration": 0.325526,
          "end_time": "2022-04-11T12:23:15.419379",
          "exception": false,
          "start_time": "2022-04-11T12:23:15.093853",
          "status": "completed"
        },
        "tags": [],
        "id": "0a370128"
      },
      "outputs": [],
      "source": [
        "# now we will fit our model on training data, fitting model will train our model generally \n",
        "lr_pipe.fit(train_X,train_y)\n",
        "\n",
        "# Now we will predict on our validation data using our trained model\n",
        "lr_pred=lr_pipe.predict(val_X)"
      ]
    },
    {
      "cell_type": "code",
      "execution_count": null,
      "id": "0670c7db",
      "metadata": {
        "execution": {
          "iopub.execute_input": "2022-04-11T12:23:15.715465Z",
          "iopub.status.busy": "2022-04-11T12:23:15.714682Z",
          "iopub.status.idle": "2022-04-11T12:23:15.725774Z",
          "shell.execute_reply": "2022-04-11T12:23:15.726577Z",
          "shell.execute_reply.started": "2022-04-11T12:12:02.475848Z"
        },
        "papermill": {
          "duration": 0.13641,
          "end_time": "2022-04-11T12:23:15.726883",
          "exception": false,
          "start_time": "2022-04-11T12:23:15.590473",
          "status": "completed"
        },
        "tags": [],
        "id": "0670c7db",
        "outputId": "8d5e08a3-e33c-44c3-ff65-124cb141e831"
      },
      "outputs": [
        {
          "name": "stdout",
          "output_type": "stream",
          "text": [
            "Accuracy of Logistic Regression Model: 0.7889591719378953\n",
            "F1 Score of Logistic Regression Model: 0.7948574622694242\n",
            "Confusion Matrix of Logistic Regression Model\n"
          ]
        },
        {
          "data": {
            "text/plain": [
              "array([[661, 202],\n",
              "       [165, 711]])"
            ]
          },
          "execution_count": 37,
          "metadata": {},
          "output_type": "execute_result"
        }
      ],
      "source": [
        "from sklearn.metrics import accuracy_score,confusion_matrix,plot_confusion_matrix,f1_score\n",
        "\n",
        "\n",
        "# Now we will check accuracy of our model with some matrices, \n",
        "# don't worry if you don't know about them right now, just look at the score\n",
        "print(f'Accuracy of Logistic Regression Model: {accuracy_score(val_y,lr_pred)}')\n",
        "print(f'F1 Score of Logistic Regression Model: {f1_score(val_y,lr_pred)}')\n",
        "print('Confusion Matrix of Logistic Regression Model')\n",
        "confusion_matrix(val_y,lr_pred)"
      ]
    },
    {
      "cell_type": "code",
      "execution_count": null,
      "id": "f4e95e2c",
      "metadata": {
        "execution": {
          "iopub.execute_input": "2022-04-11T12:23:15.968380Z",
          "iopub.status.busy": "2022-04-11T12:23:15.967645Z",
          "iopub.status.idle": "2022-04-11T12:23:16.080010Z",
          "shell.execute_reply": "2022-04-11T12:23:16.079379Z",
          "shell.execute_reply.started": "2022-04-11T12:12:02.492954Z"
        },
        "papermill": {
          "duration": 0.2369,
          "end_time": "2022-04-11T12:23:16.080173",
          "exception": false,
          "start_time": "2022-04-11T12:23:15.843273",
          "status": "completed"
        },
        "tags": [],
        "id": "f4e95e2c"
      },
      "outputs": [],
      "source": [
        "#  Now we will use randomforest model and perform above steps again\n",
        "from sklearn.ensemble import RandomForestClassifier\n",
        "\n",
        "rf_model=RandomForestClassifier(random_state=0)\n"
      ]
    },
    {
      "cell_type": "code",
      "execution_count": null,
      "id": "4aafa462",
      "metadata": {
        "execution": {
          "iopub.execute_input": "2022-04-11T12:23:16.322091Z",
          "iopub.status.busy": "2022-04-11T12:23:16.321435Z",
          "iopub.status.idle": "2022-04-11T12:23:16.324342Z",
          "shell.execute_reply": "2022-04-11T12:23:16.323639Z",
          "shell.execute_reply.started": "2022-04-11T12:12:02.499497Z"
        },
        "papermill": {
          "duration": 0.126685,
          "end_time": "2022-04-11T12:23:16.324516",
          "exception": false,
          "start_time": "2022-04-11T12:23:16.197831",
          "status": "completed"
        },
        "tags": [],
        "id": "4aafa462"
      },
      "outputs": [],
      "source": [
        "rf_pipe=Pipeline(steps=[\n",
        "    ('preprocess',preprocessor),\n",
        "    ('model',rf_model)\n",
        "])"
      ]
    },
    {
      "cell_type": "code",
      "execution_count": null,
      "id": "3ad78611",
      "metadata": {
        "execution": {
          "iopub.execute_input": "2022-04-11T12:23:16.677811Z",
          "iopub.status.busy": "2022-04-11T12:23:16.672248Z",
          "iopub.status.idle": "2022-04-11T12:23:17.555945Z",
          "shell.execute_reply": "2022-04-11T12:23:17.556639Z",
          "shell.execute_reply.started": "2022-04-11T12:12:02.511026Z"
        },
        "papermill": {
          "duration": 1.122551,
          "end_time": "2022-04-11T12:23:17.556858",
          "exception": false,
          "start_time": "2022-04-11T12:23:16.434307",
          "status": "completed"
        },
        "tags": [],
        "id": "3ad78611",
        "outputId": "16ae21bd-54df-4dbb-eff8-bd332a563a66"
      },
      "outputs": [
        {
          "data": {
            "text/plain": [
              "Pipeline(steps=[('preprocess',\n",
              "                 ColumnTransformer(transformers=[('num',\n",
              "                                                  Pipeline(steps=[('impute',\n",
              "                                                                   SimpleImputer()),\n",
              "                                                                  ('scaling',\n",
              "                                                                   StandardScaler())]),\n",
              "                                                  ['Age', 'RoomService',\n",
              "                                                   'FoodCourt', 'ShoppingMall',\n",
              "                                                   'Spa', 'VRDeck']),\n",
              "                                                 ('obj',\n",
              "                                                  Pipeline(steps=[('impute',\n",
              "                                                                   SimpleImputer(strategy='most_frequent')),\n",
              "                                                                  ('encode',\n",
              "                                                                   OneHotEncoder(handle_unknown='ignore'))]),\n",
              "                                                  ['HomePlanet', 'CryoSleep',\n",
              "                                                   'VIP', 'Cabin Side',\n",
              "                                                   'Cabin Deck',\n",
              "                                                   'Cabin Num'])])),\n",
              "                ('model', RandomForestClassifier(random_state=0))])"
            ]
          },
          "execution_count": 40,
          "metadata": {},
          "output_type": "execute_result"
        }
      ],
      "source": [
        "rf_pipe.fit(train_X,train_y)"
      ]
    },
    {
      "cell_type": "code",
      "execution_count": null,
      "id": "6dce9638",
      "metadata": {
        "execution": {
          "iopub.execute_input": "2022-04-11T12:23:17.800412Z",
          "iopub.status.busy": "2022-04-11T12:23:17.794919Z",
          "iopub.status.idle": "2022-04-11T12:23:17.861831Z",
          "shell.execute_reply": "2022-04-11T12:23:17.860884Z",
          "shell.execute_reply.started": "2022-04-11T12:12:08.374084Z"
        },
        "papermill": {
          "duration": 0.188629,
          "end_time": "2022-04-11T12:23:17.862085",
          "exception": false,
          "start_time": "2022-04-11T12:23:17.673456",
          "status": "completed"
        },
        "tags": [],
        "id": "6dce9638"
      },
      "outputs": [],
      "source": [
        "rf_pred=rf_pipe.predict(val_X)"
      ]
    },
    {
      "cell_type": "code",
      "execution_count": null,
      "id": "d183a566",
      "metadata": {
        "execution": {
          "iopub.execute_input": "2022-04-11T12:23:18.100222Z",
          "iopub.status.busy": "2022-04-11T12:23:18.099072Z",
          "iopub.status.idle": "2022-04-11T12:23:18.111864Z",
          "shell.execute_reply": "2022-04-11T12:23:18.111070Z",
          "shell.execute_reply.started": "2022-04-11T12:12:08.502779Z"
        },
        "papermill": {
          "duration": 0.135583,
          "end_time": "2022-04-11T12:23:18.112025",
          "exception": false,
          "start_time": "2022-04-11T12:23:17.976442",
          "status": "completed"
        },
        "tags": [],
        "id": "d183a566",
        "outputId": "d682220c-bb72-4510-8606-3cdcd0896f5a"
      },
      "outputs": [
        {
          "name": "stdout",
          "output_type": "stream",
          "text": [
            "Accuracy of Random Forest Model: 0.7843588269120184\n",
            "F1 Score of Random Forest Model: 0.7771836007130125\n",
            "Confusion Matrix of Random Forest Model\n"
          ]
        },
        {
          "data": {
            "text/plain": [
              "array([[710, 153],\n",
              "       [222, 654]])"
            ]
          },
          "execution_count": 42,
          "metadata": {},
          "output_type": "execute_result"
        }
      ],
      "source": [
        "print(f'Accuracy of Random Forest Model: {accuracy_score(val_y,rf_pred)}')\n",
        "print(f'F1 Score of Random Forest Model: {f1_score(val_y,rf_pred)}')\n",
        "print('Confusion Matrix of Random Forest Model')\n",
        "confusion_matrix(val_y,rf_pred)"
      ]
    },
    {
      "cell_type": "code",
      "execution_count": null,
      "id": "3056ea71",
      "metadata": {
        "execution": {
          "iopub.execute_input": "2022-04-11T12:23:18.357471Z",
          "iopub.status.busy": "2022-04-11T12:23:18.356636Z",
          "iopub.status.idle": "2022-04-11T12:23:19.329428Z",
          "shell.execute_reply": "2022-04-11T12:23:19.330170Z",
          "shell.execute_reply.started": "2022-04-11T12:12:08.519379Z"
        },
        "papermill": {
          "duration": 1.099979,
          "end_time": "2022-04-11T12:23:19.330360",
          "exception": false,
          "start_time": "2022-04-11T12:23:18.230381",
          "status": "completed"
        },
        "tags": [],
        "id": "3056ea71",
        "outputId": "657c4265-3408-4337-8f3d-554c536a2fdb"
      },
      "outputs": [
        {
          "data": {
            "text/html": [
              "<style type='text/css'>\n",
              ".datatable table.frame { margin-bottom: 0; }\n",
              ".datatable table.frame thead { border-bottom: none; }\n",
              ".datatable table.frame tr.coltypes td {  color: #FFFFFF;  line-height: 6px;  padding: 0 0.5em;}\n",
              ".datatable .bool    { background: #DDDD99; }\n",
              ".datatable .object  { background: #565656; }\n",
              ".datatable .int     { background: #5D9E5D; }\n",
              ".datatable .float   { background: #4040CC; }\n",
              ".datatable .str     { background: #CC4040; }\n",
              ".datatable .time    { background: #40CC40; }\n",
              ".datatable .row_index {  background: var(--jp-border-color3);  border-right: 1px solid var(--jp-border-color0);  color: var(--jp-ui-font-color3);  font-size: 9px;}\n",
              ".datatable .frame tbody td { text-align: left; }\n",
              ".datatable .frame tr.coltypes .row_index {  background: var(--jp-border-color0);}\n",
              ".datatable th:nth-child(2) { padding-left: 12px; }\n",
              ".datatable .hellipsis {  color: var(--jp-cell-editor-border-color);}\n",
              ".datatable .vellipsis {  background: var(--jp-layout-color0);  color: var(--jp-cell-editor-border-color);}\n",
              ".datatable .na {  color: var(--jp-cell-editor-border-color);  font-size: 80%;}\n",
              ".datatable .sp {  opacity: 0.25;}\n",
              ".datatable .footer { font-size: 9px; }\n",
              ".datatable .frame_dimensions {  background: var(--jp-border-color3);  border-top: 1px solid var(--jp-border-color0);  color: var(--jp-ui-font-color3);  display: inline-block;  opacity: 0.6;  padding: 1px 10px 1px 5px;}\n",
              "</style>\n"
            ],
            "text/plain": [
              "<IPython.core.display.HTML object>"
            ]
          },
          "metadata": {},
          "output_type": "display_data"
        }
      ],
      "source": [
        "# Now it is time for my favorite model LightGBM\n",
        "\n",
        "from lightgbm import LGBMClassifier\n",
        "# we will pass some parameters here\n",
        "lgb_model=LGBMClassifier(n_estimators=100,boosting_type='gbdt',random_state=0,max_depth=20,\n",
        "                         num_leaves=40,min_child_samples=2,learning_rate=.1)\n",
        "                        \n"
      ]
    },
    {
      "cell_type": "code",
      "execution_count": null,
      "id": "b3dc24b3",
      "metadata": {
        "execution": {
          "iopub.execute_input": "2022-04-11T12:23:19.557905Z",
          "iopub.status.busy": "2022-04-11T12:23:19.557273Z",
          "iopub.status.idle": "2022-04-11T12:23:19.559765Z",
          "shell.execute_reply": "2022-04-11T12:23:19.559101Z",
          "shell.execute_reply.started": "2022-04-11T12:12:08.527501Z"
        },
        "papermill": {
          "duration": 0.119163,
          "end_time": "2022-04-11T12:23:19.559904",
          "exception": false,
          "start_time": "2022-04-11T12:23:19.440741",
          "status": "completed"
        },
        "tags": [],
        "id": "b3dc24b3"
      },
      "outputs": [],
      "source": [
        "lgb_pipe=Pipeline(steps=[\n",
        "    ('preprocess',preprocessor),\n",
        "    ('model',lgb_model)\n",
        "])"
      ]
    },
    {
      "cell_type": "code",
      "execution_count": null,
      "id": "de0e581e",
      "metadata": {
        "execution": {
          "iopub.execute_input": "2022-04-11T12:23:19.790991Z",
          "iopub.status.busy": "2022-04-11T12:23:19.790307Z",
          "iopub.status.idle": "2022-04-11T12:23:20.162602Z",
          "shell.execute_reply": "2022-04-11T12:23:20.163208Z",
          "shell.execute_reply.started": "2022-04-11T12:12:08.538547Z"
        },
        "papermill": {
          "duration": 0.494222,
          "end_time": "2022-04-11T12:23:20.163408",
          "exception": false,
          "start_time": "2022-04-11T12:23:19.669186",
          "status": "completed"
        },
        "tags": [],
        "id": "de0e581e"
      },
      "outputs": [],
      "source": [
        "lgb_pipe.fit(train_X,train_y)\n",
        "\n",
        "lgb_pred=lgb_pipe.predict(val_X)"
      ]
    },
    {
      "cell_type": "code",
      "execution_count": null,
      "id": "afe52a8e",
      "metadata": {
        "execution": {
          "iopub.execute_input": "2022-04-11T12:23:20.392652Z",
          "iopub.status.busy": "2022-04-11T12:23:20.391918Z",
          "iopub.status.idle": "2022-04-11T12:23:20.401963Z",
          "shell.execute_reply": "2022-04-11T12:23:20.403304Z",
          "shell.execute_reply.started": "2022-04-11T12:12:08.875512Z"
        },
        "papermill": {
          "duration": 0.127335,
          "end_time": "2022-04-11T12:23:20.403669",
          "exception": false,
          "start_time": "2022-04-11T12:23:20.276334",
          "status": "completed"
        },
        "tags": [],
        "id": "afe52a8e",
        "outputId": "aa0f062a-2838-464b-f077-25032e3f0e69"
      },
      "outputs": [
        {
          "name": "stdout",
          "output_type": "stream",
          "text": [
            "Accuracy of Light GBM Model: 0.8125359401955147\n",
            "F1 Score of Light GBM Model: 0.8178770949720671\n",
            "Confusion Matrix of Light GBM Model\n"
          ]
        },
        {
          "data": {
            "text/plain": [
              "array([[681, 182],\n",
              "       [144, 732]])"
            ]
          },
          "execution_count": 46,
          "metadata": {},
          "output_type": "execute_result"
        }
      ],
      "source": [
        "print(f'Accuracy of Light GBM Model: {accuracy_score(val_y,lgb_pred)}')\n",
        "print(f'F1 Score of Light GBM Model: {f1_score(val_y,lgb_pred)}')\n",
        "print('Confusion Matrix of Light GBM Model')\n",
        "confusion_matrix(val_y,lgb_pred)"
      ]
    },
    {
      "cell_type": "markdown",
      "id": "13001747",
      "metadata": {
        "papermill": {
          "duration": 0.11555,
          "end_time": "2022-04-11T12:23:20.638211",
          "exception": false,
          "start_time": "2022-04-11T12:23:20.522661",
          "status": "completed"
        },
        "tags": [],
        "id": "13001747"
      },
      "source": [
        "# model building on test data"
      ]
    },
    {
      "cell_type": "markdown",
      "id": "671859c6",
      "metadata": {
        "papermill": {
          "duration": 0.123058,
          "end_time": "2022-04-11T12:23:20.880359",
          "exception": false,
          "start_time": "2022-04-11T12:23:20.757301",
          "status": "completed"
        },
        "tags": [],
        "id": "671859c6"
      },
      "source": [
        "- This are same steps as we did on training data so i will not address much untill it's something new\n"
      ]
    },
    {
      "cell_type": "code",
      "execution_count": null,
      "id": "b5bea6f8",
      "metadata": {
        "execution": {
          "iopub.execute_input": "2022-04-11T12:23:21.129279Z",
          "iopub.status.busy": "2022-04-11T12:23:21.128193Z",
          "iopub.status.idle": "2022-04-11T12:23:21.158125Z",
          "shell.execute_reply": "2022-04-11T12:23:21.158697Z",
          "shell.execute_reply.started": "2022-04-11T12:12:08.893900Z"
        },
        "papermill": {
          "duration": 0.156031,
          "end_time": "2022-04-11T12:23:21.158908",
          "exception": false,
          "start_time": "2022-04-11T12:23:21.002877",
          "status": "completed"
        },
        "tags": [],
        "id": "b5bea6f8"
      },
      "outputs": [],
      "source": [
        "test_data=pd.read_csv(r'/content/test.csv')\n",
        "test=test_data.copy()"
      ]
    },
    {
      "cell_type": "code",
      "execution_count": null,
      "id": "cf7567dc",
      "metadata": {
        "execution": {
          "iopub.execute_input": "2022-04-11T12:23:21.397048Z",
          "iopub.status.busy": "2022-04-11T12:23:21.396272Z",
          "iopub.status.idle": "2022-04-11T12:23:21.401059Z",
          "shell.execute_reply": "2022-04-11T12:23:21.401637Z",
          "shell.execute_reply.started": "2022-04-11T12:12:08.920339Z"
        },
        "papermill": {
          "duration": 0.127744,
          "end_time": "2022-04-11T12:23:21.401865",
          "exception": false,
          "start_time": "2022-04-11T12:23:21.274121",
          "status": "completed"
        },
        "tags": [],
        "id": "cf7567dc",
        "outputId": "9af41c80-1c0c-441e-81bc-05c8dafc3b0f"
      },
      "outputs": [
        {
          "data": {
            "text/plain": [
              "(4277, 13)"
            ]
          },
          "execution_count": 48,
          "metadata": {},
          "output_type": "execute_result"
        }
      ],
      "source": [
        "test.shape"
      ]
    },
    {
      "cell_type": "code",
      "execution_count": null,
      "id": "4b85ccf1",
      "metadata": {
        "execution": {
          "iopub.execute_input": "2022-04-11T12:23:21.632553Z",
          "iopub.status.busy": "2022-04-11T12:23:21.631900Z",
          "iopub.status.idle": "2022-04-11T12:23:21.670305Z",
          "shell.execute_reply": "2022-04-11T12:23:21.670849Z",
          "shell.execute_reply.started": "2022-04-11T12:12:08.928594Z"
        },
        "papermill": {
          "duration": 0.153769,
          "end_time": "2022-04-11T12:23:21.671033",
          "exception": false,
          "start_time": "2022-04-11T12:23:21.517264",
          "status": "completed"
        },
        "tags": [],
        "id": "4b85ccf1",
        "outputId": "3d73de98-2665-424d-f7aa-3010acd229b7"
      },
      "outputs": [
        {
          "data": {
            "text/html": [
              "<div>\n",
              "<style scoped>\n",
              "    .dataframe tbody tr th:only-of-type {\n",
              "        vertical-align: middle;\n",
              "    }\n",
              "\n",
              "    .dataframe tbody tr th {\n",
              "        vertical-align: top;\n",
              "    }\n",
              "\n",
              "    .dataframe thead th {\n",
              "        text-align: right;\n",
              "    }\n",
              "</style>\n",
              "<table border=\"1\" class=\"dataframe\">\n",
              "  <thead>\n",
              "    <tr style=\"text-align: right;\">\n",
              "      <th></th>\n",
              "      <th>PassengerId</th>\n",
              "      <th>HomePlanet</th>\n",
              "      <th>CryoSleep</th>\n",
              "      <th>Cabin</th>\n",
              "      <th>Destination</th>\n",
              "      <th>Age</th>\n",
              "      <th>VIP</th>\n",
              "      <th>RoomService</th>\n",
              "      <th>FoodCourt</th>\n",
              "      <th>ShoppingMall</th>\n",
              "      <th>Spa</th>\n",
              "      <th>VRDeck</th>\n",
              "      <th>Name</th>\n",
              "    </tr>\n",
              "  </thead>\n",
              "  <tbody>\n",
              "    <tr>\n",
              "      <th>0</th>\n",
              "      <td>0013_01</td>\n",
              "      <td>Earth</td>\n",
              "      <td>True</td>\n",
              "      <td>G/3/S</td>\n",
              "      <td>TRAPPIST-1e</td>\n",
              "      <td>27.0</td>\n",
              "      <td>False</td>\n",
              "      <td>0.0</td>\n",
              "      <td>0.0</td>\n",
              "      <td>0.0</td>\n",
              "      <td>0.0</td>\n",
              "      <td>0.0</td>\n",
              "      <td>Nelly Carsoning</td>\n",
              "    </tr>\n",
              "    <tr>\n",
              "      <th>1</th>\n",
              "      <td>0018_01</td>\n",
              "      <td>Earth</td>\n",
              "      <td>False</td>\n",
              "      <td>F/4/S</td>\n",
              "      <td>TRAPPIST-1e</td>\n",
              "      <td>19.0</td>\n",
              "      <td>False</td>\n",
              "      <td>0.0</td>\n",
              "      <td>9.0</td>\n",
              "      <td>0.0</td>\n",
              "      <td>2823.0</td>\n",
              "      <td>0.0</td>\n",
              "      <td>Lerome Peckers</td>\n",
              "    </tr>\n",
              "    <tr>\n",
              "      <th>2</th>\n",
              "      <td>0019_01</td>\n",
              "      <td>Europa</td>\n",
              "      <td>True</td>\n",
              "      <td>C/0/S</td>\n",
              "      <td>55 Cancri e</td>\n",
              "      <td>31.0</td>\n",
              "      <td>False</td>\n",
              "      <td>0.0</td>\n",
              "      <td>0.0</td>\n",
              "      <td>0.0</td>\n",
              "      <td>0.0</td>\n",
              "      <td>0.0</td>\n",
              "      <td>Sabih Unhearfus</td>\n",
              "    </tr>\n",
              "    <tr>\n",
              "      <th>3</th>\n",
              "      <td>0021_01</td>\n",
              "      <td>Europa</td>\n",
              "      <td>False</td>\n",
              "      <td>C/1/S</td>\n",
              "      <td>TRAPPIST-1e</td>\n",
              "      <td>38.0</td>\n",
              "      <td>False</td>\n",
              "      <td>0.0</td>\n",
              "      <td>6652.0</td>\n",
              "      <td>0.0</td>\n",
              "      <td>181.0</td>\n",
              "      <td>585.0</td>\n",
              "      <td>Meratz Caltilter</td>\n",
              "    </tr>\n",
              "    <tr>\n",
              "      <th>4</th>\n",
              "      <td>0023_01</td>\n",
              "      <td>Earth</td>\n",
              "      <td>False</td>\n",
              "      <td>F/5/S</td>\n",
              "      <td>TRAPPIST-1e</td>\n",
              "      <td>20.0</td>\n",
              "      <td>False</td>\n",
              "      <td>10.0</td>\n",
              "      <td>0.0</td>\n",
              "      <td>635.0</td>\n",
              "      <td>0.0</td>\n",
              "      <td>0.0</td>\n",
              "      <td>Brence Harperez</td>\n",
              "    </tr>\n",
              "    <tr>\n",
              "      <th>5</th>\n",
              "      <td>0027_01</td>\n",
              "      <td>Earth</td>\n",
              "      <td>False</td>\n",
              "      <td>F/7/P</td>\n",
              "      <td>TRAPPIST-1e</td>\n",
              "      <td>31.0</td>\n",
              "      <td>False</td>\n",
              "      <td>0.0</td>\n",
              "      <td>1615.0</td>\n",
              "      <td>263.0</td>\n",
              "      <td>113.0</td>\n",
              "      <td>60.0</td>\n",
              "      <td>Karlen Ricks</td>\n",
              "    </tr>\n",
              "    <tr>\n",
              "      <th>6</th>\n",
              "      <td>0029_01</td>\n",
              "      <td>Europa</td>\n",
              "      <td>True</td>\n",
              "      <td>B/2/P</td>\n",
              "      <td>55 Cancri e</td>\n",
              "      <td>21.0</td>\n",
              "      <td>False</td>\n",
              "      <td>0.0</td>\n",
              "      <td>NaN</td>\n",
              "      <td>0.0</td>\n",
              "      <td>0.0</td>\n",
              "      <td>0.0</td>\n",
              "      <td>Aldah Ainserfle</td>\n",
              "    </tr>\n",
              "    <tr>\n",
              "      <th>7</th>\n",
              "      <td>0032_01</td>\n",
              "      <td>Europa</td>\n",
              "      <td>True</td>\n",
              "      <td>D/0/S</td>\n",
              "      <td>TRAPPIST-1e</td>\n",
              "      <td>20.0</td>\n",
              "      <td>False</td>\n",
              "      <td>0.0</td>\n",
              "      <td>0.0</td>\n",
              "      <td>0.0</td>\n",
              "      <td>0.0</td>\n",
              "      <td>0.0</td>\n",
              "      <td>Acrabi Pringry</td>\n",
              "    </tr>\n",
              "    <tr>\n",
              "      <th>8</th>\n",
              "      <td>0032_02</td>\n",
              "      <td>Europa</td>\n",
              "      <td>True</td>\n",
              "      <td>D/0/S</td>\n",
              "      <td>55 Cancri e</td>\n",
              "      <td>23.0</td>\n",
              "      <td>False</td>\n",
              "      <td>0.0</td>\n",
              "      <td>0.0</td>\n",
              "      <td>0.0</td>\n",
              "      <td>0.0</td>\n",
              "      <td>0.0</td>\n",
              "      <td>Dhena Pringry</td>\n",
              "    </tr>\n",
              "    <tr>\n",
              "      <th>9</th>\n",
              "      <td>0033_01</td>\n",
              "      <td>Earth</td>\n",
              "      <td>False</td>\n",
              "      <td>F/7/S</td>\n",
              "      <td>55 Cancri e</td>\n",
              "      <td>24.0</td>\n",
              "      <td>False</td>\n",
              "      <td>0.0</td>\n",
              "      <td>639.0</td>\n",
              "      <td>0.0</td>\n",
              "      <td>0.0</td>\n",
              "      <td>0.0</td>\n",
              "      <td>Eliana Delazarson</td>\n",
              "    </tr>\n",
              "    <tr>\n",
              "      <th>10</th>\n",
              "      <td>0037_01</td>\n",
              "      <td>Earth</td>\n",
              "      <td>False</td>\n",
              "      <td>F/9/S</td>\n",
              "      <td>TRAPPIST-1e</td>\n",
              "      <td>19.0</td>\n",
              "      <td>False</td>\n",
              "      <td>339.0</td>\n",
              "      <td>3.0</td>\n",
              "      <td>136.0</td>\n",
              "      <td>237.0</td>\n",
              "      <td>0.0</td>\n",
              "      <td>Vivia Rickson</td>\n",
              "    </tr>\n",
              "    <tr>\n",
              "      <th>11</th>\n",
              "      <td>0040_01</td>\n",
              "      <td>Europa</td>\n",
              "      <td>False</td>\n",
              "      <td>D/2/P</td>\n",
              "      <td>TRAPPIST-1e</td>\n",
              "      <td>45.0</td>\n",
              "      <td>False</td>\n",
              "      <td>932.0</td>\n",
              "      <td>74.0</td>\n",
              "      <td>NaN</td>\n",
              "      <td>7.0</td>\n",
              "      <td>1010.0</td>\n",
              "      <td>Antino Pinoffent</td>\n",
              "    </tr>\n",
              "    <tr>\n",
              "      <th>12</th>\n",
              "      <td>0040_02</td>\n",
              "      <td>Europa</td>\n",
              "      <td>False</td>\n",
              "      <td>D/2/P</td>\n",
              "      <td>TRAPPIST-1e</td>\n",
              "      <td>44.0</td>\n",
              "      <td>False</td>\n",
              "      <td>0.0</td>\n",
              "      <td>1561.0</td>\n",
              "      <td>0.0</td>\n",
              "      <td>14.0</td>\n",
              "      <td>224.0</td>\n",
              "      <td>Jihda Pinoffent</td>\n",
              "    </tr>\n",
              "    <tr>\n",
              "      <th>13</th>\n",
              "      <td>0042_01</td>\n",
              "      <td>Mars</td>\n",
              "      <td>True</td>\n",
              "      <td>E/0/P</td>\n",
              "      <td>TRAPPIST-1e</td>\n",
              "      <td>46.0</td>\n",
              "      <td>False</td>\n",
              "      <td>0.0</td>\n",
              "      <td>0.0</td>\n",
              "      <td>0.0</td>\n",
              "      <td>0.0</td>\n",
              "      <td>0.0</td>\n",
              "      <td>Hamus Frité</td>\n",
              "    </tr>\n",
              "    <tr>\n",
              "      <th>14</th>\n",
              "      <td>0046_01</td>\n",
              "      <td>Earth</td>\n",
              "      <td>False</td>\n",
              "      <td>G/4/P</td>\n",
              "      <td>TRAPPIST-1e</td>\n",
              "      <td>21.0</td>\n",
              "      <td>False</td>\n",
              "      <td>0.0</td>\n",
              "      <td>0.0</td>\n",
              "      <td>0.0</td>\n",
              "      <td>1687.0</td>\n",
              "      <td>92.0</td>\n",
              "      <td>Neilda Powery</td>\n",
              "    </tr>\n",
              "    <tr>\n",
              "      <th>15</th>\n",
              "      <td>0046_02</td>\n",
              "      <td>Earth</td>\n",
              "      <td>False</td>\n",
              "      <td>F/11/P</td>\n",
              "      <td>TRAPPIST-1e</td>\n",
              "      <td>27.0</td>\n",
              "      <td>False</td>\n",
              "      <td>0.0</td>\n",
              "      <td>0.0</td>\n",
              "      <td>0.0</td>\n",
              "      <td>903.0</td>\n",
              "      <td>NaN</td>\n",
              "      <td>Glene Powery</td>\n",
              "    </tr>\n",
              "    <tr>\n",
              "      <th>16</th>\n",
              "      <td>0046_03</td>\n",
              "      <td>Earth</td>\n",
              "      <td>False</td>\n",
              "      <td>F/11/P</td>\n",
              "      <td>TRAPPIST-1e</td>\n",
              "      <td>20.0</td>\n",
              "      <td>False</td>\n",
              "      <td>2.0</td>\n",
              "      <td>12.0</td>\n",
              "      <td>253.0</td>\n",
              "      <td>457.0</td>\n",
              "      <td>690.0</td>\n",
              "      <td>Joanny Powery</td>\n",
              "    </tr>\n",
              "    <tr>\n",
              "      <th>17</th>\n",
              "      <td>0047_01</td>\n",
              "      <td>Europa</td>\n",
              "      <td>True</td>\n",
              "      <td>B/0/S</td>\n",
              "      <td>TRAPPIST-1e</td>\n",
              "      <td>44.0</td>\n",
              "      <td>False</td>\n",
              "      <td>0.0</td>\n",
              "      <td>0.0</td>\n",
              "      <td>0.0</td>\n",
              "      <td>0.0</td>\n",
              "      <td>0.0</td>\n",
              "      <td>Winonon Prucerod</td>\n",
              "    </tr>\n",
              "    <tr>\n",
              "      <th>18</th>\n",
              "      <td>0047_02</td>\n",
              "      <td>Europa</td>\n",
              "      <td>False</td>\n",
              "      <td>NaN</td>\n",
              "      <td>TRAPPIST-1e</td>\n",
              "      <td>29.0</td>\n",
              "      <td>False</td>\n",
              "      <td>0.0</td>\n",
              "      <td>7708.0</td>\n",
              "      <td>243.0</td>\n",
              "      <td>569.0</td>\n",
              "      <td>343.0</td>\n",
              "      <td>Muons Prucerod</td>\n",
              "    </tr>\n",
              "    <tr>\n",
              "      <th>19</th>\n",
              "      <td>0047_03</td>\n",
              "      <td>Europa</td>\n",
              "      <td>False</td>\n",
              "      <td>B/0/S</td>\n",
              "      <td>TRAPPIST-1e</td>\n",
              "      <td>40.0</td>\n",
              "      <td>False</td>\n",
              "      <td>26.0</td>\n",
              "      <td>1925.0</td>\n",
              "      <td>8.0</td>\n",
              "      <td>3144.0</td>\n",
              "      <td>63.0</td>\n",
              "      <td>NaN</td>\n",
              "    </tr>\n",
              "  </tbody>\n",
              "</table>\n",
              "</div>"
            ],
            "text/plain": [
              "   PassengerId HomePlanet CryoSleep   Cabin  Destination   Age    VIP  \\\n",
              "0      0013_01      Earth      True   G/3/S  TRAPPIST-1e  27.0  False   \n",
              "1      0018_01      Earth     False   F/4/S  TRAPPIST-1e  19.0  False   \n",
              "2      0019_01     Europa      True   C/0/S  55 Cancri e  31.0  False   \n",
              "3      0021_01     Europa     False   C/1/S  TRAPPIST-1e  38.0  False   \n",
              "4      0023_01      Earth     False   F/5/S  TRAPPIST-1e  20.0  False   \n",
              "5      0027_01      Earth     False   F/7/P  TRAPPIST-1e  31.0  False   \n",
              "6      0029_01     Europa      True   B/2/P  55 Cancri e  21.0  False   \n",
              "7      0032_01     Europa      True   D/0/S  TRAPPIST-1e  20.0  False   \n",
              "8      0032_02     Europa      True   D/0/S  55 Cancri e  23.0  False   \n",
              "9      0033_01      Earth     False   F/7/S  55 Cancri e  24.0  False   \n",
              "10     0037_01      Earth     False   F/9/S  TRAPPIST-1e  19.0  False   \n",
              "11     0040_01     Europa     False   D/2/P  TRAPPIST-1e  45.0  False   \n",
              "12     0040_02     Europa     False   D/2/P  TRAPPIST-1e  44.0  False   \n",
              "13     0042_01       Mars      True   E/0/P  TRAPPIST-1e  46.0  False   \n",
              "14     0046_01      Earth     False   G/4/P  TRAPPIST-1e  21.0  False   \n",
              "15     0046_02      Earth     False  F/11/P  TRAPPIST-1e  27.0  False   \n",
              "16     0046_03      Earth     False  F/11/P  TRAPPIST-1e  20.0  False   \n",
              "17     0047_01     Europa      True   B/0/S  TRAPPIST-1e  44.0  False   \n",
              "18     0047_02     Europa     False     NaN  TRAPPIST-1e  29.0  False   \n",
              "19     0047_03     Europa     False   B/0/S  TRAPPIST-1e  40.0  False   \n",
              "\n",
              "    RoomService  FoodCourt  ShoppingMall     Spa  VRDeck               Name  \n",
              "0           0.0        0.0           0.0     0.0     0.0    Nelly Carsoning  \n",
              "1           0.0        9.0           0.0  2823.0     0.0     Lerome Peckers  \n",
              "2           0.0        0.0           0.0     0.0     0.0    Sabih Unhearfus  \n",
              "3           0.0     6652.0           0.0   181.0   585.0   Meratz Caltilter  \n",
              "4          10.0        0.0         635.0     0.0     0.0    Brence Harperez  \n",
              "5           0.0     1615.0         263.0   113.0    60.0       Karlen Ricks  \n",
              "6           0.0        NaN           0.0     0.0     0.0    Aldah Ainserfle  \n",
              "7           0.0        0.0           0.0     0.0     0.0     Acrabi Pringry  \n",
              "8           0.0        0.0           0.0     0.0     0.0      Dhena Pringry  \n",
              "9           0.0      639.0           0.0     0.0     0.0  Eliana Delazarson  \n",
              "10        339.0        3.0         136.0   237.0     0.0      Vivia Rickson  \n",
              "11        932.0       74.0           NaN     7.0  1010.0   Antino Pinoffent  \n",
              "12          0.0     1561.0           0.0    14.0   224.0    Jihda Pinoffent  \n",
              "13          0.0        0.0           0.0     0.0     0.0        Hamus Frité  \n",
              "14          0.0        0.0           0.0  1687.0    92.0      Neilda Powery  \n",
              "15          0.0        0.0           0.0   903.0     NaN       Glene Powery  \n",
              "16          2.0       12.0         253.0   457.0   690.0      Joanny Powery  \n",
              "17          0.0        0.0           0.0     0.0     0.0   Winonon Prucerod  \n",
              "18          0.0     7708.0         243.0   569.0   343.0     Muons Prucerod  \n",
              "19         26.0     1925.0           8.0  3144.0    63.0                NaN  "
            ]
          },
          "execution_count": 49,
          "metadata": {},
          "output_type": "execute_result"
        }
      ],
      "source": [
        "test.head(20)"
      ]
    },
    {
      "cell_type": "code",
      "execution_count": null,
      "id": "d85a1eeb",
      "metadata": {
        "execution": {
          "iopub.execute_input": "2022-04-11T12:23:21.901848Z",
          "iopub.status.busy": "2022-04-11T12:23:21.900863Z",
          "iopub.status.idle": "2022-04-11T12:23:21.918317Z",
          "shell.execute_reply": "2022-04-11T12:23:21.918847Z",
          "shell.execute_reply.started": "2022-04-11T12:12:08.968958Z"
        },
        "papermill": {
          "duration": 0.133486,
          "end_time": "2022-04-11T12:23:21.919021",
          "exception": false,
          "start_time": "2022-04-11T12:23:21.785535",
          "status": "completed"
        },
        "tags": [],
        "id": "d85a1eeb",
        "outputId": "0257d391-9946-46db-aeaa-374f509c4328"
      },
      "outputs": [
        {
          "name": "stdout",
          "output_type": "stream",
          "text": [
            "<class 'pandas.core.frame.DataFrame'>\n",
            "RangeIndex: 4277 entries, 0 to 4276\n",
            "Data columns (total 13 columns):\n",
            " #   Column        Non-Null Count  Dtype  \n",
            "---  ------        --------------  -----  \n",
            " 0   PassengerId   4277 non-null   object \n",
            " 1   HomePlanet    4190 non-null   object \n",
            " 2   CryoSleep     4184 non-null   object \n",
            " 3   Cabin         4177 non-null   object \n",
            " 4   Destination   4185 non-null   object \n",
            " 5   Age           4186 non-null   float64\n",
            " 6   VIP           4184 non-null   object \n",
            " 7   RoomService   4195 non-null   float64\n",
            " 8   FoodCourt     4171 non-null   float64\n",
            " 9   ShoppingMall  4179 non-null   float64\n",
            " 10  Spa           4176 non-null   float64\n",
            " 11  VRDeck        4197 non-null   float64\n",
            " 12  Name          4183 non-null   object \n",
            "dtypes: float64(6), object(7)\n",
            "memory usage: 434.5+ KB\n"
          ]
        }
      ],
      "source": [
        "test.info()"
      ]
    },
    {
      "cell_type": "code",
      "execution_count": null,
      "id": "19cdcf4b",
      "metadata": {
        "execution": {
          "iopub.execute_input": "2022-04-11T12:23:22.149235Z",
          "iopub.status.busy": "2022-04-11T12:23:22.148276Z",
          "iopub.status.idle": "2022-04-11T12:23:22.182948Z",
          "shell.execute_reply": "2022-04-11T12:23:22.183408Z",
          "shell.execute_reply.started": "2022-04-11T12:13:54.001042Z"
        },
        "papermill": {
          "duration": 0.152157,
          "end_time": "2022-04-11T12:23:22.183577",
          "exception": false,
          "start_time": "2022-04-11T12:23:22.031420",
          "status": "completed"
        },
        "tags": [],
        "id": "19cdcf4b",
        "outputId": "4d51573f-8c5a-455d-f909-a523966cfef1"
      },
      "outputs": [
        {
          "data": {
            "text/html": [
              "<div>\n",
              "<style scoped>\n",
              "    .dataframe tbody tr th:only-of-type {\n",
              "        vertical-align: middle;\n",
              "    }\n",
              "\n",
              "    .dataframe tbody tr th {\n",
              "        vertical-align: top;\n",
              "    }\n",
              "\n",
              "    .dataframe thead th {\n",
              "        text-align: right;\n",
              "    }\n",
              "</style>\n",
              "<table border=\"1\" class=\"dataframe\">\n",
              "  <thead>\n",
              "    <tr style=\"text-align: right;\">\n",
              "      <th></th>\n",
              "      <th>count</th>\n",
              "      <th>mean</th>\n",
              "      <th>std</th>\n",
              "      <th>min</th>\n",
              "      <th>25%</th>\n",
              "      <th>50%</th>\n",
              "      <th>75%</th>\n",
              "      <th>max</th>\n",
              "    </tr>\n",
              "  </thead>\n",
              "  <tbody>\n",
              "    <tr>\n",
              "      <th>Age</th>\n",
              "      <td>4186.0</td>\n",
              "      <td>28.658146</td>\n",
              "      <td>14.179072</td>\n",
              "      <td>0.0</td>\n",
              "      <td>19.0</td>\n",
              "      <td>26.0</td>\n",
              "      <td>37.0</td>\n",
              "      <td>79.0</td>\n",
              "    </tr>\n",
              "    <tr>\n",
              "      <th>RoomService</th>\n",
              "      <td>4195.0</td>\n",
              "      <td>219.266269</td>\n",
              "      <td>607.011289</td>\n",
              "      <td>0.0</td>\n",
              "      <td>0.0</td>\n",
              "      <td>0.0</td>\n",
              "      <td>53.0</td>\n",
              "      <td>11567.0</td>\n",
              "    </tr>\n",
              "    <tr>\n",
              "      <th>FoodCourt</th>\n",
              "      <td>4171.0</td>\n",
              "      <td>439.484296</td>\n",
              "      <td>1527.663045</td>\n",
              "      <td>0.0</td>\n",
              "      <td>0.0</td>\n",
              "      <td>0.0</td>\n",
              "      <td>78.0</td>\n",
              "      <td>25273.0</td>\n",
              "    </tr>\n",
              "    <tr>\n",
              "      <th>ShoppingMall</th>\n",
              "      <td>4179.0</td>\n",
              "      <td>177.295525</td>\n",
              "      <td>560.821123</td>\n",
              "      <td>0.0</td>\n",
              "      <td>0.0</td>\n",
              "      <td>0.0</td>\n",
              "      <td>33.0</td>\n",
              "      <td>8292.0</td>\n",
              "    </tr>\n",
              "    <tr>\n",
              "      <th>Spa</th>\n",
              "      <td>4176.0</td>\n",
              "      <td>303.052443</td>\n",
              "      <td>1117.186015</td>\n",
              "      <td>0.0</td>\n",
              "      <td>0.0</td>\n",
              "      <td>0.0</td>\n",
              "      <td>50.0</td>\n",
              "      <td>19844.0</td>\n",
              "    </tr>\n",
              "    <tr>\n",
              "      <th>VRDeck</th>\n",
              "      <td>4197.0</td>\n",
              "      <td>310.710031</td>\n",
              "      <td>1246.994742</td>\n",
              "      <td>0.0</td>\n",
              "      <td>0.0</td>\n",
              "      <td>0.0</td>\n",
              "      <td>36.0</td>\n",
              "      <td>22272.0</td>\n",
              "    </tr>\n",
              "  </tbody>\n",
              "</table>\n",
              "</div>"
            ],
            "text/plain": [
              "               count        mean          std  min   25%   50%   75%      max\n",
              "Age           4186.0   28.658146    14.179072  0.0  19.0  26.0  37.0     79.0\n",
              "RoomService   4195.0  219.266269   607.011289  0.0   0.0   0.0  53.0  11567.0\n",
              "FoodCourt     4171.0  439.484296  1527.663045  0.0   0.0   0.0  78.0  25273.0\n",
              "ShoppingMall  4179.0  177.295525   560.821123  0.0   0.0   0.0  33.0   8292.0\n",
              "Spa           4176.0  303.052443  1117.186015  0.0   0.0   0.0  50.0  19844.0\n",
              "VRDeck        4197.0  310.710031  1246.994742  0.0   0.0   0.0  36.0  22272.0"
            ]
          },
          "execution_count": 51,
          "metadata": {},
          "output_type": "execute_result"
        }
      ],
      "source": [
        "test.describe().T"
      ]
    },
    {
      "cell_type": "code",
      "execution_count": null,
      "id": "b62c39c3",
      "metadata": {
        "execution": {
          "iopub.execute_input": "2022-04-11T12:23:22.417084Z",
          "iopub.status.busy": "2022-04-11T12:23:22.416404Z",
          "iopub.status.idle": "2022-04-11T12:23:22.430802Z",
          "shell.execute_reply": "2022-04-11T12:23:22.430271Z",
          "shell.execute_reply.started": "2022-04-11T12:12:09.020161Z"
        },
        "papermill": {
          "duration": 0.132756,
          "end_time": "2022-04-11T12:23:22.430944",
          "exception": false,
          "start_time": "2022-04-11T12:23:22.298188",
          "status": "completed"
        },
        "tags": [],
        "id": "b62c39c3",
        "outputId": "70c19812-c5ba-4d2f-de75-0de3b602bf3e"
      },
      "outputs": [
        {
          "data": {
            "text/plain": [
              "PassengerId     4277\n",
              "HomePlanet         3\n",
              "CryoSleep          2\n",
              "Cabin           3265\n",
              "Destination        3\n",
              "Age               79\n",
              "VIP                2\n",
              "RoomService      842\n",
              "FoodCourt        902\n",
              "ShoppingMall     715\n",
              "Spa              833\n",
              "VRDeck           796\n",
              "Name            4176\n",
              "dtype: int64"
            ]
          },
          "execution_count": 52,
          "metadata": {},
          "output_type": "execute_result"
        }
      ],
      "source": [
        "test.nunique()"
      ]
    },
    {
      "cell_type": "code",
      "execution_count": null,
      "id": "cd4f0e41",
      "metadata": {
        "execution": {
          "iopub.execute_input": "2022-04-11T12:23:22.666808Z",
          "iopub.status.busy": "2022-04-11T12:23:22.666106Z",
          "iopub.status.idle": "2022-04-11T12:23:22.669325Z",
          "shell.execute_reply": "2022-04-11T12:23:22.669825Z",
          "shell.execute_reply.started": "2022-04-11T12:12:09.037803Z"
        },
        "papermill": {
          "duration": 0.12529,
          "end_time": "2022-04-11T12:23:22.670016",
          "exception": false,
          "start_time": "2022-04-11T12:23:22.544726",
          "status": "completed"
        },
        "tags": [],
        "id": "cd4f0e41"
      },
      "outputs": [],
      "source": [
        "test.Cabin=test.Cabin.fillna(test.Cabin.mode()[0])\n"
      ]
    },
    {
      "cell_type": "code",
      "execution_count": null,
      "id": "88096c46",
      "metadata": {
        "execution": {
          "iopub.execute_input": "2022-04-11T12:23:22.911497Z",
          "iopub.status.busy": "2022-04-11T12:23:22.910803Z",
          "iopub.status.idle": "2022-04-11T12:23:22.913740Z",
          "shell.execute_reply": "2022-04-11T12:23:22.914246Z",
          "shell.execute_reply.started": "2022-04-11T12:12:09.047393Z"
        },
        "papermill": {
          "duration": 0.128847,
          "end_time": "2022-04-11T12:23:22.914419",
          "exception": false,
          "start_time": "2022-04-11T12:23:22.785572",
          "status": "completed"
        },
        "tags": [],
        "id": "88096c46",
        "outputId": "12bbc788-e1ac-4e5c-d833-106819a023bf"
      },
      "outputs": [
        {
          "data": {
            "text/plain": [
              "0       S\n",
              "1       S\n",
              "2       S\n",
              "3       S\n",
              "4       S\n",
              "       ..\n",
              "4272    S\n",
              "4273    P\n",
              "4274    P\n",
              "4275    P\n",
              "4276    S\n",
              "Name: Cabin Side, Length: 4277, dtype: object"
            ]
          },
          "execution_count": 54,
          "metadata": {},
          "output_type": "execute_result"
        }
      ],
      "source": [
        "test['Cabin Side']=test.Cabin.map(lambda x: x[-1]) \n",
        "test['Cabin Side']\n"
      ]
    },
    {
      "cell_type": "code",
      "execution_count": null,
      "id": "d9219b7e",
      "metadata": {
        "execution": {
          "iopub.execute_input": "2022-04-11T12:23:23.148030Z",
          "iopub.status.busy": "2022-04-11T12:23:23.147389Z",
          "iopub.status.idle": "2022-04-11T12:23:23.157021Z",
          "shell.execute_reply": "2022-04-11T12:23:23.157642Z",
          "shell.execute_reply.started": "2022-04-11T12:12:09.066028Z"
        },
        "papermill": {
          "duration": 0.128635,
          "end_time": "2022-04-11T12:23:23.157819",
          "exception": false,
          "start_time": "2022-04-11T12:23:23.029184",
          "status": "completed"
        },
        "tags": [],
        "id": "d9219b7e",
        "outputId": "00baede6-f25f-42a7-f050-6e8fb6d08861"
      },
      "outputs": [
        {
          "data": {
            "text/plain": [
              "0       G\n",
              "1       F\n",
              "2       C\n",
              "3       C\n",
              "4       F\n",
              "       ..\n",
              "4272    G\n",
              "4273    G\n",
              "4274    D\n",
              "4275    D\n",
              "4276    G\n",
              "Name: Cabin Deck, Length: 4277, dtype: object"
            ]
          },
          "execution_count": 55,
          "metadata": {},
          "output_type": "execute_result"
        }
      ],
      "source": [
        "test['Cabin Deck']=test.Cabin.map(lambda x: x[0])\n",
        "test['Cabin Deck']"
      ]
    },
    {
      "cell_type": "code",
      "execution_count": null,
      "id": "860b3fe7",
      "metadata": {
        "execution": {
          "iopub.execute_input": "2022-04-11T12:23:23.391366Z",
          "iopub.status.busy": "2022-04-11T12:23:23.390678Z",
          "iopub.status.idle": "2022-04-11T12:23:23.398269Z",
          "shell.execute_reply": "2022-04-11T12:23:23.398767Z",
          "shell.execute_reply.started": "2022-04-11T12:12:09.092434Z"
        },
        "papermill": {
          "duration": 0.127461,
          "end_time": "2022-04-11T12:23:23.398937",
          "exception": false,
          "start_time": "2022-04-11T12:23:23.271476",
          "status": "completed"
        },
        "tags": [],
        "id": "860b3fe7",
        "outputId": "f812caba-a3e5-4818-d757-ef202ffe641d"
      },
      "outputs": [
        {
          "data": {
            "text/plain": [
              "0       3\n",
              "1       4\n",
              "2       0\n",
              "3       1\n",
              "4       5\n",
              "       ..\n",
              "4272    1\n",
              "4273    1\n",
              "4274    2\n",
              "4275    2\n",
              "4276    1\n",
              "Name: Cabin Num, Length: 4277, dtype: object"
            ]
          },
          "execution_count": 56,
          "metadata": {},
          "output_type": "execute_result"
        }
      ],
      "source": [
        "test['Cabin Num']=test.Cabin.map(lambda x: x[2])\n",
        "test['Cabin Num']"
      ]
    },
    {
      "cell_type": "code",
      "execution_count": null,
      "id": "2d26e28d",
      "metadata": {
        "execution": {
          "iopub.execute_input": "2022-04-11T12:23:23.630973Z",
          "iopub.status.busy": "2022-04-11T12:23:23.630286Z",
          "iopub.status.idle": "2022-04-11T12:23:23.637093Z",
          "shell.execute_reply": "2022-04-11T12:23:23.637614Z",
          "shell.execute_reply.started": "2022-04-11T12:12:09.105209Z"
        },
        "papermill": {
          "duration": 0.125009,
          "end_time": "2022-04-11T12:23:23.637800",
          "exception": false,
          "start_time": "2022-04-11T12:23:23.512791",
          "status": "completed"
        },
        "tags": [],
        "id": "2d26e28d"
      },
      "outputs": [],
      "source": [
        "test=test.drop(cols_to_drop,axis=1)"
      ]
    },
    {
      "cell_type": "code",
      "execution_count": null,
      "id": "c10acbc7",
      "metadata": {
        "execution": {
          "iopub.execute_input": "2022-04-11T12:23:23.870579Z",
          "iopub.status.busy": "2022-04-11T12:23:23.869949Z",
          "iopub.status.idle": "2022-04-11T12:23:23.889804Z",
          "shell.execute_reply": "2022-04-11T12:23:23.890460Z",
          "shell.execute_reply.started": "2022-04-11T12:12:09.115979Z"
        },
        "papermill": {
          "duration": 0.138769,
          "end_time": "2022-04-11T12:23:23.890653",
          "exception": false,
          "start_time": "2022-04-11T12:23:23.751884",
          "status": "completed"
        },
        "tags": [],
        "id": "c10acbc7",
        "outputId": "38040881-51e0-415a-f7e5-89ecae8282ab"
      },
      "outputs": [
        {
          "data": {
            "text/html": [
              "<div>\n",
              "<style scoped>\n",
              "    .dataframe tbody tr th:only-of-type {\n",
              "        vertical-align: middle;\n",
              "    }\n",
              "\n",
              "    .dataframe tbody tr th {\n",
              "        vertical-align: top;\n",
              "    }\n",
              "\n",
              "    .dataframe thead th {\n",
              "        text-align: right;\n",
              "    }\n",
              "</style>\n",
              "<table border=\"1\" class=\"dataframe\">\n",
              "  <thead>\n",
              "    <tr style=\"text-align: right;\">\n",
              "      <th></th>\n",
              "      <th>HomePlanet</th>\n",
              "      <th>CryoSleep</th>\n",
              "      <th>Age</th>\n",
              "      <th>VIP</th>\n",
              "      <th>RoomService</th>\n",
              "      <th>FoodCourt</th>\n",
              "      <th>ShoppingMall</th>\n",
              "      <th>Spa</th>\n",
              "      <th>VRDeck</th>\n",
              "      <th>Cabin Side</th>\n",
              "      <th>Cabin Deck</th>\n",
              "      <th>Cabin Num</th>\n",
              "    </tr>\n",
              "  </thead>\n",
              "  <tbody>\n",
              "    <tr>\n",
              "      <th>0</th>\n",
              "      <td>Earth</td>\n",
              "      <td>True</td>\n",
              "      <td>27.0</td>\n",
              "      <td>False</td>\n",
              "      <td>0.0</td>\n",
              "      <td>0.0</td>\n",
              "      <td>0.0</td>\n",
              "      <td>0.0</td>\n",
              "      <td>0.0</td>\n",
              "      <td>S</td>\n",
              "      <td>G</td>\n",
              "      <td>3</td>\n",
              "    </tr>\n",
              "    <tr>\n",
              "      <th>1</th>\n",
              "      <td>Earth</td>\n",
              "      <td>False</td>\n",
              "      <td>19.0</td>\n",
              "      <td>False</td>\n",
              "      <td>0.0</td>\n",
              "      <td>9.0</td>\n",
              "      <td>0.0</td>\n",
              "      <td>2823.0</td>\n",
              "      <td>0.0</td>\n",
              "      <td>S</td>\n",
              "      <td>F</td>\n",
              "      <td>4</td>\n",
              "    </tr>\n",
              "    <tr>\n",
              "      <th>2</th>\n",
              "      <td>Europa</td>\n",
              "      <td>True</td>\n",
              "      <td>31.0</td>\n",
              "      <td>False</td>\n",
              "      <td>0.0</td>\n",
              "      <td>0.0</td>\n",
              "      <td>0.0</td>\n",
              "      <td>0.0</td>\n",
              "      <td>0.0</td>\n",
              "      <td>S</td>\n",
              "      <td>C</td>\n",
              "      <td>0</td>\n",
              "    </tr>\n",
              "    <tr>\n",
              "      <th>3</th>\n",
              "      <td>Europa</td>\n",
              "      <td>False</td>\n",
              "      <td>38.0</td>\n",
              "      <td>False</td>\n",
              "      <td>0.0</td>\n",
              "      <td>6652.0</td>\n",
              "      <td>0.0</td>\n",
              "      <td>181.0</td>\n",
              "      <td>585.0</td>\n",
              "      <td>S</td>\n",
              "      <td>C</td>\n",
              "      <td>1</td>\n",
              "    </tr>\n",
              "    <tr>\n",
              "      <th>4</th>\n",
              "      <td>Earth</td>\n",
              "      <td>False</td>\n",
              "      <td>20.0</td>\n",
              "      <td>False</td>\n",
              "      <td>10.0</td>\n",
              "      <td>0.0</td>\n",
              "      <td>635.0</td>\n",
              "      <td>0.0</td>\n",
              "      <td>0.0</td>\n",
              "      <td>S</td>\n",
              "      <td>F</td>\n",
              "      <td>5</td>\n",
              "    </tr>\n",
              "  </tbody>\n",
              "</table>\n",
              "</div>"
            ],
            "text/plain": [
              "  HomePlanet CryoSleep   Age    VIP  RoomService  FoodCourt  ShoppingMall  \\\n",
              "0      Earth      True  27.0  False          0.0        0.0           0.0   \n",
              "1      Earth     False  19.0  False          0.0        9.0           0.0   \n",
              "2     Europa      True  31.0  False          0.0        0.0           0.0   \n",
              "3     Europa     False  38.0  False          0.0     6652.0           0.0   \n",
              "4      Earth     False  20.0  False         10.0        0.0         635.0   \n",
              "\n",
              "      Spa  VRDeck Cabin Side Cabin Deck Cabin Num  \n",
              "0     0.0     0.0          S          G         3  \n",
              "1  2823.0     0.0          S          F         4  \n",
              "2     0.0     0.0          S          C         0  \n",
              "3   181.0   585.0          S          C         1  \n",
              "4     0.0     0.0          S          F         5  "
            ]
          },
          "execution_count": 58,
          "metadata": {},
          "output_type": "execute_result"
        }
      ],
      "source": [
        "test.head()"
      ]
    },
    {
      "cell_type": "markdown",
      "id": "eb0ddb1c",
      "metadata": {
        "papermill": {
          "duration": 0.114434,
          "end_time": "2022-04-11T12:23:24.120934",
          "exception": false,
          "start_time": "2022-04-11T12:23:24.006500",
          "status": "completed"
        },
        "tags": [],
        "id": "eb0ddb1c"
      },
      "source": [
        "#### Now we will train again on our whole traing data and make predictions on our test data for submission for our competition"
      ]
    },
    {
      "cell_type": "code",
      "execution_count": null,
      "id": "59a826f9",
      "metadata": {
        "execution": {
          "iopub.execute_input": "2022-04-11T12:23:24.353751Z",
          "iopub.status.busy": "2022-04-11T12:23:24.353075Z",
          "iopub.status.idle": "2022-04-11T12:23:24.739281Z",
          "shell.execute_reply": "2022-04-11T12:23:24.740008Z",
          "shell.execute_reply.started": "2022-04-11T12:12:09.199236Z"
        },
        "papermill": {
          "duration": 0.504679,
          "end_time": "2022-04-11T12:23:24.740219",
          "exception": false,
          "start_time": "2022-04-11T12:23:24.235540",
          "status": "completed"
        },
        "tags": [],
        "id": "59a826f9",
        "outputId": "45dd0379-e679-4cc0-a255-daaaac43fc67"
      },
      "outputs": [
        {
          "data": {
            "text/plain": [
              "Pipeline(steps=[('preprocess',\n",
              "                 ColumnTransformer(transformers=[('num',\n",
              "                                                  Pipeline(steps=[('impute',\n",
              "                                                                   SimpleImputer()),\n",
              "                                                                  ('scaling',\n",
              "                                                                   StandardScaler())]),\n",
              "                                                  ['Age', 'RoomService',\n",
              "                                                   'FoodCourt', 'ShoppingMall',\n",
              "                                                   'Spa', 'VRDeck']),\n",
              "                                                 ('obj',\n",
              "                                                  Pipeline(steps=[('impute',\n",
              "                                                                   SimpleImputer(strategy='most_frequent')),\n",
              "                                                                  ('encode',\n",
              "                                                                   OneHotEncoder(handle_unknown='ignore'))]),\n",
              "                                                  ['HomePlanet', 'CryoSleep',\n",
              "                                                   'VIP', 'Cabin Side',\n",
              "                                                   'Cabin Deck',\n",
              "                                                   'Cabin Num'])])),\n",
              "                ('model',\n",
              "                 LGBMClassifier(max_depth=20, min_child_samples=2,\n",
              "                                num_leaves=40, random_state=0))])"
            ]
          },
          "execution_count": 59,
          "metadata": {},
          "output_type": "execute_result"
        }
      ],
      "source": [
        "lgb_pipe.fit(X,Y)"
      ]
    },
    {
      "cell_type": "code",
      "execution_count": null,
      "id": "889f5b18",
      "metadata": {
        "execution": {
          "iopub.execute_input": "2022-04-11T12:23:24.991026Z",
          "iopub.status.busy": "2022-04-11T12:23:24.990079Z",
          "iopub.status.idle": "2022-04-11T12:23:25.020896Z",
          "shell.execute_reply": "2022-04-11T12:23:25.021521Z",
          "shell.execute_reply.started": "2022-04-11T12:12:09.426699Z"
        },
        "papermill": {
          "duration": 0.156228,
          "end_time": "2022-04-11T12:23:25.021790",
          "exception": false,
          "start_time": "2022-04-11T12:23:24.865562",
          "status": "completed"
        },
        "tags": [],
        "id": "889f5b18"
      },
      "outputs": [],
      "source": [
        "test_pred=lgb_pipe.predict(test) "
      ]
    },
    {
      "cell_type": "code",
      "execution_count": null,
      "id": "97b2ff3b",
      "metadata": {
        "execution": {
          "iopub.execute_input": "2022-04-11T12:23:25.275303Z",
          "iopub.status.busy": "2022-04-11T12:23:25.274325Z",
          "iopub.status.idle": "2022-04-11T12:23:25.277552Z",
          "shell.execute_reply": "2022-04-11T12:23:25.278084Z",
          "shell.execute_reply.started": "2022-04-11T12:12:09.449727Z"
        },
        "papermill": {
          "duration": 0.131801,
          "end_time": "2022-04-11T12:23:25.278284",
          "exception": false,
          "start_time": "2022-04-11T12:23:25.146483",
          "status": "completed"
        },
        "tags": [],
        "id": "97b2ff3b",
        "outputId": "371f73d5-cdbe-482a-cc8f-c72471a6d317"
      },
      "outputs": [
        {
          "data": {
            "text/plain": [
              "(4277,)"
            ]
          },
          "execution_count": 61,
          "metadata": {},
          "output_type": "execute_result"
        }
      ],
      "source": [
        "test_pred.shape"
      ]
    },
    {
      "cell_type": "markdown",
      "id": "1a79b2df",
      "metadata": {
        "papermill": {
          "duration": 0.120112,
          "end_time": "2022-04-11T12:23:25.524202",
          "exception": false,
          "start_time": "2022-04-11T12:23:25.404090",
          "status": "completed"
        },
        "tags": [],
        "id": "1a79b2df"
      },
      "source": [
        "\n",
        "# submission"
      ]
    },
    {
      "cell_type": "code",
      "execution_count": null,
      "id": "f5dec7a3",
      "metadata": {
        "execution": {
          "iopub.execute_input": "2022-04-11T12:23:25.761019Z",
          "iopub.status.busy": "2022-04-11T12:23:25.760317Z",
          "iopub.status.idle": "2022-04-11T12:23:25.776085Z",
          "shell.execute_reply": "2022-04-11T12:23:25.775409Z",
          "shell.execute_reply.started": "2022-04-11T12:12:09.458613Z"
        },
        "papermill": {
          "duration": 0.134707,
          "end_time": "2022-04-11T12:23:25.776234",
          "exception": false,
          "start_time": "2022-04-11T12:23:25.641527",
          "status": "completed"
        },
        "tags": [],
        "id": "f5dec7a3",
        "outputId": "be4d0a9f-b65a-4bc7-9f4a-30105a204305"
      },
      "outputs": [
        {
          "data": {
            "text/html": [
              "<div>\n",
              "<style scoped>\n",
              "    .dataframe tbody tr th:only-of-type {\n",
              "        vertical-align: middle;\n",
              "    }\n",
              "\n",
              "    .dataframe tbody tr th {\n",
              "        vertical-align: top;\n",
              "    }\n",
              "\n",
              "    .dataframe thead th {\n",
              "        text-align: right;\n",
              "    }\n",
              "</style>\n",
              "<table border=\"1\" class=\"dataframe\">\n",
              "  <thead>\n",
              "    <tr style=\"text-align: right;\">\n",
              "      <th></th>\n",
              "      <th>PassengerId</th>\n",
              "      <th>Transported</th>\n",
              "    </tr>\n",
              "  </thead>\n",
              "  <tbody>\n",
              "    <tr>\n",
              "      <th>0</th>\n",
              "      <td>0013_01</td>\n",
              "      <td>0</td>\n",
              "    </tr>\n",
              "    <tr>\n",
              "      <th>1</th>\n",
              "      <td>0018_01</td>\n",
              "      <td>0</td>\n",
              "    </tr>\n",
              "    <tr>\n",
              "      <th>2</th>\n",
              "      <td>0019_01</td>\n",
              "      <td>1</td>\n",
              "    </tr>\n",
              "    <tr>\n",
              "      <th>3</th>\n",
              "      <td>0021_01</td>\n",
              "      <td>1</td>\n",
              "    </tr>\n",
              "    <tr>\n",
              "      <th>4</th>\n",
              "      <td>0023_01</td>\n",
              "      <td>1</td>\n",
              "    </tr>\n",
              "    <tr>\n",
              "      <th>...</th>\n",
              "      <td>...</td>\n",
              "      <td>...</td>\n",
              "    </tr>\n",
              "    <tr>\n",
              "      <th>4272</th>\n",
              "      <td>9266_02</td>\n",
              "      <td>1</td>\n",
              "    </tr>\n",
              "    <tr>\n",
              "      <th>4273</th>\n",
              "      <td>9269_01</td>\n",
              "      <td>0</td>\n",
              "    </tr>\n",
              "    <tr>\n",
              "      <th>4274</th>\n",
              "      <td>9271_01</td>\n",
              "      <td>1</td>\n",
              "    </tr>\n",
              "    <tr>\n",
              "      <th>4275</th>\n",
              "      <td>9273_01</td>\n",
              "      <td>1</td>\n",
              "    </tr>\n",
              "    <tr>\n",
              "      <th>4276</th>\n",
              "      <td>9277_01</td>\n",
              "      <td>1</td>\n",
              "    </tr>\n",
              "  </tbody>\n",
              "</table>\n",
              "<p>4277 rows × 2 columns</p>\n",
              "</div>"
            ],
            "text/plain": [
              "     PassengerId  Transported\n",
              "0        0013_01            0\n",
              "1        0018_01            0\n",
              "2        0019_01            1\n",
              "3        0021_01            1\n",
              "4        0023_01            1\n",
              "...          ...          ...\n",
              "4272     9266_02            1\n",
              "4273     9269_01            0\n",
              "4274     9271_01            1\n",
              "4275     9273_01            1\n",
              "4276     9277_01            1\n",
              "\n",
              "[4277 rows x 2 columns]"
            ]
          },
          "execution_count": 62,
          "metadata": {},
          "output_type": "execute_result"
        }
      ],
      "source": [
        "# We will make a new  dataframe with passengerid and our predictions to submit\n",
        "submission=pd.DataFrame({'PassengerId':test_data.PassengerId, 'Transported':test_pred})\n",
        "submission"
      ]
    },
    {
      "cell_type": "markdown",
      "id": "4eedb9a4",
      "metadata": {
        "papermill": {
          "duration": 0.117294,
          "end_time": "2022-04-11T12:23:26.011147",
          "exception": false,
          "start_time": "2022-04-11T12:23:25.893853",
          "status": "completed"
        },
        "tags": [],
        "id": "4eedb9a4"
      },
      "source": [
        "- Since It was False and True in our target variable we will replace 0 with False and 1 with True"
      ]
    },
    {
      "cell_type": "code",
      "execution_count": null,
      "id": "4fe516f2",
      "metadata": {
        "execution": {
          "iopub.execute_input": "2022-04-11T12:23:26.248483Z",
          "iopub.status.busy": "2022-04-11T12:23:26.247835Z",
          "iopub.status.idle": "2022-04-11T12:23:26.254732Z",
          "shell.execute_reply": "2022-04-11T12:23:26.255221Z",
          "shell.execute_reply.started": "2022-04-11T12:12:09.477948Z"
        },
        "papermill": {
          "duration": 0.126956,
          "end_time": "2022-04-11T12:23:26.255421",
          "exception": false,
          "start_time": "2022-04-11T12:23:26.128465",
          "status": "completed"
        },
        "tags": [],
        "id": "4fe516f2"
      },
      "outputs": [],
      "source": [
        "submission.Transported=submission.Transported.replace({0:'False', 1:'True'})"
      ]
    },
    {
      "cell_type": "code",
      "execution_count": null,
      "id": "b5bef446",
      "metadata": {
        "execution": {
          "iopub.execute_input": "2022-04-11T12:23:26.496281Z",
          "iopub.status.busy": "2022-04-11T12:23:26.495568Z",
          "iopub.status.idle": "2022-04-11T12:23:26.508904Z",
          "shell.execute_reply": "2022-04-11T12:23:26.509506Z",
          "shell.execute_reply.started": "2022-04-11T12:12:09.490406Z"
        },
        "papermill": {
          "duration": 0.136181,
          "end_time": "2022-04-11T12:23:26.509697",
          "exception": false,
          "start_time": "2022-04-11T12:23:26.373516",
          "status": "completed"
        },
        "tags": [],
        "id": "b5bef446",
        "outputId": "3dc3c550-09a2-4a0f-f6b6-418d204c9d82"
      },
      "outputs": [
        {
          "data": {
            "text/html": [
              "<div>\n",
              "<style scoped>\n",
              "    .dataframe tbody tr th:only-of-type {\n",
              "        vertical-align: middle;\n",
              "    }\n",
              "\n",
              "    .dataframe tbody tr th {\n",
              "        vertical-align: top;\n",
              "    }\n",
              "\n",
              "    .dataframe thead th {\n",
              "        text-align: right;\n",
              "    }\n",
              "</style>\n",
              "<table border=\"1\" class=\"dataframe\">\n",
              "  <thead>\n",
              "    <tr style=\"text-align: right;\">\n",
              "      <th></th>\n",
              "      <th>PassengerId</th>\n",
              "      <th>Transported</th>\n",
              "    </tr>\n",
              "  </thead>\n",
              "  <tbody>\n",
              "    <tr>\n",
              "      <th>0</th>\n",
              "      <td>0013_01</td>\n",
              "      <td>False</td>\n",
              "    </tr>\n",
              "    <tr>\n",
              "      <th>1</th>\n",
              "      <td>0018_01</td>\n",
              "      <td>False</td>\n",
              "    </tr>\n",
              "    <tr>\n",
              "      <th>2</th>\n",
              "      <td>0019_01</td>\n",
              "      <td>True</td>\n",
              "    </tr>\n",
              "    <tr>\n",
              "      <th>3</th>\n",
              "      <td>0021_01</td>\n",
              "      <td>True</td>\n",
              "    </tr>\n",
              "    <tr>\n",
              "      <th>4</th>\n",
              "      <td>0023_01</td>\n",
              "      <td>True</td>\n",
              "    </tr>\n",
              "    <tr>\n",
              "      <th>...</th>\n",
              "      <td>...</td>\n",
              "      <td>...</td>\n",
              "    </tr>\n",
              "    <tr>\n",
              "      <th>4272</th>\n",
              "      <td>9266_02</td>\n",
              "      <td>True</td>\n",
              "    </tr>\n",
              "    <tr>\n",
              "      <th>4273</th>\n",
              "      <td>9269_01</td>\n",
              "      <td>False</td>\n",
              "    </tr>\n",
              "    <tr>\n",
              "      <th>4274</th>\n",
              "      <td>9271_01</td>\n",
              "      <td>True</td>\n",
              "    </tr>\n",
              "    <tr>\n",
              "      <th>4275</th>\n",
              "      <td>9273_01</td>\n",
              "      <td>True</td>\n",
              "    </tr>\n",
              "    <tr>\n",
              "      <th>4276</th>\n",
              "      <td>9277_01</td>\n",
              "      <td>True</td>\n",
              "    </tr>\n",
              "  </tbody>\n",
              "</table>\n",
              "<p>4277 rows × 2 columns</p>\n",
              "</div>"
            ],
            "text/plain": [
              "     PassengerId Transported\n",
              "0        0013_01       False\n",
              "1        0018_01       False\n",
              "2        0019_01        True\n",
              "3        0021_01        True\n",
              "4        0023_01        True\n",
              "...          ...         ...\n",
              "4272     9266_02        True\n",
              "4273     9269_01       False\n",
              "4274     9271_01        True\n",
              "4275     9273_01        True\n",
              "4276     9277_01        True\n",
              "\n",
              "[4277 rows x 2 columns]"
            ]
          },
          "execution_count": 64,
          "metadata": {},
          "output_type": "execute_result"
        }
      ],
      "source": [
        "# This is what our final prediction dataframe looks like\n",
        "submission"
      ]
    },
    {
      "cell_type": "code",
      "execution_count": null,
      "id": "c84cc24e",
      "metadata": {
        "execution": {
          "iopub.execute_input": "2022-04-11T12:23:26.747634Z",
          "iopub.status.busy": "2022-04-11T12:23:26.744885Z",
          "iopub.status.idle": "2022-04-11T12:23:26.763946Z",
          "shell.execute_reply": "2022-04-11T12:23:26.763335Z",
          "shell.execute_reply.started": "2022-04-11T12:12:09.508022Z"
        },
        "papermill": {
          "duration": 0.137873,
          "end_time": "2022-04-11T12:23:26.764115",
          "exception": false,
          "start_time": "2022-04-11T12:23:26.626242",
          "status": "completed"
        },
        "tags": [],
        "id": "c84cc24e"
      },
      "outputs": [],
      "source": [
        "# converting it into csv file fore submission\n",
        "submission.to_csv('submission.csv',index=False)"
      ]
    },
    {
      "cell_type": "code",
      "execution_count": null,
      "id": "320175b9",
      "metadata": {
        "papermill": {
          "duration": 0.119297,
          "end_time": "2022-04-11T12:23:27.003212",
          "exception": false,
          "start_time": "2022-04-11T12:23:26.883915",
          "status": "completed"
        },
        "tags": [],
        "id": "320175b9"
      },
      "outputs": [],
      "source": [
        ""
      ]
    },
    {
      "cell_type": "code",
      "execution_count": null,
      "id": "c326aa88",
      "metadata": {
        "papermill": {
          "duration": 0.116151,
          "end_time": "2022-04-11T12:23:27.238211",
          "exception": false,
          "start_time": "2022-04-11T12:23:27.122060",
          "status": "completed"
        },
        "tags": [],
        "id": "c326aa88"
      },
      "outputs": [],
      "source": [
        ""
      ]
    }
  ],
  "metadata": {
    "kernelspec": {
      "display_name": "Python 3",
      "language": "python",
      "name": "python3"
    },
    "language_info": {
      "codemirror_mode": {
        "name": "ipython",
        "version": 3
      },
      "file_extension": ".py",
      "mimetype": "text/x-python",
      "name": "python",
      "nbconvert_exporter": "python",
      "pygments_lexer": "ipython3",
      "version": "3.7.12"
    },
    "papermill": {
      "default_parameters": {},
      "duration": 40.457626,
      "end_time": "2022-04-11T12:23:28.268859",
      "environment_variables": {},
      "exception": null,
      "input_path": "__notebook__.ipynb",
      "output_path": "__notebook__.ipynb",
      "parameters": {},
      "start_time": "2022-04-11T12:22:47.811233",
      "version": "2.3.3"
    },
    "colab": {
      "name": "space-ship-titanic.ipynb",
      "provenance": [],
      "include_colab_link": true
    }
  },
  "nbformat": 4,
  "nbformat_minor": 5
}