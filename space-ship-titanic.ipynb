{
 "cells": [
  {
   "cell_type": "markdown",
   "id": "971559d6",
   "metadata": {
    "papermill": {
     "duration": 0.093311,
     "end_time": "2022-04-11T12:19:20.033878",
     "exception": false,
     "start_time": "2022-04-11T12:19:19.940567",
     "status": "completed"
    },
    "tags": []
   },
   "source": [
    "# Importing Libraries and train dataset"
   ]
  },
  {
   "cell_type": "code",
   "execution_count": 1,
   "id": "8d9c49c2",
   "metadata": {
    "_cell_guid": "b1076dfc-b9ad-4769-8c92-a6c4dae69d19",
    "_uuid": "8f2839f25d086af736a60e9eeb907d3b93b6e0e5",
    "execution": {
     "iopub.execute_input": "2022-04-11T12:19:20.216493Z",
     "iopub.status.busy": "2022-04-11T12:19:20.215337Z",
     "iopub.status.idle": "2022-04-11T12:19:21.350798Z",
     "shell.execute_reply": "2022-04-11T12:19:21.349939Z",
     "shell.execute_reply.started": "2022-04-11T12:11:59.948774Z"
    },
    "papermill": {
     "duration": 1.227614,
     "end_time": "2022-04-11T12:19:21.350982",
     "exception": false,
     "start_time": "2022-04-11T12:19:20.123368",
     "status": "completed"
    },
    "tags": []
   },
   "outputs": [],
   "source": [
    "import numpy as np # linear algebra\n",
    "import pandas as pd # data processing, CSV file I/O (e.g. pd.read_csv)w\n",
    "import matplotlib.pyplot as plt #plotting \n",
    "import seaborn as sns # data visualization.join(dirname, filename))\n"
   ]
  },
  {
   "cell_type": "code",
   "execution_count": 2,
   "id": "2aff5e59",
   "metadata": {
    "execution": {
     "iopub.execute_input": "2022-04-11T12:19:21.532549Z",
     "iopub.status.busy": "2022-04-11T12:19:21.531833Z",
     "iopub.status.idle": "2022-04-11T12:19:21.588980Z",
     "shell.execute_reply": "2022-04-11T12:19:21.588341Z",
     "shell.execute_reply.started": "2022-04-11T12:11:59.955624Z"
    },
    "papermill": {
     "duration": 0.149944,
     "end_time": "2022-04-11T12:19:21.589140",
     "exception": false,
     "start_time": "2022-04-11T12:19:21.439196",
     "status": "completed"
    },
    "tags": []
   },
   "outputs": [],
   "source": [
    "train_data=pd.read_csv(r'../input/spaceship-titanic/train.csv')\n",
    "train=train_data.copy()"
   ]
  },
  {
   "cell_type": "markdown",
   "id": "f9ed0d70",
   "metadata": {
    "papermill": {
     "duration": 0.088659,
     "end_time": "2022-04-11T12:19:21.765833",
     "exception": false,
     "start_time": "2022-04-11T12:19:21.677174",
     "status": "completed"
    },
    "tags": []
   },
   "source": [
    "## Data Description \n",
    "\n",
    "1. PassengerId - A unique Id for each passenger. Each Id takes the form gggg_pp where gggg indicates a group the passenger is travelling with and pp is their number within the group. People in a group are often family members, but not always.\n",
    "2. HomePlanet - The planet the passenger departed from, typically their planet of permanent residence.\n",
    "3. CryoSleep - Indicates whether the passenger elected to be put into suspended animation for the duration of the voyage. Passengers in cryosleep are confined to their cabins.\n",
    "4. Cabin - The cabin number where the passenger is staying. Takes the form deck/num/side, where side can be either P for Port or S for Starboard.\n",
    "5. Destination - The planet the passenger will be debarking to.\n",
    "6. Age - The age of the passenger.\n",
    "7. VIP - Whether the passenger has paid for special VIP service during the voyage.\n",
    "8. RoomService, FoodCourt, ShoppingMall, Spa, VRDeck - Amount the passenger has billed at each of the Spaceship Titanic's many luxury amenities.\n",
    "9. Name - The first and last names of the passenger.\n",
    "10. Transported - Whether the passenger was transported to another dimension. This is the target, the column you are trying to predict."
   ]
  },
  {
   "cell_type": "markdown",
   "id": "b495c222",
   "metadata": {
    "papermill": {
     "duration": 0.087715,
     "end_time": "2022-04-11T12:19:21.940776",
     "exception": false,
     "start_time": "2022-04-11T12:19:21.853061",
     "status": "completed"
    },
    "tags": []
   },
   "source": [
    "# EDA on train data"
   ]
  },
  {
   "cell_type": "code",
   "execution_count": 3,
   "id": "1120435e",
   "metadata": {
    "execution": {
     "iopub.execute_input": "2022-04-11T12:19:22.126763Z",
     "iopub.status.busy": "2022-04-11T12:19:22.125975Z",
     "iopub.status.idle": "2022-04-11T12:19:22.130263Z",
     "shell.execute_reply": "2022-04-11T12:19:22.129632Z",
     "shell.execute_reply.started": "2022-04-11T12:11:59.992537Z"
    },
    "papermill": {
     "duration": 0.099901,
     "end_time": "2022-04-11T12:19:22.130416",
     "exception": false,
     "start_time": "2022-04-11T12:19:22.030515",
     "status": "completed"
    },
    "tags": []
   },
   "outputs": [
    {
     "data": {
      "text/plain": [
       "(8693, 14)"
      ]
     },
     "execution_count": 3,
     "metadata": {},
     "output_type": "execute_result"
    }
   ],
   "source": [
    "# train data shap (it has 8693 raws and 14 columns)\n",
    "train.shape"
   ]
  },
  {
   "cell_type": "code",
   "execution_count": 4,
   "id": "d18dd0eb",
   "metadata": {
    "execution": {
     "iopub.execute_input": "2022-04-11T12:19:22.315493Z",
     "iopub.status.busy": "2022-04-11T12:19:22.314808Z",
     "iopub.status.idle": "2022-04-11T12:19:22.349282Z",
     "shell.execute_reply": "2022-04-11T12:19:22.349878Z",
     "shell.execute_reply.started": "2022-04-11T12:11:59.999343Z"
    },
    "papermill": {
     "duration": 0.129698,
     "end_time": "2022-04-11T12:19:22.350056",
     "exception": false,
     "start_time": "2022-04-11T12:19:22.220358",
     "status": "completed"
    },
    "tags": []
   },
   "outputs": [
    {
     "data": {
      "text/html": [
       "<div>\n",
       "<style scoped>\n",
       "    .dataframe tbody tr th:only-of-type {\n",
       "        vertical-align: middle;\n",
       "    }\n",
       "\n",
       "    .dataframe tbody tr th {\n",
       "        vertical-align: top;\n",
       "    }\n",
       "\n",
       "    .dataframe thead th {\n",
       "        text-align: right;\n",
       "    }\n",
       "</style>\n",
       "<table border=\"1\" class=\"dataframe\">\n",
       "  <thead>\n",
       "    <tr style=\"text-align: right;\">\n",
       "      <th></th>\n",
       "      <th>PassengerId</th>\n",
       "      <th>HomePlanet</th>\n",
       "      <th>CryoSleep</th>\n",
       "      <th>Cabin</th>\n",
       "      <th>Destination</th>\n",
       "      <th>Age</th>\n",
       "      <th>VIP</th>\n",
       "      <th>RoomService</th>\n",
       "      <th>FoodCourt</th>\n",
       "      <th>ShoppingMall</th>\n",
       "      <th>Spa</th>\n",
       "      <th>VRDeck</th>\n",
       "      <th>Name</th>\n",
       "      <th>Transported</th>\n",
       "    </tr>\n",
       "  </thead>\n",
       "  <tbody>\n",
       "    <tr>\n",
       "      <th>0</th>\n",
       "      <td>0001_01</td>\n",
       "      <td>Europa</td>\n",
       "      <td>False</td>\n",
       "      <td>B/0/P</td>\n",
       "      <td>TRAPPIST-1e</td>\n",
       "      <td>39.0</td>\n",
       "      <td>False</td>\n",
       "      <td>0.0</td>\n",
       "      <td>0.0</td>\n",
       "      <td>0.0</td>\n",
       "      <td>0.0</td>\n",
       "      <td>0.0</td>\n",
       "      <td>Maham Ofracculy</td>\n",
       "      <td>False</td>\n",
       "    </tr>\n",
       "    <tr>\n",
       "      <th>1</th>\n",
       "      <td>0002_01</td>\n",
       "      <td>Earth</td>\n",
       "      <td>False</td>\n",
       "      <td>F/0/S</td>\n",
       "      <td>TRAPPIST-1e</td>\n",
       "      <td>24.0</td>\n",
       "      <td>False</td>\n",
       "      <td>109.0</td>\n",
       "      <td>9.0</td>\n",
       "      <td>25.0</td>\n",
       "      <td>549.0</td>\n",
       "      <td>44.0</td>\n",
       "      <td>Juanna Vines</td>\n",
       "      <td>True</td>\n",
       "    </tr>\n",
       "    <tr>\n",
       "      <th>2</th>\n",
       "      <td>0003_01</td>\n",
       "      <td>Europa</td>\n",
       "      <td>False</td>\n",
       "      <td>A/0/S</td>\n",
       "      <td>TRAPPIST-1e</td>\n",
       "      <td>58.0</td>\n",
       "      <td>True</td>\n",
       "      <td>43.0</td>\n",
       "      <td>3576.0</td>\n",
       "      <td>0.0</td>\n",
       "      <td>6715.0</td>\n",
       "      <td>49.0</td>\n",
       "      <td>Altark Susent</td>\n",
       "      <td>False</td>\n",
       "    </tr>\n",
       "    <tr>\n",
       "      <th>3</th>\n",
       "      <td>0003_02</td>\n",
       "      <td>Europa</td>\n",
       "      <td>False</td>\n",
       "      <td>A/0/S</td>\n",
       "      <td>TRAPPIST-1e</td>\n",
       "      <td>33.0</td>\n",
       "      <td>False</td>\n",
       "      <td>0.0</td>\n",
       "      <td>1283.0</td>\n",
       "      <td>371.0</td>\n",
       "      <td>3329.0</td>\n",
       "      <td>193.0</td>\n",
       "      <td>Solam Susent</td>\n",
       "      <td>False</td>\n",
       "    </tr>\n",
       "    <tr>\n",
       "      <th>4</th>\n",
       "      <td>0004_01</td>\n",
       "      <td>Earth</td>\n",
       "      <td>False</td>\n",
       "      <td>F/1/S</td>\n",
       "      <td>TRAPPIST-1e</td>\n",
       "      <td>16.0</td>\n",
       "      <td>False</td>\n",
       "      <td>303.0</td>\n",
       "      <td>70.0</td>\n",
       "      <td>151.0</td>\n",
       "      <td>565.0</td>\n",
       "      <td>2.0</td>\n",
       "      <td>Willy Santantines</td>\n",
       "      <td>True</td>\n",
       "    </tr>\n",
       "    <tr>\n",
       "      <th>5</th>\n",
       "      <td>0005_01</td>\n",
       "      <td>Earth</td>\n",
       "      <td>False</td>\n",
       "      <td>F/0/P</td>\n",
       "      <td>PSO J318.5-22</td>\n",
       "      <td>44.0</td>\n",
       "      <td>False</td>\n",
       "      <td>0.0</td>\n",
       "      <td>483.0</td>\n",
       "      <td>0.0</td>\n",
       "      <td>291.0</td>\n",
       "      <td>0.0</td>\n",
       "      <td>Sandie Hinetthews</td>\n",
       "      <td>True</td>\n",
       "    </tr>\n",
       "    <tr>\n",
       "      <th>6</th>\n",
       "      <td>0006_01</td>\n",
       "      <td>Earth</td>\n",
       "      <td>False</td>\n",
       "      <td>F/2/S</td>\n",
       "      <td>TRAPPIST-1e</td>\n",
       "      <td>26.0</td>\n",
       "      <td>False</td>\n",
       "      <td>42.0</td>\n",
       "      <td>1539.0</td>\n",
       "      <td>3.0</td>\n",
       "      <td>0.0</td>\n",
       "      <td>0.0</td>\n",
       "      <td>Billex Jacostaffey</td>\n",
       "      <td>True</td>\n",
       "    </tr>\n",
       "    <tr>\n",
       "      <th>7</th>\n",
       "      <td>0006_02</td>\n",
       "      <td>Earth</td>\n",
       "      <td>True</td>\n",
       "      <td>G/0/S</td>\n",
       "      <td>TRAPPIST-1e</td>\n",
       "      <td>28.0</td>\n",
       "      <td>False</td>\n",
       "      <td>0.0</td>\n",
       "      <td>0.0</td>\n",
       "      <td>0.0</td>\n",
       "      <td>0.0</td>\n",
       "      <td>NaN</td>\n",
       "      <td>Candra Jacostaffey</td>\n",
       "      <td>True</td>\n",
       "    </tr>\n",
       "    <tr>\n",
       "      <th>8</th>\n",
       "      <td>0007_01</td>\n",
       "      <td>Earth</td>\n",
       "      <td>False</td>\n",
       "      <td>F/3/S</td>\n",
       "      <td>TRAPPIST-1e</td>\n",
       "      <td>35.0</td>\n",
       "      <td>False</td>\n",
       "      <td>0.0</td>\n",
       "      <td>785.0</td>\n",
       "      <td>17.0</td>\n",
       "      <td>216.0</td>\n",
       "      <td>0.0</td>\n",
       "      <td>Andona Beston</td>\n",
       "      <td>True</td>\n",
       "    </tr>\n",
       "    <tr>\n",
       "      <th>9</th>\n",
       "      <td>0008_01</td>\n",
       "      <td>Europa</td>\n",
       "      <td>True</td>\n",
       "      <td>B/1/P</td>\n",
       "      <td>55 Cancri e</td>\n",
       "      <td>14.0</td>\n",
       "      <td>False</td>\n",
       "      <td>0.0</td>\n",
       "      <td>0.0</td>\n",
       "      <td>0.0</td>\n",
       "      <td>0.0</td>\n",
       "      <td>0.0</td>\n",
       "      <td>Erraiam Flatic</td>\n",
       "      <td>True</td>\n",
       "    </tr>\n",
       "    <tr>\n",
       "      <th>10</th>\n",
       "      <td>0008_02</td>\n",
       "      <td>Europa</td>\n",
       "      <td>True</td>\n",
       "      <td>B/1/P</td>\n",
       "      <td>TRAPPIST-1e</td>\n",
       "      <td>34.0</td>\n",
       "      <td>False</td>\n",
       "      <td>0.0</td>\n",
       "      <td>0.0</td>\n",
       "      <td>NaN</td>\n",
       "      <td>0.0</td>\n",
       "      <td>0.0</td>\n",
       "      <td>Altardr Flatic</td>\n",
       "      <td>True</td>\n",
       "    </tr>\n",
       "    <tr>\n",
       "      <th>11</th>\n",
       "      <td>0008_03</td>\n",
       "      <td>Europa</td>\n",
       "      <td>False</td>\n",
       "      <td>B/1/P</td>\n",
       "      <td>55 Cancri e</td>\n",
       "      <td>45.0</td>\n",
       "      <td>False</td>\n",
       "      <td>39.0</td>\n",
       "      <td>7295.0</td>\n",
       "      <td>589.0</td>\n",
       "      <td>110.0</td>\n",
       "      <td>124.0</td>\n",
       "      <td>Wezena Flatic</td>\n",
       "      <td>True</td>\n",
       "    </tr>\n",
       "    <tr>\n",
       "      <th>12</th>\n",
       "      <td>0009_01</td>\n",
       "      <td>Mars</td>\n",
       "      <td>False</td>\n",
       "      <td>F/1/P</td>\n",
       "      <td>TRAPPIST-1e</td>\n",
       "      <td>32.0</td>\n",
       "      <td>False</td>\n",
       "      <td>73.0</td>\n",
       "      <td>0.0</td>\n",
       "      <td>1123.0</td>\n",
       "      <td>0.0</td>\n",
       "      <td>113.0</td>\n",
       "      <td>Berers Barne</td>\n",
       "      <td>True</td>\n",
       "    </tr>\n",
       "    <tr>\n",
       "      <th>13</th>\n",
       "      <td>0010_01</td>\n",
       "      <td>Earth</td>\n",
       "      <td>False</td>\n",
       "      <td>G/1/S</td>\n",
       "      <td>TRAPPIST-1e</td>\n",
       "      <td>48.0</td>\n",
       "      <td>False</td>\n",
       "      <td>719.0</td>\n",
       "      <td>1.0</td>\n",
       "      <td>65.0</td>\n",
       "      <td>0.0</td>\n",
       "      <td>24.0</td>\n",
       "      <td>Reney Baketton</td>\n",
       "      <td>False</td>\n",
       "    </tr>\n",
       "    <tr>\n",
       "      <th>14</th>\n",
       "      <td>0011_01</td>\n",
       "      <td>Earth</td>\n",
       "      <td>False</td>\n",
       "      <td>F/2/P</td>\n",
       "      <td>TRAPPIST-1e</td>\n",
       "      <td>28.0</td>\n",
       "      <td>False</td>\n",
       "      <td>8.0</td>\n",
       "      <td>974.0</td>\n",
       "      <td>12.0</td>\n",
       "      <td>2.0</td>\n",
       "      <td>7.0</td>\n",
       "      <td>Elle Bertsontry</td>\n",
       "      <td>True</td>\n",
       "    </tr>\n",
       "    <tr>\n",
       "      <th>15</th>\n",
       "      <td>0012_01</td>\n",
       "      <td>Earth</td>\n",
       "      <td>False</td>\n",
       "      <td>NaN</td>\n",
       "      <td>TRAPPIST-1e</td>\n",
       "      <td>31.0</td>\n",
       "      <td>False</td>\n",
       "      <td>32.0</td>\n",
       "      <td>0.0</td>\n",
       "      <td>876.0</td>\n",
       "      <td>0.0</td>\n",
       "      <td>0.0</td>\n",
       "      <td>Justie Pooles</td>\n",
       "      <td>False</td>\n",
       "    </tr>\n",
       "    <tr>\n",
       "      <th>16</th>\n",
       "      <td>0014_01</td>\n",
       "      <td>Mars</td>\n",
       "      <td>False</td>\n",
       "      <td>F/3/P</td>\n",
       "      <td>55 Cancri e</td>\n",
       "      <td>27.0</td>\n",
       "      <td>False</td>\n",
       "      <td>1286.0</td>\n",
       "      <td>122.0</td>\n",
       "      <td>NaN</td>\n",
       "      <td>0.0</td>\n",
       "      <td>0.0</td>\n",
       "      <td>Flats Eccle</td>\n",
       "      <td>False</td>\n",
       "    </tr>\n",
       "    <tr>\n",
       "      <th>17</th>\n",
       "      <td>0015_01</td>\n",
       "      <td>Earth</td>\n",
       "      <td>False</td>\n",
       "      <td>F/4/P</td>\n",
       "      <td>55 Cancri e</td>\n",
       "      <td>24.0</td>\n",
       "      <td>False</td>\n",
       "      <td>0.0</td>\n",
       "      <td>1.0</td>\n",
       "      <td>0.0</td>\n",
       "      <td>0.0</td>\n",
       "      <td>637.0</td>\n",
       "      <td>Carry Hughriend</td>\n",
       "      <td>False</td>\n",
       "    </tr>\n",
       "    <tr>\n",
       "      <th>18</th>\n",
       "      <td>0016_01</td>\n",
       "      <td>Mars</td>\n",
       "      <td>True</td>\n",
       "      <td>F/5/P</td>\n",
       "      <td>TRAPPIST-1e</td>\n",
       "      <td>45.0</td>\n",
       "      <td>False</td>\n",
       "      <td>0.0</td>\n",
       "      <td>0.0</td>\n",
       "      <td>0.0</td>\n",
       "      <td>0.0</td>\n",
       "      <td>0.0</td>\n",
       "      <td>Alus Upead</td>\n",
       "      <td>True</td>\n",
       "    </tr>\n",
       "    <tr>\n",
       "      <th>19</th>\n",
       "      <td>0017_01</td>\n",
       "      <td>Earth</td>\n",
       "      <td>False</td>\n",
       "      <td>G/0/P</td>\n",
       "      <td>TRAPPIST-1e</td>\n",
       "      <td>0.0</td>\n",
       "      <td>False</td>\n",
       "      <td>0.0</td>\n",
       "      <td>0.0</td>\n",
       "      <td>0.0</td>\n",
       "      <td>0.0</td>\n",
       "      <td>0.0</td>\n",
       "      <td>Lyde Brighttt</td>\n",
       "      <td>True</td>\n",
       "    </tr>\n",
       "  </tbody>\n",
       "</table>\n",
       "</div>"
      ],
      "text/plain": [
       "   PassengerId HomePlanet CryoSleep  Cabin    Destination   Age    VIP  \\\n",
       "0      0001_01     Europa     False  B/0/P    TRAPPIST-1e  39.0  False   \n",
       "1      0002_01      Earth     False  F/0/S    TRAPPIST-1e  24.0  False   \n",
       "2      0003_01     Europa     False  A/0/S    TRAPPIST-1e  58.0   True   \n",
       "3      0003_02     Europa     False  A/0/S    TRAPPIST-1e  33.0  False   \n",
       "4      0004_01      Earth     False  F/1/S    TRAPPIST-1e  16.0  False   \n",
       "5      0005_01      Earth     False  F/0/P  PSO J318.5-22  44.0  False   \n",
       "6      0006_01      Earth     False  F/2/S    TRAPPIST-1e  26.0  False   \n",
       "7      0006_02      Earth      True  G/0/S    TRAPPIST-1e  28.0  False   \n",
       "8      0007_01      Earth     False  F/3/S    TRAPPIST-1e  35.0  False   \n",
       "9      0008_01     Europa      True  B/1/P    55 Cancri e  14.0  False   \n",
       "10     0008_02     Europa      True  B/1/P    TRAPPIST-1e  34.0  False   \n",
       "11     0008_03     Europa     False  B/1/P    55 Cancri e  45.0  False   \n",
       "12     0009_01       Mars     False  F/1/P    TRAPPIST-1e  32.0  False   \n",
       "13     0010_01      Earth     False  G/1/S    TRAPPIST-1e  48.0  False   \n",
       "14     0011_01      Earth     False  F/2/P    TRAPPIST-1e  28.0  False   \n",
       "15     0012_01      Earth     False    NaN    TRAPPIST-1e  31.0  False   \n",
       "16     0014_01       Mars     False  F/3/P    55 Cancri e  27.0  False   \n",
       "17     0015_01      Earth     False  F/4/P    55 Cancri e  24.0  False   \n",
       "18     0016_01       Mars      True  F/5/P    TRAPPIST-1e  45.0  False   \n",
       "19     0017_01      Earth     False  G/0/P    TRAPPIST-1e   0.0  False   \n",
       "\n",
       "    RoomService  FoodCourt  ShoppingMall     Spa  VRDeck                Name  \\\n",
       "0           0.0        0.0           0.0     0.0     0.0     Maham Ofracculy   \n",
       "1         109.0        9.0          25.0   549.0    44.0        Juanna Vines   \n",
       "2          43.0     3576.0           0.0  6715.0    49.0       Altark Susent   \n",
       "3           0.0     1283.0         371.0  3329.0   193.0        Solam Susent   \n",
       "4         303.0       70.0         151.0   565.0     2.0   Willy Santantines   \n",
       "5           0.0      483.0           0.0   291.0     0.0   Sandie Hinetthews   \n",
       "6          42.0     1539.0           3.0     0.0     0.0  Billex Jacostaffey   \n",
       "7           0.0        0.0           0.0     0.0     NaN  Candra Jacostaffey   \n",
       "8           0.0      785.0          17.0   216.0     0.0       Andona Beston   \n",
       "9           0.0        0.0           0.0     0.0     0.0      Erraiam Flatic   \n",
       "10          0.0        0.0           NaN     0.0     0.0      Altardr Flatic   \n",
       "11         39.0     7295.0         589.0   110.0   124.0       Wezena Flatic   \n",
       "12         73.0        0.0        1123.0     0.0   113.0        Berers Barne   \n",
       "13        719.0        1.0          65.0     0.0    24.0      Reney Baketton   \n",
       "14          8.0      974.0          12.0     2.0     7.0     Elle Bertsontry   \n",
       "15         32.0        0.0         876.0     0.0     0.0       Justie Pooles   \n",
       "16       1286.0      122.0           NaN     0.0     0.0         Flats Eccle   \n",
       "17          0.0        1.0           0.0     0.0   637.0     Carry Hughriend   \n",
       "18          0.0        0.0           0.0     0.0     0.0          Alus Upead   \n",
       "19          0.0        0.0           0.0     0.0     0.0       Lyde Brighttt   \n",
       "\n",
       "    Transported  \n",
       "0         False  \n",
       "1          True  \n",
       "2         False  \n",
       "3         False  \n",
       "4          True  \n",
       "5          True  \n",
       "6          True  \n",
       "7          True  \n",
       "8          True  \n",
       "9          True  \n",
       "10         True  \n",
       "11         True  \n",
       "12         True  \n",
       "13        False  \n",
       "14         True  \n",
       "15        False  \n",
       "16        False  \n",
       "17        False  \n",
       "18         True  \n",
       "19         True  "
      ]
     },
     "execution_count": 4,
     "metadata": {},
     "output_type": "execute_result"
    }
   ],
   "source": [
    "# viewing first 20 data samples\n",
    "train.head(20)"
   ]
  },
  {
   "cell_type": "code",
   "execution_count": 5,
   "id": "7399c662",
   "metadata": {
    "execution": {
     "iopub.execute_input": "2022-04-11T12:19:22.560533Z",
     "iopub.status.busy": "2022-04-11T12:19:22.540243Z",
     "iopub.status.idle": "2022-04-11T12:19:22.564627Z",
     "shell.execute_reply": "2022-04-11T12:19:22.564119Z",
     "shell.execute_reply.started": "2022-04-11T12:12:00.034175Z"
    },
    "papermill": {
     "duration": 0.126541,
     "end_time": "2022-04-11T12:19:22.564779",
     "exception": false,
     "start_time": "2022-04-11T12:19:22.438238",
     "status": "completed"
    },
    "tags": []
   },
   "outputs": [
    {
     "data": {
      "text/html": [
       "<div>\n",
       "<style scoped>\n",
       "    .dataframe tbody tr th:only-of-type {\n",
       "        vertical-align: middle;\n",
       "    }\n",
       "\n",
       "    .dataframe tbody tr th {\n",
       "        vertical-align: top;\n",
       "    }\n",
       "\n",
       "    .dataframe thead th {\n",
       "        text-align: right;\n",
       "    }\n",
       "</style>\n",
       "<table border=\"1\" class=\"dataframe\">\n",
       "  <thead>\n",
       "    <tr style=\"text-align: right;\">\n",
       "      <th></th>\n",
       "      <th>PassengerId</th>\n",
       "      <th>HomePlanet</th>\n",
       "      <th>CryoSleep</th>\n",
       "      <th>Cabin</th>\n",
       "      <th>Destination</th>\n",
       "      <th>Age</th>\n",
       "      <th>VIP</th>\n",
       "      <th>RoomService</th>\n",
       "      <th>FoodCourt</th>\n",
       "      <th>ShoppingMall</th>\n",
       "      <th>Spa</th>\n",
       "      <th>VRDeck</th>\n",
       "      <th>Name</th>\n",
       "      <th>Transported</th>\n",
       "    </tr>\n",
       "  </thead>\n",
       "  <tbody>\n",
       "    <tr>\n",
       "      <th>8673</th>\n",
       "      <td>9256_01</td>\n",
       "      <td>Earth</td>\n",
       "      <td>True</td>\n",
       "      <td>G/1494/S</td>\n",
       "      <td>TRAPPIST-1e</td>\n",
       "      <td>28.0</td>\n",
       "      <td>False</td>\n",
       "      <td>0.0</td>\n",
       "      <td>0.0</td>\n",
       "      <td>0.0</td>\n",
       "      <td>0.0</td>\n",
       "      <td>0.0</td>\n",
       "      <td>Darley Franton</td>\n",
       "      <td>True</td>\n",
       "    </tr>\n",
       "    <tr>\n",
       "      <th>8674</th>\n",
       "      <td>9257_01</td>\n",
       "      <td>NaN</td>\n",
       "      <td>False</td>\n",
       "      <td>F/1892/P</td>\n",
       "      <td>TRAPPIST-1e</td>\n",
       "      <td>13.0</td>\n",
       "      <td>False</td>\n",
       "      <td>39.0</td>\n",
       "      <td>0.0</td>\n",
       "      <td>1085.0</td>\n",
       "      <td>24.0</td>\n",
       "      <td>0.0</td>\n",
       "      <td>Ties Apple</td>\n",
       "      <td>False</td>\n",
       "    </tr>\n",
       "    <tr>\n",
       "      <th>8675</th>\n",
       "      <td>9259_01</td>\n",
       "      <td>Earth</td>\n",
       "      <td>NaN</td>\n",
       "      <td>F/1893/P</td>\n",
       "      <td>TRAPPIST-1e</td>\n",
       "      <td>44.0</td>\n",
       "      <td>False</td>\n",
       "      <td>1030.0</td>\n",
       "      <td>1015.0</td>\n",
       "      <td>0.0</td>\n",
       "      <td>11.0</td>\n",
       "      <td>NaN</td>\n",
       "      <td>Annah Gilleyons</td>\n",
       "      <td>True</td>\n",
       "    </tr>\n",
       "    <tr>\n",
       "      <th>8676</th>\n",
       "      <td>9261_01</td>\n",
       "      <td>Earth</td>\n",
       "      <td>True</td>\n",
       "      <td>G/1504/P</td>\n",
       "      <td>PSO J318.5-22</td>\n",
       "      <td>22.0</td>\n",
       "      <td>False</td>\n",
       "      <td>0.0</td>\n",
       "      <td>0.0</td>\n",
       "      <td>0.0</td>\n",
       "      <td>0.0</td>\n",
       "      <td>0.0</td>\n",
       "      <td>Therta Casentry</td>\n",
       "      <td>False</td>\n",
       "    </tr>\n",
       "    <tr>\n",
       "      <th>8677</th>\n",
       "      <td>9264_01</td>\n",
       "      <td>Europa</td>\n",
       "      <td>True</td>\n",
       "      <td>E/606/S</td>\n",
       "      <td>55 Cancri e</td>\n",
       "      <td>30.0</td>\n",
       "      <td>False</td>\n",
       "      <td>0.0</td>\n",
       "      <td>0.0</td>\n",
       "      <td>0.0</td>\n",
       "      <td>0.0</td>\n",
       "      <td>0.0</td>\n",
       "      <td>Giedir Sionerorly</td>\n",
       "      <td>True</td>\n",
       "    </tr>\n",
       "    <tr>\n",
       "      <th>8678</th>\n",
       "      <td>9267_01</td>\n",
       "      <td>Europa</td>\n",
       "      <td>True</td>\n",
       "      <td>E/607/S</td>\n",
       "      <td>TRAPPIST-1e</td>\n",
       "      <td>21.0</td>\n",
       "      <td>False</td>\n",
       "      <td>0.0</td>\n",
       "      <td>0.0</td>\n",
       "      <td>0.0</td>\n",
       "      <td>0.0</td>\n",
       "      <td>0.0</td>\n",
       "      <td>Arraid Opshaft</td>\n",
       "      <td>True</td>\n",
       "    </tr>\n",
       "    <tr>\n",
       "      <th>8679</th>\n",
       "      <td>9267_02</td>\n",
       "      <td>Europa</td>\n",
       "      <td>True</td>\n",
       "      <td>E/607/S</td>\n",
       "      <td>TRAPPIST-1e</td>\n",
       "      <td>20.0</td>\n",
       "      <td>False</td>\n",
       "      <td>0.0</td>\n",
       "      <td>0.0</td>\n",
       "      <td>0.0</td>\n",
       "      <td>0.0</td>\n",
       "      <td>0.0</td>\n",
       "      <td>Sabi Opshaft</td>\n",
       "      <td>True</td>\n",
       "    </tr>\n",
       "    <tr>\n",
       "      <th>8680</th>\n",
       "      <td>9268_01</td>\n",
       "      <td>Earth</td>\n",
       "      <td>True</td>\n",
       "      <td>G/1505/P</td>\n",
       "      <td>TRAPPIST-1e</td>\n",
       "      <td>31.0</td>\n",
       "      <td>False</td>\n",
       "      <td>0.0</td>\n",
       "      <td>0.0</td>\n",
       "      <td>0.0</td>\n",
       "      <td>0.0</td>\n",
       "      <td>0.0</td>\n",
       "      <td>Agnesa Baldson</td>\n",
       "      <td>True</td>\n",
       "    </tr>\n",
       "    <tr>\n",
       "      <th>8681</th>\n",
       "      <td>9270_01</td>\n",
       "      <td>Earth</td>\n",
       "      <td>True</td>\n",
       "      <td>G/1497/S</td>\n",
       "      <td>55 Cancri e</td>\n",
       "      <td>33.0</td>\n",
       "      <td>False</td>\n",
       "      <td>0.0</td>\n",
       "      <td>0.0</td>\n",
       "      <td>0.0</td>\n",
       "      <td>0.0</td>\n",
       "      <td>0.0</td>\n",
       "      <td>Lan Mckinsond</td>\n",
       "      <td>True</td>\n",
       "    </tr>\n",
       "    <tr>\n",
       "      <th>8682</th>\n",
       "      <td>9272_01</td>\n",
       "      <td>Earth</td>\n",
       "      <td>False</td>\n",
       "      <td>G/1507/P</td>\n",
       "      <td>TRAPPIST-1e</td>\n",
       "      <td>26.0</td>\n",
       "      <td>False</td>\n",
       "      <td>240.0</td>\n",
       "      <td>242.0</td>\n",
       "      <td>510.0</td>\n",
       "      <td>0.0</td>\n",
       "      <td>0.0</td>\n",
       "      <td>Ireene Simson</td>\n",
       "      <td>True</td>\n",
       "    </tr>\n",
       "    <tr>\n",
       "      <th>8683</th>\n",
       "      <td>9272_02</td>\n",
       "      <td>Earth</td>\n",
       "      <td>False</td>\n",
       "      <td>F/1894/P</td>\n",
       "      <td>TRAPPIST-1e</td>\n",
       "      <td>21.0</td>\n",
       "      <td>False</td>\n",
       "      <td>86.0</td>\n",
       "      <td>3.0</td>\n",
       "      <td>149.0</td>\n",
       "      <td>208.0</td>\n",
       "      <td>329.0</td>\n",
       "      <td>Gordo Simson</td>\n",
       "      <td>False</td>\n",
       "    </tr>\n",
       "    <tr>\n",
       "      <th>8684</th>\n",
       "      <td>9274_01</td>\n",
       "      <td>NaN</td>\n",
       "      <td>True</td>\n",
       "      <td>G/1508/P</td>\n",
       "      <td>TRAPPIST-1e</td>\n",
       "      <td>23.0</td>\n",
       "      <td>False</td>\n",
       "      <td>0.0</td>\n",
       "      <td>0.0</td>\n",
       "      <td>0.0</td>\n",
       "      <td>0.0</td>\n",
       "      <td>0.0</td>\n",
       "      <td>Chelsa Bullisey</td>\n",
       "      <td>True</td>\n",
       "    </tr>\n",
       "    <tr>\n",
       "      <th>8685</th>\n",
       "      <td>9275_01</td>\n",
       "      <td>Europa</td>\n",
       "      <td>False</td>\n",
       "      <td>A/97/P</td>\n",
       "      <td>TRAPPIST-1e</td>\n",
       "      <td>0.0</td>\n",
       "      <td>False</td>\n",
       "      <td>0.0</td>\n",
       "      <td>0.0</td>\n",
       "      <td>0.0</td>\n",
       "      <td>0.0</td>\n",
       "      <td>0.0</td>\n",
       "      <td>Polaton Conable</td>\n",
       "      <td>True</td>\n",
       "    </tr>\n",
       "    <tr>\n",
       "      <th>8686</th>\n",
       "      <td>9275_02</td>\n",
       "      <td>Europa</td>\n",
       "      <td>False</td>\n",
       "      <td>A/97/P</td>\n",
       "      <td>TRAPPIST-1e</td>\n",
       "      <td>32.0</td>\n",
       "      <td>False</td>\n",
       "      <td>1.0</td>\n",
       "      <td>1146.0</td>\n",
       "      <td>0.0</td>\n",
       "      <td>50.0</td>\n",
       "      <td>34.0</td>\n",
       "      <td>Diram Conable</td>\n",
       "      <td>False</td>\n",
       "    </tr>\n",
       "    <tr>\n",
       "      <th>8687</th>\n",
       "      <td>9275_03</td>\n",
       "      <td>Europa</td>\n",
       "      <td>NaN</td>\n",
       "      <td>A/97/P</td>\n",
       "      <td>TRAPPIST-1e</td>\n",
       "      <td>30.0</td>\n",
       "      <td>False</td>\n",
       "      <td>0.0</td>\n",
       "      <td>3208.0</td>\n",
       "      <td>0.0</td>\n",
       "      <td>2.0</td>\n",
       "      <td>330.0</td>\n",
       "      <td>Atlasym Conable</td>\n",
       "      <td>True</td>\n",
       "    </tr>\n",
       "    <tr>\n",
       "      <th>8688</th>\n",
       "      <td>9276_01</td>\n",
       "      <td>Europa</td>\n",
       "      <td>False</td>\n",
       "      <td>A/98/P</td>\n",
       "      <td>55 Cancri e</td>\n",
       "      <td>41.0</td>\n",
       "      <td>True</td>\n",
       "      <td>0.0</td>\n",
       "      <td>6819.0</td>\n",
       "      <td>0.0</td>\n",
       "      <td>1643.0</td>\n",
       "      <td>74.0</td>\n",
       "      <td>Gravior Noxnuther</td>\n",
       "      <td>False</td>\n",
       "    </tr>\n",
       "    <tr>\n",
       "      <th>8689</th>\n",
       "      <td>9278_01</td>\n",
       "      <td>Earth</td>\n",
       "      <td>True</td>\n",
       "      <td>G/1499/S</td>\n",
       "      <td>PSO J318.5-22</td>\n",
       "      <td>18.0</td>\n",
       "      <td>False</td>\n",
       "      <td>0.0</td>\n",
       "      <td>0.0</td>\n",
       "      <td>0.0</td>\n",
       "      <td>0.0</td>\n",
       "      <td>0.0</td>\n",
       "      <td>Kurta Mondalley</td>\n",
       "      <td>False</td>\n",
       "    </tr>\n",
       "    <tr>\n",
       "      <th>8690</th>\n",
       "      <td>9279_01</td>\n",
       "      <td>Earth</td>\n",
       "      <td>False</td>\n",
       "      <td>G/1500/S</td>\n",
       "      <td>TRAPPIST-1e</td>\n",
       "      <td>26.0</td>\n",
       "      <td>False</td>\n",
       "      <td>0.0</td>\n",
       "      <td>0.0</td>\n",
       "      <td>1872.0</td>\n",
       "      <td>1.0</td>\n",
       "      <td>0.0</td>\n",
       "      <td>Fayey Connon</td>\n",
       "      <td>True</td>\n",
       "    </tr>\n",
       "    <tr>\n",
       "      <th>8691</th>\n",
       "      <td>9280_01</td>\n",
       "      <td>Europa</td>\n",
       "      <td>False</td>\n",
       "      <td>E/608/S</td>\n",
       "      <td>55 Cancri e</td>\n",
       "      <td>32.0</td>\n",
       "      <td>False</td>\n",
       "      <td>0.0</td>\n",
       "      <td>1049.0</td>\n",
       "      <td>0.0</td>\n",
       "      <td>353.0</td>\n",
       "      <td>3235.0</td>\n",
       "      <td>Celeon Hontichre</td>\n",
       "      <td>False</td>\n",
       "    </tr>\n",
       "    <tr>\n",
       "      <th>8692</th>\n",
       "      <td>9280_02</td>\n",
       "      <td>Europa</td>\n",
       "      <td>False</td>\n",
       "      <td>E/608/S</td>\n",
       "      <td>TRAPPIST-1e</td>\n",
       "      <td>44.0</td>\n",
       "      <td>False</td>\n",
       "      <td>126.0</td>\n",
       "      <td>4688.0</td>\n",
       "      <td>0.0</td>\n",
       "      <td>0.0</td>\n",
       "      <td>12.0</td>\n",
       "      <td>Propsh Hontichre</td>\n",
       "      <td>True</td>\n",
       "    </tr>\n",
       "  </tbody>\n",
       "</table>\n",
       "</div>"
      ],
      "text/plain": [
       "     PassengerId HomePlanet CryoSleep     Cabin    Destination   Age    VIP  \\\n",
       "8673     9256_01      Earth      True  G/1494/S    TRAPPIST-1e  28.0  False   \n",
       "8674     9257_01        NaN     False  F/1892/P    TRAPPIST-1e  13.0  False   \n",
       "8675     9259_01      Earth       NaN  F/1893/P    TRAPPIST-1e  44.0  False   \n",
       "8676     9261_01      Earth      True  G/1504/P  PSO J318.5-22  22.0  False   \n",
       "8677     9264_01     Europa      True   E/606/S    55 Cancri e  30.0  False   \n",
       "8678     9267_01     Europa      True   E/607/S    TRAPPIST-1e  21.0  False   \n",
       "8679     9267_02     Europa      True   E/607/S    TRAPPIST-1e  20.0  False   \n",
       "8680     9268_01      Earth      True  G/1505/P    TRAPPIST-1e  31.0  False   \n",
       "8681     9270_01      Earth      True  G/1497/S    55 Cancri e  33.0  False   \n",
       "8682     9272_01      Earth     False  G/1507/P    TRAPPIST-1e  26.0  False   \n",
       "8683     9272_02      Earth     False  F/1894/P    TRAPPIST-1e  21.0  False   \n",
       "8684     9274_01        NaN      True  G/1508/P    TRAPPIST-1e  23.0  False   \n",
       "8685     9275_01     Europa     False    A/97/P    TRAPPIST-1e   0.0  False   \n",
       "8686     9275_02     Europa     False    A/97/P    TRAPPIST-1e  32.0  False   \n",
       "8687     9275_03     Europa       NaN    A/97/P    TRAPPIST-1e  30.0  False   \n",
       "8688     9276_01     Europa     False    A/98/P    55 Cancri e  41.0   True   \n",
       "8689     9278_01      Earth      True  G/1499/S  PSO J318.5-22  18.0  False   \n",
       "8690     9279_01      Earth     False  G/1500/S    TRAPPIST-1e  26.0  False   \n",
       "8691     9280_01     Europa     False   E/608/S    55 Cancri e  32.0  False   \n",
       "8692     9280_02     Europa     False   E/608/S    TRAPPIST-1e  44.0  False   \n",
       "\n",
       "      RoomService  FoodCourt  ShoppingMall     Spa  VRDeck               Name  \\\n",
       "8673          0.0        0.0           0.0     0.0     0.0     Darley Franton   \n",
       "8674         39.0        0.0        1085.0    24.0     0.0         Ties Apple   \n",
       "8675       1030.0     1015.0           0.0    11.0     NaN    Annah Gilleyons   \n",
       "8676          0.0        0.0           0.0     0.0     0.0    Therta Casentry   \n",
       "8677          0.0        0.0           0.0     0.0     0.0  Giedir Sionerorly   \n",
       "8678          0.0        0.0           0.0     0.0     0.0     Arraid Opshaft   \n",
       "8679          0.0        0.0           0.0     0.0     0.0       Sabi Opshaft   \n",
       "8680          0.0        0.0           0.0     0.0     0.0     Agnesa Baldson   \n",
       "8681          0.0        0.0           0.0     0.0     0.0      Lan Mckinsond   \n",
       "8682        240.0      242.0         510.0     0.0     0.0      Ireene Simson   \n",
       "8683         86.0        3.0         149.0   208.0   329.0       Gordo Simson   \n",
       "8684          0.0        0.0           0.0     0.0     0.0    Chelsa Bullisey   \n",
       "8685          0.0        0.0           0.0     0.0     0.0    Polaton Conable   \n",
       "8686          1.0     1146.0           0.0    50.0    34.0      Diram Conable   \n",
       "8687          0.0     3208.0           0.0     2.0   330.0    Atlasym Conable   \n",
       "8688          0.0     6819.0           0.0  1643.0    74.0  Gravior Noxnuther   \n",
       "8689          0.0        0.0           0.0     0.0     0.0    Kurta Mondalley   \n",
       "8690          0.0        0.0        1872.0     1.0     0.0       Fayey Connon   \n",
       "8691          0.0     1049.0           0.0   353.0  3235.0   Celeon Hontichre   \n",
       "8692        126.0     4688.0           0.0     0.0    12.0   Propsh Hontichre   \n",
       "\n",
       "      Transported  \n",
       "8673         True  \n",
       "8674        False  \n",
       "8675         True  \n",
       "8676        False  \n",
       "8677         True  \n",
       "8678         True  \n",
       "8679         True  \n",
       "8680         True  \n",
       "8681         True  \n",
       "8682         True  \n",
       "8683        False  \n",
       "8684         True  \n",
       "8685         True  \n",
       "8686        False  \n",
       "8687         True  \n",
       "8688        False  \n",
       "8689        False  \n",
       "8690         True  \n",
       "8691        False  \n",
       "8692         True  "
      ]
     },
     "execution_count": 5,
     "metadata": {},
     "output_type": "execute_result"
    }
   ],
   "source": [
    "# last 20 data samples \n",
    "train.tail(20)"
   ]
  },
  {
   "cell_type": "code",
   "execution_count": 6,
   "id": "a3b2eef1",
   "metadata": {
    "execution": {
     "iopub.execute_input": "2022-04-11T12:19:22.754323Z",
     "iopub.status.busy": "2022-04-11T12:19:22.753656Z",
     "iopub.status.idle": "2022-04-11T12:19:22.792270Z",
     "shell.execute_reply": "2022-04-11T12:19:22.791765Z",
     "shell.execute_reply.started": "2022-04-11T12:12:00.068719Z"
    },
    "papermill": {
     "duration": 0.139028,
     "end_time": "2022-04-11T12:19:22.792416",
     "exception": false,
     "start_time": "2022-04-11T12:19:22.653388",
     "status": "completed"
    },
    "tags": []
   },
   "outputs": [
    {
     "data": {
      "text/html": [
       "<div>\n",
       "<style scoped>\n",
       "    .dataframe tbody tr th:only-of-type {\n",
       "        vertical-align: middle;\n",
       "    }\n",
       "\n",
       "    .dataframe tbody tr th {\n",
       "        vertical-align: top;\n",
       "    }\n",
       "\n",
       "    .dataframe thead th {\n",
       "        text-align: right;\n",
       "    }\n",
       "</style>\n",
       "<table border=\"1\" class=\"dataframe\">\n",
       "  <thead>\n",
       "    <tr style=\"text-align: right;\">\n",
       "      <th></th>\n",
       "      <th>count</th>\n",
       "      <th>mean</th>\n",
       "      <th>std</th>\n",
       "      <th>min</th>\n",
       "      <th>25%</th>\n",
       "      <th>50%</th>\n",
       "      <th>75%</th>\n",
       "      <th>max</th>\n",
       "    </tr>\n",
       "  </thead>\n",
       "  <tbody>\n",
       "    <tr>\n",
       "      <th>Age</th>\n",
       "      <td>8514.0</td>\n",
       "      <td>28.827930</td>\n",
       "      <td>14.489021</td>\n",
       "      <td>0.0</td>\n",
       "      <td>19.0</td>\n",
       "      <td>27.0</td>\n",
       "      <td>38.0</td>\n",
       "      <td>79.0</td>\n",
       "    </tr>\n",
       "    <tr>\n",
       "      <th>RoomService</th>\n",
       "      <td>8512.0</td>\n",
       "      <td>224.687617</td>\n",
       "      <td>666.717663</td>\n",
       "      <td>0.0</td>\n",
       "      <td>0.0</td>\n",
       "      <td>0.0</td>\n",
       "      <td>47.0</td>\n",
       "      <td>14327.0</td>\n",
       "    </tr>\n",
       "    <tr>\n",
       "      <th>FoodCourt</th>\n",
       "      <td>8510.0</td>\n",
       "      <td>458.077203</td>\n",
       "      <td>1611.489240</td>\n",
       "      <td>0.0</td>\n",
       "      <td>0.0</td>\n",
       "      <td>0.0</td>\n",
       "      <td>76.0</td>\n",
       "      <td>29813.0</td>\n",
       "    </tr>\n",
       "    <tr>\n",
       "      <th>ShoppingMall</th>\n",
       "      <td>8485.0</td>\n",
       "      <td>173.729169</td>\n",
       "      <td>604.696458</td>\n",
       "      <td>0.0</td>\n",
       "      <td>0.0</td>\n",
       "      <td>0.0</td>\n",
       "      <td>27.0</td>\n",
       "      <td>23492.0</td>\n",
       "    </tr>\n",
       "    <tr>\n",
       "      <th>Spa</th>\n",
       "      <td>8510.0</td>\n",
       "      <td>311.138778</td>\n",
       "      <td>1136.705535</td>\n",
       "      <td>0.0</td>\n",
       "      <td>0.0</td>\n",
       "      <td>0.0</td>\n",
       "      <td>59.0</td>\n",
       "      <td>22408.0</td>\n",
       "    </tr>\n",
       "    <tr>\n",
       "      <th>VRDeck</th>\n",
       "      <td>8505.0</td>\n",
       "      <td>304.854791</td>\n",
       "      <td>1145.717189</td>\n",
       "      <td>0.0</td>\n",
       "      <td>0.0</td>\n",
       "      <td>0.0</td>\n",
       "      <td>46.0</td>\n",
       "      <td>24133.0</td>\n",
       "    </tr>\n",
       "  </tbody>\n",
       "</table>\n",
       "</div>"
      ],
      "text/plain": [
       "               count        mean          std  min   25%   50%   75%      max\n",
       "Age           8514.0   28.827930    14.489021  0.0  19.0  27.0  38.0     79.0\n",
       "RoomService   8512.0  224.687617   666.717663  0.0   0.0   0.0  47.0  14327.0\n",
       "FoodCourt     8510.0  458.077203  1611.489240  0.0   0.0   0.0  76.0  29813.0\n",
       "ShoppingMall  8485.0  173.729169   604.696458  0.0   0.0   0.0  27.0  23492.0\n",
       "Spa           8510.0  311.138778  1136.705535  0.0   0.0   0.0  59.0  22408.0\n",
       "VRDeck        8505.0  304.854791  1145.717189  0.0   0.0   0.0  46.0  24133.0"
      ]
     },
     "execution_count": 6,
     "metadata": {},
     "output_type": "execute_result"
    }
   ],
   "source": [
    "# with desribe function you can get all statistical information about your numeric data \n",
    "train.describe().T"
   ]
  },
  {
   "cell_type": "code",
   "execution_count": 7,
   "id": "20215ce1",
   "metadata": {
    "execution": {
     "iopub.execute_input": "2022-04-11T12:19:22.988202Z",
     "iopub.status.busy": "2022-04-11T12:19:22.979879Z",
     "iopub.status.idle": "2022-04-11T12:19:23.003347Z",
     "shell.execute_reply": "2022-04-11T12:19:23.002769Z",
     "shell.execute_reply.started": "2022-04-11T12:12:00.101404Z"
    },
    "papermill": {
     "duration": 0.120323,
     "end_time": "2022-04-11T12:19:23.003501",
     "exception": false,
     "start_time": "2022-04-11T12:19:22.883178",
     "status": "completed"
    },
    "tags": []
   },
   "outputs": [
    {
     "name": "stdout",
     "output_type": "stream",
     "text": [
      "<class 'pandas.core.frame.DataFrame'>\n",
      "RangeIndex: 8693 entries, 0 to 8692\n",
      "Data columns (total 14 columns):\n",
      " #   Column        Non-Null Count  Dtype  \n",
      "---  ------        --------------  -----  \n",
      " 0   PassengerId   8693 non-null   object \n",
      " 1   HomePlanet    8492 non-null   object \n",
      " 2   CryoSleep     8476 non-null   object \n",
      " 3   Cabin         8494 non-null   object \n",
      " 4   Destination   8511 non-null   object \n",
      " 5   Age           8514 non-null   float64\n",
      " 6   VIP           8490 non-null   object \n",
      " 7   RoomService   8512 non-null   float64\n",
      " 8   FoodCourt     8510 non-null   float64\n",
      " 9   ShoppingMall  8485 non-null   float64\n",
      " 10  Spa           8510 non-null   float64\n",
      " 11  VRDeck        8505 non-null   float64\n",
      " 12  Name          8493 non-null   object \n",
      " 13  Transported   8693 non-null   bool   \n",
      "dtypes: bool(1), float64(6), object(7)\n",
      "memory usage: 891.5+ KB\n"
     ]
    }
   ],
   "source": [
    "# calling info() on dataset will provide all standard information about your dataset\n",
    "train.info()"
   ]
  },
  {
   "cell_type": "markdown",
   "id": "ee3dca45",
   "metadata": {
    "papermill": {
     "duration": 0.091423,
     "end_time": "2022-04-11T12:19:23.187548",
     "exception": false,
     "start_time": "2022-04-11T12:19:23.096125",
     "status": "completed"
    },
    "tags": []
   },
   "source": [
    "- there are total 8693 raws and in info() where it is less than 8693 it means the difference is missing value for that particular feature in raws\n",
    "- Dtype will give you data type of feature \n"
   ]
  },
  {
   "cell_type": "code",
   "execution_count": 8,
   "id": "865ae5c3",
   "metadata": {
    "execution": {
     "iopub.execute_input": "2022-04-11T12:19:23.377493Z",
     "iopub.status.busy": "2022-04-11T12:19:23.376849Z",
     "iopub.status.idle": "2022-04-11T12:19:23.397696Z",
     "shell.execute_reply": "2022-04-11T12:19:23.397049Z",
     "shell.execute_reply.started": "2022-04-11T12:12:00.119514Z"
    },
    "papermill": {
     "duration": 0.118327,
     "end_time": "2022-04-11T12:19:23.397839",
     "exception": false,
     "start_time": "2022-04-11T12:19:23.279512",
     "status": "completed"
    },
    "tags": []
   },
   "outputs": [
    {
     "data": {
      "text/plain": [
       "PassengerId     8693\n",
       "HomePlanet         3\n",
       "CryoSleep          2\n",
       "Cabin           6560\n",
       "Destination        3\n",
       "Age               80\n",
       "VIP                2\n",
       "RoomService     1273\n",
       "FoodCourt       1507\n",
       "ShoppingMall    1115\n",
       "Spa             1327\n",
       "VRDeck          1306\n",
       "Name            8473\n",
       "Transported        2\n",
       "dtype: int64"
      ]
     },
     "execution_count": 8,
     "metadata": {},
     "output_type": "execute_result"
    }
   ],
   "source": [
    "# unique() will give you idea of how many unique values are in particular feature\n",
    "train.nunique()"
   ]
  },
  {
   "cell_type": "code",
   "execution_count": 9,
   "id": "a92b8cfa",
   "metadata": {
    "execution": {
     "iopub.execute_input": "2022-04-11T12:19:23.601442Z",
     "iopub.status.busy": "2022-04-11T12:19:23.597144Z",
     "iopub.status.idle": "2022-04-11T12:19:23.606029Z",
     "shell.execute_reply": "2022-04-11T12:19:23.605370Z",
     "shell.execute_reply.started": "2022-04-11T12:12:00.135860Z"
    },
    "papermill": {
     "duration": 0.116077,
     "end_time": "2022-04-11T12:19:23.606187",
     "exception": false,
     "start_time": "2022-04-11T12:19:23.490110",
     "status": "completed"
    },
    "tags": []
   },
   "outputs": [
    {
     "data": {
      "text/plain": [
       "PassengerId       0\n",
       "HomePlanet      201\n",
       "CryoSleep       217\n",
       "Cabin           199\n",
       "Destination     182\n",
       "Age             179\n",
       "VIP             203\n",
       "RoomService     181\n",
       "FoodCourt       183\n",
       "ShoppingMall    208\n",
       "Spa             183\n",
       "VRDeck          188\n",
       "Name            200\n",
       "Transported       0\n",
       "dtype: int64"
      ]
     },
     "execution_count": 9,
     "metadata": {},
     "output_type": "execute_result"
    }
   ],
   "source": [
    "# this will show you how many total missing values are in features \n",
    "train.isna().sum()"
   ]
  },
  {
   "cell_type": "markdown",
   "id": "d1a5219d",
   "metadata": {
    "papermill": {
     "duration": 0.094619,
     "end_time": "2022-04-11T12:19:23.796261",
     "exception": false,
     "start_time": "2022-04-11T12:19:23.701642",
     "status": "completed"
    },
    "tags": []
   },
   "source": [
    "## Data Visualization "
   ]
  },
  {
   "cell_type": "markdown",
   "id": "8612bc6e",
   "metadata": {
    "papermill": {
     "duration": 0.092898,
     "end_time": "2022-04-11T12:19:23.983599",
     "exception": false,
     "start_time": "2022-04-11T12:19:23.890701",
     "status": "completed"
    },
    "tags": []
   },
   "source": [
    "- We use seaborn here to plot Countplot and histogram here\n",
    "- As name suggest countplot will plot count per category in feature when we are working with law cardinality features it is great to visualize them using countplot\n",
    "\n",
    "- histogram is more used for looking at the distibution of feature\n",
    "\n",
    "- Low cardinality features means feature which has few category like our target variable here which has only two category\n",
    "- High cardinality feature means feature which has high number of category like our Name feature in this dataset which has 8473 different values"
   ]
  },
  {
   "cell_type": "code",
   "execution_count": 10,
   "id": "eb831113",
   "metadata": {
    "execution": {
     "iopub.execute_input": "2022-04-11T12:19:24.179414Z",
     "iopub.status.busy": "2022-04-11T12:19:24.178676Z",
     "iopub.status.idle": "2022-04-11T12:19:24.344403Z",
     "shell.execute_reply": "2022-04-11T12:19:24.343536Z",
     "shell.execute_reply.started": "2022-04-11T12:12:00.147285Z"
    },
    "papermill": {
     "duration": 0.266179,
     "end_time": "2022-04-11T12:19:24.344567",
     "exception": false,
     "start_time": "2022-04-11T12:19:24.078388",
     "status": "completed"
    },
    "tags": []
   },
   "outputs": [
    {
     "data": {
      "text/plain": [
       "<AxesSubplot:xlabel='count', ylabel='Transported'>"
      ]
     },
     "execution_count": 10,
     "metadata": {},
     "output_type": "execute_result"
    },
    {
     "data": {
      "image/png": "[encoded data removed]",
      "text/plain": [
       "<Figure size 432x288 with 1 Axes>"
      ]
     },
     "metadata": {
      "needs_background": "light"
     },
     "output_type": "display_data"
    }
   ],
   "source": [
    "# Transported is our target variable\n",
    "sns.countplot(y=train.Transported)"
   ]
  },
  {
   "cell_type": "markdown",
   "id": "69f58dbc",
   "metadata": {
    "papermill": {
     "duration": 0.092887,
     "end_time": "2022-04-11T12:19:24.531015",
     "exception": false,
     "start_time": "2022-04-11T12:19:24.438128",
     "status": "completed"
    },
    "tags": []
   },
   "source": [
    "- In this dataset our target variable is perfectly balanced but in most of datasets it is not balanced \n",
    "- We will work with more unbalanced dataset from tomorrow so don't worry about how to handle them now\n"
   ]
  },
  {
   "cell_type": "code",
   "execution_count": 11,
   "id": "b8618e14",
   "metadata": {
    "execution": {
     "iopub.execute_input": "2022-04-11T12:19:24.720062Z",
     "iopub.status.busy": "2022-04-11T12:19:24.719435Z",
     "iopub.status.idle": "2022-04-11T12:19:24.902741Z",
     "shell.execute_reply": "2022-04-11T12:19:24.903250Z",
     "shell.execute_reply.started": "2022-04-11T12:12:00.308309Z"
    },
    "papermill": {
     "duration": 0.279595,
     "end_time": "2022-04-11T12:19:24.903430",
     "exception": false,
     "start_time": "2022-04-11T12:19:24.623835",
     "status": "completed"
    },
    "tags": []
   },
   "outputs": [
    {
     "data": {
      "text/plain": [
       "<AxesSubplot:xlabel='count', ylabel='HomePlanet'>"
      ]
     },
     "execution_count": 11,
     "metadata": {},
     "output_type": "execute_result"
    },
    {
     "data": {
      "image/png": "[encoded data removed]",
      "text/plain": [
       "<Figure size 432x288 with 1 Axes>"
      ]
     },
     "metadata": {
      "needs_background": "light"
     },
     "output_type": "display_data"
    }
   ],
   "source": [
    "sns.countplot(y=train.HomePlanet)"
   ]
  },
  {
   "cell_type": "markdown",
   "id": "4caf286b",
   "metadata": {
    "papermill": {
     "duration": 0.094238,
     "end_time": "2022-04-11T12:19:25.092660",
     "exception": false,
     "start_time": "2022-04-11T12:19:24.998422",
     "status": "completed"
    },
    "tags": []
   },
   "source": [
    "- Earthings rules the universe 😎\n"
   ]
  },
  {
   "cell_type": "code",
   "execution_count": 12,
   "id": "d2642243",
   "metadata": {
    "execution": {
     "iopub.execute_input": "2022-04-11T12:19:25.291933Z",
     "iopub.status.busy": "2022-04-11T12:19:25.291236Z",
     "iopub.status.idle": "2022-04-11T12:19:25.481397Z",
     "shell.execute_reply": "2022-04-11T12:19:25.481952Z",
     "shell.execute_reply.started": "2022-04-11T12:12:00.488915Z"
    },
    "papermill": {
     "duration": 0.292101,
     "end_time": "2022-04-11T12:19:25.482153",
     "exception": false,
     "start_time": "2022-04-11T12:19:25.190052",
     "status": "completed"
    },
    "tags": []
   },
   "outputs": [
    {
     "data": {
      "text/plain": [
       "<AxesSubplot:xlabel='count', ylabel='CryoSleep'>"
      ]
     },
     "execution_count": 12,
     "metadata": {},
     "output_type": "execute_result"
    },
    {
     "data": {
      "image/png": "[encoded data removed]",
      "text/plain": [
       "<Figure size 432x288 with 1 Axes>"
      ]
     },
     "metadata": {
      "needs_background": "light"
     },
     "output_type": "display_data"
    }
   ],
   "source": [
    "sns.countplot(y=train.CryoSleep)"
   ]
  },
  {
   "cell_type": "markdown",
   "id": "cf597117",
   "metadata": {
    "papermill": {
     "duration": 0.096554,
     "end_time": "2022-04-11T12:19:25.678094",
     "exception": false,
     "start_time": "2022-04-11T12:19:25.581540",
     "status": "completed"
    },
    "tags": []
   },
   "source": [
    "- There are almost 3000 people who like to be in animation while travelling\n",
    "- Looks like many people like metaverse might just hit off 🙂\n"
   ]
  },
  {
   "cell_type": "code",
   "execution_count": 13,
   "id": "dc23fc01",
   "metadata": {
    "execution": {
     "iopub.execute_input": "2022-04-11T12:19:25.876602Z",
     "iopub.status.busy": "2022-04-11T12:19:25.875918Z",
     "iopub.status.idle": "2022-04-11T12:19:26.067953Z",
     "shell.execute_reply": "2022-04-11T12:19:26.068417Z",
     "shell.execute_reply.started": "2022-04-11T12:12:00.679206Z"
    },
    "papermill": {
     "duration": 0.293333,
     "end_time": "2022-04-11T12:19:26.068652",
     "exception": false,
     "start_time": "2022-04-11T12:19:25.775319",
     "status": "completed"
    },
    "tags": []
   },
   "outputs": [
    {
     "data": {
      "text/plain": [
       "<AxesSubplot:xlabel='count', ylabel='Destination'>"
      ]
     },
     "execution_count": 13,
     "metadata": {},
     "output_type": "execute_result"
    },
    {
     "data": {
      "image/png": "[encoded data removed]",
      "text/plain": [
       "<Figure size 432x288 with 1 Axes>"
      ]
     },
     "metadata": {
      "needs_background": "light"
     },
     "output_type": "display_data"
    }
   ],
   "source": [
    "sns.countplot(y=train.Destination)"
   ]
  },
  {
   "cell_type": "markdown",
   "id": "b7f9188d",
   "metadata": {
    "papermill": {
     "duration": 0.098339,
     "end_time": "2022-04-11T12:19:26.264654",
     "exception": false,
     "start_time": "2022-04-11T12:19:26.166315",
     "status": "completed"
    },
    "tags": []
   },
   "source": [
    "- I have never been to these places man !! Looks like passwords though or Elon's son 😂\n"
   ]
  },
  {
   "cell_type": "code",
   "execution_count": 14,
   "id": "f5e5b616",
   "metadata": {
    "execution": {
     "iopub.execute_input": "2022-04-11T12:19:26.465057Z",
     "iopub.status.busy": "2022-04-11T12:19:26.464335Z",
     "iopub.status.idle": "2022-04-11T12:19:26.679399Z",
     "shell.execute_reply": "2022-04-11T12:19:26.680076Z",
     "shell.execute_reply.started": "2022-04-11T12:12:00.863959Z"
    },
    "papermill": {
     "duration": 0.31805,
     "end_time": "2022-04-11T12:19:26.680304",
     "exception": false,
     "start_time": "2022-04-11T12:19:26.362254",
     "status": "completed"
    },
    "tags": []
   },
   "outputs": [
    {
     "data": {
      "text/plain": [
       "<AxesSubplot:xlabel='count', ylabel='VIP'>"
      ]
     },
     "execution_count": 14,
     "metadata": {},
     "output_type": "execute_result"
    },
    {
     "data": {
      "image/png": "[encoded data removed]",
      "text/plain": [
       "<Figure size 432x288 with 1 Axes>"
      ]
     },
     "metadata": {
      "needs_background": "light"
     },
     "output_type": "display_data"
    }
   ],
   "source": [
    "sns.countplot(y=train.VIP)"
   ]
  },
  {
   "cell_type": "markdown",
   "id": "1a7d188f",
   "metadata": {
    "papermill": {
     "duration": 0.097492,
     "end_time": "2022-04-11T12:19:26.882236",
     "exception": false,
     "start_time": "2022-04-11T12:19:26.784744",
     "status": "completed"
    },
    "tags": []
   },
   "source": [
    "- Very few VIP people as always 🥲"
   ]
  },
  {
   "cell_type": "code",
   "execution_count": 15,
   "id": "05b0128d",
   "metadata": {
    "execution": {
     "iopub.execute_input": "2022-04-11T12:19:27.084087Z",
     "iopub.status.busy": "2022-04-11T12:19:27.083108Z",
     "iopub.status.idle": "2022-04-11T12:19:27.447709Z",
     "shell.execute_reply": "2022-04-11T12:19:27.447061Z",
     "shell.execute_reply.started": "2022-04-11T12:12:01.061456Z"
    },
    "papermill": {
     "duration": 0.466921,
     "end_time": "2022-04-11T12:19:27.447873",
     "exception": false,
     "start_time": "2022-04-11T12:19:26.980952",
     "status": "completed"
    },
    "tags": []
   },
   "outputs": [
    {
     "data": {
      "text/plain": [
       "<AxesSubplot:xlabel='Age', ylabel='Count'>"
      ]
     },
     "execution_count": 15,
     "metadata": {},
     "output_type": "execute_result"
    },
    {
     "data": {
      "image/png": "[encoded data removed]",
      "text/plain": [
       "<Figure size 432x288 with 1 Axes>"
      ]
     },
     "metadata": {
      "needs_background": "light"
     },
     "output_type": "display_data"
    }
   ],
   "source": [
    "sns.histplot(x=train.Age,kde=True)"
   ]
  },
  {
   "cell_type": "markdown",
   "id": "de7bbe84",
   "metadata": {
    "papermill": {
     "duration": 0.100345,
     "end_time": "2022-04-11T12:19:27.650507",
     "exception": false,
     "start_time": "2022-04-11T12:19:27.550162",
     "status": "completed"
    },
    "tags": []
   },
   "source": [
    "- Looks like our distibution for Age class isn't bad "
   ]
  },
  {
   "cell_type": "code",
   "execution_count": 16,
   "id": "e1ff19bd",
   "metadata": {
    "execution": {
     "iopub.execute_input": "2022-04-11T12:19:27.861242Z",
     "iopub.status.busy": "2022-04-11T12:19:27.860513Z",
     "iopub.status.idle": "2022-04-11T12:19:28.417130Z",
     "shell.execute_reply": "2022-04-11T12:19:28.417660Z",
     "shell.execute_reply.started": "2022-04-11T12:12:01.386875Z"
    },
    "papermill": {
     "duration": 0.666775,
     "end_time": "2022-04-11T12:19:28.417870",
     "exception": false,
     "start_time": "2022-04-11T12:19:27.751095",
     "status": "completed"
    },
    "tags": []
   },
   "outputs": [
    {
     "data": {
      "text/plain": [
       "<AxesSubplot:>"
      ]
     },
     "execution_count": 16,
     "metadata": {},
     "output_type": "execute_result"
    },
    {
     "data": {
      "image/png": "[encoded data removed]",
      "text/plain": [
       "<Figure size 864x648 with 2 Axes>"
      ]
     },
     "metadata": {
      "needs_background": "light"
     },
     "output_type": "display_data"
    }
   ],
   "source": [
    "# Now time to check correlation\n",
    "corr=train.corr()\n",
    "plt.figure(figsize=(12,9))\n",
    "sns.heatmap(corr,annot=True)"
   ]
  },
  {
   "cell_type": "markdown",
   "id": "e155521f",
   "metadata": {
    "papermill": {
     "duration": 0.102895,
     "end_time": "2022-04-11T12:19:28.626971",
     "exception": false,
     "start_time": "2022-04-11T12:19:28.524076",
     "status": "completed"
    },
    "tags": []
   },
   "source": [
    "- Correlation == Relationship between different variables. Yepp that's what you need to know about correlation that it shows relation between variable. Generally it is between 1 to 1. 1 meaning high relation and -1 meaning negative realtion and 0 meaning no relation"
   ]
  },
  {
   "cell_type": "markdown",
   "id": "cda1c307",
   "metadata": {
    "papermill": {
     "duration": 0.103989,
     "end_time": "2022-04-11T12:19:28.835169",
     "exception": false,
     "start_time": "2022-04-11T12:19:28.731180",
     "status": "completed"
    },
    "tags": []
   },
   "source": [
    "### Time to look in Cabin"
   ]
  },
  {
   "cell_type": "code",
   "execution_count": 17,
   "id": "adfd505b",
   "metadata": {
    "execution": {
     "iopub.execute_input": "2022-04-11T12:19:29.051832Z",
     "iopub.status.busy": "2022-04-11T12:19:29.050331Z",
     "iopub.status.idle": "2022-04-11T12:19:29.057099Z",
     "shell.execute_reply": "2022-04-11T12:19:29.057690Z",
     "shell.execute_reply.started": "2022-04-11T12:12:01.922777Z"
    },
    "papermill": {
     "duration": 0.117808,
     "end_time": "2022-04-11T12:19:29.057916",
     "exception": false,
     "start_time": "2022-04-11T12:19:28.940108",
     "status": "completed"
    },
    "tags": []
   },
   "outputs": [
    {
     "data": {
      "text/plain": [
       "6560"
      ]
     },
     "execution_count": 17,
     "metadata": {},
     "output_type": "execute_result"
    }
   ],
   "source": [
    "train.Cabin.nunique()"
   ]
  },
  {
   "attachments": {
    "c1af3905-9fc6-4631-ae57-4a375d61ddf0.png": {
     "image/png": "[encoded data removed]"
    }
   },
   "cell_type": "markdown",
   "id": "8d349850",
   "metadata": {
    "papermill": {
     "duration": 0.104335,
     "end_time": "2022-04-11T12:19:29.266405",
     "exception": false,
     "start_time": "2022-04-11T12:19:29.162070",
     "status": "completed"
    },
    "tags": []
   },
   "source": [
    "- Cabin is categorical feature with having 6560 different values in it. If we try to encode it with OneHotEncoding it will be disaster for our model since it will add 6560 columns in our dataset after encoding this columns\n",
    "\n",
    "- This is what one hot encoding looks like\n",
    "![image.png](attachment:c1af3905-9fc6-4631-ae57-4a375d61ddf0.png)\n",
    "\n",
    "- For better understanding of Categorical Encoding I suggest go [here](https://www.kaggle.com/code/alexisbcook/categorical-variables/tutorial) It will only take 5-10 minutes to go through it.\n"
   ]
  },
  {
   "cell_type": "code",
   "execution_count": 18,
   "id": "1b60079d",
   "metadata": {
    "execution": {
     "iopub.execute_input": "2022-04-11T12:19:29.485952Z",
     "iopub.status.busy": "2022-04-11T12:19:29.485235Z",
     "iopub.status.idle": "2022-04-11T12:19:29.488117Z",
     "shell.execute_reply": "2022-04-11T12:19:29.487638Z",
     "shell.execute_reply.started": "2022-04-11T12:12:01.930992Z"
    },
    "papermill": {
     "duration": 0.117632,
     "end_time": "2022-04-11T12:19:29.488258",
     "exception": false,
     "start_time": "2022-04-11T12:19:29.370626",
     "status": "completed"
    },
    "tags": []
   },
   "outputs": [],
   "source": [
    "# let's fill our Cabin column with mode(most frequent) first to precess further.\n",
    "train.Cabin=train.Cabin.fillna(train.Cabin.mode()[0])"
   ]
  },
  {
   "cell_type": "code",
   "execution_count": 19,
   "id": "12334704",
   "metadata": {
    "execution": {
     "iopub.execute_input": "2022-04-11T12:19:29.714816Z",
     "iopub.status.busy": "2022-04-11T12:19:29.714117Z",
     "iopub.status.idle": "2022-04-11T12:19:29.723063Z",
     "shell.execute_reply": "2022-04-11T12:19:29.723662Z",
     "shell.execute_reply.started": "2022-04-11T12:12:01.944415Z"
    },
    "papermill": {
     "duration": 0.133394,
     "end_time": "2022-04-11T12:19:29.723876",
     "exception": false,
     "start_time": "2022-04-11T12:19:29.590482",
     "status": "completed"
    },
    "tags": []
   },
   "outputs": [
    {
     "data": {
      "text/plain": [
       "0"
      ]
     },
     "execution_count": 19,
     "metadata": {},
     "output_type": "execute_result"
    }
   ],
   "source": [
    "# Voila there are no missing values in Cabin any more 😁\n",
    "train.Cabin.isna().sum()\n"
   ]
  },
  {
   "cell_type": "code",
   "execution_count": 20,
   "id": "f15952a4",
   "metadata": {
    "execution": {
     "iopub.execute_input": "2022-04-11T12:19:29.945276Z",
     "iopub.status.busy": "2022-04-11T12:19:29.944624Z",
     "iopub.status.idle": "2022-04-11T12:19:29.948994Z",
     "shell.execute_reply": "2022-04-11T12:19:29.949545Z",
     "shell.execute_reply.started": "2022-04-11T12:12:01.960026Z"
    },
    "papermill": {
     "duration": 0.114249,
     "end_time": "2022-04-11T12:19:29.949763",
     "exception": false,
     "start_time": "2022-04-11T12:19:29.835514",
     "status": "completed"
    },
    "tags": []
   },
   "outputs": [
    {
     "data": {
      "text/plain": [
       "0          B/0/P\n",
       "1          F/0/S\n",
       "2          A/0/S\n",
       "3          A/0/S\n",
       "4          F/1/S\n",
       "          ...   \n",
       "8688      A/98/P\n",
       "8689    G/1499/S\n",
       "8690    G/1500/S\n",
       "8691     E/608/S\n",
       "8692     E/608/S\n",
       "Name: Cabin, Length: 8693, dtype: object"
      ]
     },
     "execution_count": 20,
     "metadata": {},
     "output_type": "execute_result"
    }
   ],
   "source": [
    "# let's look at Cabin column only now\n",
    "train.Cabin"
   ]
  },
  {
   "cell_type": "markdown",
   "id": "72de30ee",
   "metadata": {
    "papermill": {
     "duration": 0.103678,
     "end_time": "2022-04-11T12:19:30.158502",
     "exception": false,
     "start_time": "2022-04-11T12:19:30.054824",
     "status": "completed"
    },
    "tags": []
   },
   "source": [
    "- If you have read Data Description which I know you did you will know that ''Cabin Takes the form deck/num/side''\n",
    "\n",
    "- So for example in B/0/P; B= deck, 0=num and P=side"
   ]
  },
  {
   "cell_type": "code",
   "execution_count": 21,
   "id": "7687ec5a",
   "metadata": {
    "execution": {
     "iopub.execute_input": "2022-04-11T12:19:30.374801Z",
     "iopub.status.busy": "2022-04-11T12:19:30.374128Z",
     "iopub.status.idle": "2022-04-11T12:19:30.384472Z",
     "shell.execute_reply": "2022-04-11T12:19:30.383829Z",
     "shell.execute_reply.started": "2022-04-11T12:12:01.973290Z"
    },
    "papermill": {
     "duration": 0.119096,
     "end_time": "2022-04-11T12:19:30.384635",
     "exception": false,
     "start_time": "2022-04-11T12:19:30.265539",
     "status": "completed"
    },
    "tags": []
   },
   "outputs": [
    {
     "data": {
      "text/plain": [
       "0       P\n",
       "1       S\n",
       "2       S\n",
       "3       S\n",
       "4       S\n",
       "       ..\n",
       "8688    P\n",
       "8689    S\n",
       "8690    S\n",
       "8691    S\n",
       "8692    S\n",
       "Name: Cabin Side, Length: 8693, dtype: object"
      ]
     },
     "execution_count": 21,
     "metadata": {},
     "output_type": "execute_result"
    }
   ],
   "source": [
    "train['Cabin Side']=train.Cabin.map(lambda x: x[-1]) \n",
    "train['Cabin Side']\n"
   ]
  },
  {
   "cell_type": "markdown",
   "id": "a9a7dd10",
   "metadata": {
    "papermill": {
     "duration": 0.102098,
     "end_time": "2022-04-11T12:19:30.590258",
     "exception": false,
     "start_time": "2022-04-11T12:19:30.488160",
     "status": "completed"
    },
    "tags": []
   },
   "source": [
    "- Doing this will give us side of our cabin which can either be Port or Standbord, we will store it in new column Cabin Side\n",
    "\n",
    "- If you don't know about map function go [here](https://www.geeksforgeeks.org/python-map-function/) and if don't know about lambda function go [here](https://www.w3schools.com/python/python_lambda.asp)"
   ]
  },
  {
   "cell_type": "code",
   "execution_count": 22,
   "id": "50776631",
   "metadata": {
    "execution": {
     "iopub.execute_input": "2022-04-11T12:19:30.809192Z",
     "iopub.status.busy": "2022-04-11T12:19:30.800965Z",
     "iopub.status.idle": "2022-04-11T12:19:30.813196Z",
     "shell.execute_reply": "2022-04-11T12:19:30.812546Z",
     "shell.execute_reply.started": "2022-04-11T12:12:01.992901Z"
    },
    "papermill": {
     "duration": 0.119821,
     "end_time": "2022-04-11T12:19:30.813330",
     "exception": false,
     "start_time": "2022-04-11T12:19:30.693509",
     "status": "completed"
    },
    "tags": []
   },
   "outputs": [
    {
     "data": {
      "text/plain": [
       "0       B\n",
       "1       F\n",
       "2       A\n",
       "3       A\n",
       "4       F\n",
       "       ..\n",
       "8688    A\n",
       "8689    G\n",
       "8690    G\n",
       "8691    E\n",
       "8692    E\n",
       "Name: Cabin Deck, Length: 8693, dtype: object"
      ]
     },
     "execution_count": 22,
     "metadata": {},
     "output_type": "execute_result"
    }
   ],
   "source": [
    "train['Cabin Deck']=train.Cabin.map(lambda x: x[0])\n",
    "train['Cabin Deck']\n"
   ]
  },
  {
   "cell_type": "markdown",
   "id": "8d1b1a0c",
   "metadata": {
    "papermill": {
     "duration": 0.10425,
     "end_time": "2022-04-11T12:19:31.022202",
     "exception": false,
     "start_time": "2022-04-11T12:19:30.917952",
     "status": "completed"
    },
    "tags": []
   },
   "source": [
    "- Doing this will give us deck of our cabin which we will store in new column Cabin Deck"
   ]
  },
  {
   "cell_type": "code",
   "execution_count": 23,
   "id": "f33e7286",
   "metadata": {
    "execution": {
     "iopub.execute_input": "2022-04-11T12:19:31.242069Z",
     "iopub.status.busy": "2022-04-11T12:19:31.233861Z",
     "iopub.status.idle": "2022-04-11T12:19:31.246194Z",
     "shell.execute_reply": "2022-04-11T12:19:31.246682Z",
     "shell.execute_reply.started": "2022-04-11T12:12:02.004115Z"
    },
    "papermill": {
     "duration": 0.121161,
     "end_time": "2022-04-11T12:19:31.246867",
     "exception": false,
     "start_time": "2022-04-11T12:19:31.125706",
     "status": "completed"
    },
    "tags": []
   },
   "outputs": [
    {
     "data": {
      "text/plain": [
       "0       0\n",
       "1       0\n",
       "2       0\n",
       "3       0\n",
       "4       1\n",
       "       ..\n",
       "8688    9\n",
       "8689    1\n",
       "8690    1\n",
       "8691    6\n",
       "8692    6\n",
       "Name: Cabin Num, Length: 8693, dtype: object"
      ]
     },
     "execution_count": 23,
     "metadata": {},
     "output_type": "execute_result"
    }
   ],
   "source": [
    "train['Cabin Num']=train.Cabin.map(lambda x: x[2])\n",
    "train['Cabin Num']"
   ]
  },
  {
   "cell_type": "markdown",
   "id": "51fc85f7",
   "metadata": {
    "papermill": {
     "duration": 0.104361,
     "end_time": "2022-04-11T12:19:31.456439",
     "exception": false,
     "start_time": "2022-04-11T12:19:31.352078",
     "status": "completed"
    },
    "tags": []
   },
   "source": [
    "- This will give us number of our cabin which we will store in new column Cabin Num"
   ]
  },
  {
   "cell_type": "markdown",
   "id": "464108d1",
   "metadata": {
    "papermill": {
     "duration": 0.104079,
     "end_time": "2022-04-11T12:19:31.665771",
     "exception": false,
     "start_time": "2022-04-11T12:19:31.561692",
     "status": "completed"
    },
    "tags": []
   },
   "source": [
    "- Now let's drop some columns which we don't need at all, we drop them because they can't help us in making predictions at all\n",
    "- We don't need Name or Id because they are useless when we want to find out if person will survive or not.\n",
    "- We have made three new columns from cabin column so we don't need it anymore either"
   ]
  },
  {
   "cell_type": "code",
   "execution_count": 24,
   "id": "4f301ce6",
   "metadata": {
    "execution": {
     "iopub.execute_input": "2022-04-11T12:19:31.880708Z",
     "iopub.status.busy": "2022-04-11T12:19:31.879513Z",
     "iopub.status.idle": "2022-04-11T12:19:31.882513Z",
     "shell.execute_reply": "2022-04-11T12:19:31.881981Z",
     "shell.execute_reply.started": "2022-04-11T12:12:02.022736Z"
    },
    "papermill": {
     "duration": 0.112638,
     "end_time": "2022-04-11T12:19:31.882689",
     "exception": false,
     "start_time": "2022-04-11T12:19:31.770051",
     "status": "completed"
    },
    "tags": []
   },
   "outputs": [],
   "source": [
    "cols_to_drop=['Name','PassengerId','Cabin']"
   ]
  },
  {
   "cell_type": "code",
   "execution_count": 25,
   "id": "f0062c68",
   "metadata": {
    "execution": {
     "iopub.execute_input": "2022-04-11T12:19:32.099898Z",
     "iopub.status.busy": "2022-04-11T12:19:32.099222Z",
     "iopub.status.idle": "2022-04-11T12:19:32.105627Z",
     "shell.execute_reply": "2022-04-11T12:19:32.106175Z",
     "shell.execute_reply.started": "2022-04-11T12:12:02.030350Z"
    },
    "papermill": {
     "duration": 0.117809,
     "end_time": "2022-04-11T12:19:32.106370",
     "exception": false,
     "start_time": "2022-04-11T12:19:31.988561",
     "status": "completed"
    },
    "tags": []
   },
   "outputs": [],
   "source": [
    "# drop columns using drop() axis=1 means column and axis=0 means raw\n",
    "train=train.drop(cols_to_drop,axis=1)"
   ]
  },
  {
   "cell_type": "code",
   "execution_count": 26,
   "id": "49d7f0f5",
   "metadata": {
    "execution": {
     "iopub.execute_input": "2022-04-11T12:19:32.322482Z",
     "iopub.status.busy": "2022-04-11T12:19:32.321827Z",
     "iopub.status.idle": "2022-04-11T12:19:32.345028Z",
     "shell.execute_reply": "2022-04-11T12:19:32.345551Z",
     "shell.execute_reply.started": "2022-04-11T12:12:02.045893Z"
    },
    "papermill": {
     "duration": 0.132934,
     "end_time": "2022-04-11T12:19:32.345761",
     "exception": false,
     "start_time": "2022-04-11T12:19:32.212827",
     "status": "completed"
    },
    "tags": []
   },
   "outputs": [
    {
     "data": {
      "text/html": [
       "<div>\n",
       "<style scoped>\n",
       "    .dataframe tbody tr th:only-of-type {\n",
       "        vertical-align: middle;\n",
       "    }\n",
       "\n",
       "    .dataframe tbody tr th {\n",
       "        vertical-align: top;\n",
       "    }\n",
       "\n",
       "    .dataframe thead th {\n",
       "        text-align: right;\n",
       "    }\n",
       "</style>\n",
       "<table border=\"1\" class=\"dataframe\">\n",
       "  <thead>\n",
       "    <tr style=\"text-align: right;\">\n",
       "      <th></th>\n",
       "      <th>HomePlanet</th>\n",
       "      <th>CryoSleep</th>\n",
       "      <th>Destination</th>\n",
       "      <th>Age</th>\n",
       "      <th>VIP</th>\n",
       "      <th>RoomService</th>\n",
       "      <th>FoodCourt</th>\n",
       "      <th>ShoppingMall</th>\n",
       "      <th>Spa</th>\n",
       "      <th>VRDeck</th>\n",
       "      <th>Transported</th>\n",
       "      <th>Cabin Side</th>\n",
       "      <th>Cabin Deck</th>\n",
       "      <th>Cabin Num</th>\n",
       "    </tr>\n",
       "  </thead>\n",
       "  <tbody>\n",
       "    <tr>\n",
       "      <th>0</th>\n",
       "      <td>Europa</td>\n",
       "      <td>False</td>\n",
       "      <td>TRAPPIST-1e</td>\n",
       "      <td>39.0</td>\n",
       "      <td>False</td>\n",
       "      <td>0.0</td>\n",
       "      <td>0.0</td>\n",
       "      <td>0.0</td>\n",
       "      <td>0.0</td>\n",
       "      <td>0.0</td>\n",
       "      <td>False</td>\n",
       "      <td>P</td>\n",
       "      <td>B</td>\n",
       "      <td>0</td>\n",
       "    </tr>\n",
       "    <tr>\n",
       "      <th>1</th>\n",
       "      <td>Earth</td>\n",
       "      <td>False</td>\n",
       "      <td>TRAPPIST-1e</td>\n",
       "      <td>24.0</td>\n",
       "      <td>False</td>\n",
       "      <td>109.0</td>\n",
       "      <td>9.0</td>\n",
       "      <td>25.0</td>\n",
       "      <td>549.0</td>\n",
       "      <td>44.0</td>\n",
       "      <td>True</td>\n",
       "      <td>S</td>\n",
       "      <td>F</td>\n",
       "      <td>0</td>\n",
       "    </tr>\n",
       "    <tr>\n",
       "      <th>2</th>\n",
       "      <td>Europa</td>\n",
       "      <td>False</td>\n",
       "      <td>TRAPPIST-1e</td>\n",
       "      <td>58.0</td>\n",
       "      <td>True</td>\n",
       "      <td>43.0</td>\n",
       "      <td>3576.0</td>\n",
       "      <td>0.0</td>\n",
       "      <td>6715.0</td>\n",
       "      <td>49.0</td>\n",
       "      <td>False</td>\n",
       "      <td>S</td>\n",
       "      <td>A</td>\n",
       "      <td>0</td>\n",
       "    </tr>\n",
       "    <tr>\n",
       "      <th>3</th>\n",
       "      <td>Europa</td>\n",
       "      <td>False</td>\n",
       "      <td>TRAPPIST-1e</td>\n",
       "      <td>33.0</td>\n",
       "      <td>False</td>\n",
       "      <td>0.0</td>\n",
       "      <td>1283.0</td>\n",
       "      <td>371.0</td>\n",
       "      <td>3329.0</td>\n",
       "      <td>193.0</td>\n",
       "      <td>False</td>\n",
       "      <td>S</td>\n",
       "      <td>A</td>\n",
       "      <td>0</td>\n",
       "    </tr>\n",
       "    <tr>\n",
       "      <th>4</th>\n",
       "      <td>Earth</td>\n",
       "      <td>False</td>\n",
       "      <td>TRAPPIST-1e</td>\n",
       "      <td>16.0</td>\n",
       "      <td>False</td>\n",
       "      <td>303.0</td>\n",
       "      <td>70.0</td>\n",
       "      <td>151.0</td>\n",
       "      <td>565.0</td>\n",
       "      <td>2.0</td>\n",
       "      <td>True</td>\n",
       "      <td>S</td>\n",
       "      <td>F</td>\n",
       "      <td>1</td>\n",
       "    </tr>\n",
       "    <tr>\n",
       "      <th>5</th>\n",
       "      <td>Earth</td>\n",
       "      <td>False</td>\n",
       "      <td>PSO J318.5-22</td>\n",
       "      <td>44.0</td>\n",
       "      <td>False</td>\n",
       "      <td>0.0</td>\n",
       "      <td>483.0</td>\n",
       "      <td>0.0</td>\n",
       "      <td>291.0</td>\n",
       "      <td>0.0</td>\n",
       "      <td>True</td>\n",
       "      <td>P</td>\n",
       "      <td>F</td>\n",
       "      <td>0</td>\n",
       "    </tr>\n",
       "    <tr>\n",
       "      <th>6</th>\n",
       "      <td>Earth</td>\n",
       "      <td>False</td>\n",
       "      <td>TRAPPIST-1e</td>\n",
       "      <td>26.0</td>\n",
       "      <td>False</td>\n",
       "      <td>42.0</td>\n",
       "      <td>1539.0</td>\n",
       "      <td>3.0</td>\n",
       "      <td>0.0</td>\n",
       "      <td>0.0</td>\n",
       "      <td>True</td>\n",
       "      <td>S</td>\n",
       "      <td>F</td>\n",
       "      <td>2</td>\n",
       "    </tr>\n",
       "    <tr>\n",
       "      <th>7</th>\n",
       "      <td>Earth</td>\n",
       "      <td>True</td>\n",
       "      <td>TRAPPIST-1e</td>\n",
       "      <td>28.0</td>\n",
       "      <td>False</td>\n",
       "      <td>0.0</td>\n",
       "      <td>0.0</td>\n",
       "      <td>0.0</td>\n",
       "      <td>0.0</td>\n",
       "      <td>NaN</td>\n",
       "      <td>True</td>\n",
       "      <td>S</td>\n",
       "      <td>G</td>\n",
       "      <td>0</td>\n",
       "    </tr>\n",
       "    <tr>\n",
       "      <th>8</th>\n",
       "      <td>Earth</td>\n",
       "      <td>False</td>\n",
       "      <td>TRAPPIST-1e</td>\n",
       "      <td>35.0</td>\n",
       "      <td>False</td>\n",
       "      <td>0.0</td>\n",
       "      <td>785.0</td>\n",
       "      <td>17.0</td>\n",
       "      <td>216.0</td>\n",
       "      <td>0.0</td>\n",
       "      <td>True</td>\n",
       "      <td>S</td>\n",
       "      <td>F</td>\n",
       "      <td>3</td>\n",
       "    </tr>\n",
       "    <tr>\n",
       "      <th>9</th>\n",
       "      <td>Europa</td>\n",
       "      <td>True</td>\n",
       "      <td>55 Cancri e</td>\n",
       "      <td>14.0</td>\n",
       "      <td>False</td>\n",
       "      <td>0.0</td>\n",
       "      <td>0.0</td>\n",
       "      <td>0.0</td>\n",
       "      <td>0.0</td>\n",
       "      <td>0.0</td>\n",
       "      <td>True</td>\n",
       "      <td>P</td>\n",
       "      <td>B</td>\n",
       "      <td>1</td>\n",
       "    </tr>\n",
       "  </tbody>\n",
       "</table>\n",
       "</div>"
      ],
      "text/plain": [
       "  HomePlanet CryoSleep    Destination   Age    VIP  RoomService  FoodCourt  \\\n",
       "0     Europa     False    TRAPPIST-1e  39.0  False          0.0        0.0   \n",
       "1      Earth     False    TRAPPIST-1e  24.0  False        109.0        9.0   \n",
       "2     Europa     False    TRAPPIST-1e  58.0   True         43.0     3576.0   \n",
       "3     Europa     False    TRAPPIST-1e  33.0  False          0.0     1283.0   \n",
       "4      Earth     False    TRAPPIST-1e  16.0  False        303.0       70.0   \n",
       "5      Earth     False  PSO J318.5-22  44.0  False          0.0      483.0   \n",
       "6      Earth     False    TRAPPIST-1e  26.0  False         42.0     1539.0   \n",
       "7      Earth      True    TRAPPIST-1e  28.0  False          0.0        0.0   \n",
       "8      Earth     False    TRAPPIST-1e  35.0  False          0.0      785.0   \n",
       "9     Europa      True    55 Cancri e  14.0  False          0.0        0.0   \n",
       "\n",
       "   ShoppingMall     Spa  VRDeck  Transported Cabin Side Cabin Deck Cabin Num  \n",
       "0           0.0     0.0     0.0        False          P          B         0  \n",
       "1          25.0   549.0    44.0         True          S          F         0  \n",
       "2           0.0  6715.0    49.0        False          S          A         0  \n",
       "3         371.0  3329.0   193.0        False          S          A         0  \n",
       "4         151.0   565.0     2.0         True          S          F         1  \n",
       "5           0.0   291.0     0.0         True          P          F         0  \n",
       "6           3.0     0.0     0.0         True          S          F         2  \n",
       "7           0.0     0.0     NaN         True          S          G         0  \n",
       "8          17.0   216.0     0.0         True          S          F         3  \n",
       "9           0.0     0.0     0.0         True          P          B         1  "
      ]
     },
     "execution_count": 26,
     "metadata": {},
     "output_type": "execute_result"
    }
   ],
   "source": [
    "train.head(10)"
   ]
  },
  {
   "cell_type": "code",
   "execution_count": 27,
   "id": "d6349c29",
   "metadata": {
    "execution": {
     "iopub.execute_input": "2022-04-11T12:19:32.563482Z",
     "iopub.status.busy": "2022-04-11T12:19:32.562850Z",
     "iopub.status.idle": "2022-04-11T12:19:32.577482Z",
     "shell.execute_reply": "2022-04-11T12:19:32.578022Z",
     "shell.execute_reply.started": "2022-04-11T12:12:02.075276Z"
    },
    "papermill": {
     "duration": 0.126206,
     "end_time": "2022-04-11T12:19:32.578195",
     "exception": false,
     "start_time": "2022-04-11T12:19:32.451989",
     "status": "completed"
    },
    "tags": []
   },
   "outputs": [
    {
     "data": {
      "text/plain": [
       "HomePlanet      201\n",
       "CryoSleep       217\n",
       "Destination     182\n",
       "Age             179\n",
       "VIP             203\n",
       "RoomService     181\n",
       "FoodCourt       183\n",
       "ShoppingMall    208\n",
       "Spa             183\n",
       "VRDeck          188\n",
       "Transported       0\n",
       "Cabin Side        0\n",
       "Cabin Deck        0\n",
       "Cabin Num         0\n",
       "dtype: int64"
      ]
     },
     "execution_count": 27,
     "metadata": {},
     "output_type": "execute_result"
    }
   ],
   "source": [
    "train.isna().sum()"
   ]
  },
  {
   "cell_type": "code",
   "execution_count": 28,
   "id": "990e6347",
   "metadata": {
    "execution": {
     "iopub.execute_input": "2022-04-11T12:19:32.795634Z",
     "iopub.status.busy": "2022-04-11T12:19:32.794949Z",
     "iopub.status.idle": "2022-04-11T12:19:32.797624Z",
     "shell.execute_reply": "2022-04-11T12:19:32.798108Z",
     "shell.execute_reply.started": "2022-04-11T12:12:02.098126Z"
    },
    "papermill": {
     "duration": 0.114742,
     "end_time": "2022-04-11T12:19:32.798298",
     "exception": false,
     "start_time": "2022-04-11T12:19:32.683556",
     "status": "completed"
    },
    "tags": []
   },
   "outputs": [
    {
     "data": {
      "text/plain": [
       "(8693, 14)"
      ]
     },
     "execution_count": 28,
     "metadata": {},
     "output_type": "execute_result"
    }
   ],
   "source": [
    "train.shape"
   ]
  },
  {
   "cell_type": "markdown",
   "id": "59648088",
   "metadata": {
    "papermill": {
     "duration": 0.106511,
     "end_time": "2022-04-11T12:19:33.011149",
     "exception": false,
     "start_time": "2022-04-11T12:19:32.904638",
     "status": "completed"
    },
    "tags": []
   },
   "source": [
    "- we dropped three columns and aslo added three new columns so shape will stay the same\n",
    "\n",
    "- Now let's divide our dataset into independent and dependent "
   ]
  },
  {
   "cell_type": "code",
   "execution_count": 29,
   "id": "54de9158",
   "metadata": {
    "execution": {
     "iopub.execute_input": "2022-04-11T12:19:33.227789Z",
     "iopub.status.busy": "2022-04-11T12:19:33.227112Z",
     "iopub.status.idle": "2022-04-11T12:19:33.232715Z",
     "shell.execute_reply": "2022-04-11T12:19:33.233193Z",
     "shell.execute_reply.started": "2022-04-11T12:12:02.109604Z"
    },
    "papermill": {
     "duration": 0.115672,
     "end_time": "2022-04-11T12:19:33.233384",
     "exception": false,
     "start_time": "2022-04-11T12:19:33.117712",
     "status": "completed"
    },
    "tags": []
   },
   "outputs": [],
   "source": [
    "X=train.drop('Transported',axis=1) #Independent \n",
    "Y=train.Transported #Dependent"
   ]
  },
  {
   "cell_type": "markdown",
   "id": "a9fd57a3",
   "metadata": {
    "papermill": {
     "duration": 0.107451,
     "end_time": "2022-04-11T12:19:33.447649",
     "exception": false,
     "start_time": "2022-04-11T12:19:33.340198",
     "status": "completed"
    },
    "tags": []
   },
   "source": [
    "- Y has two values False and True so we will convert them into 0 and 1 using astype() function. it will convert false into 0 and True into 1\n",
    "\n",
    "- we need to do so that our model can perform operations, We will convert it back into False and True when submitting predictions "
   ]
  },
  {
   "cell_type": "code",
   "execution_count": 30,
   "id": "286e913e",
   "metadata": {
    "execution": {
     "iopub.execute_input": "2022-04-11T12:19:33.670827Z",
     "iopub.status.busy": "2022-04-11T12:19:33.670134Z",
     "iopub.status.idle": "2022-04-11T12:19:33.673850Z",
     "shell.execute_reply": "2022-04-11T12:19:33.674309Z",
     "shell.execute_reply.started": "2022-04-11T12:12:02.124720Z"
    },
    "papermill": {
     "duration": 0.117494,
     "end_time": "2022-04-11T12:19:33.674501",
     "exception": false,
     "start_time": "2022-04-11T12:19:33.557007",
     "status": "completed"
    },
    "tags": []
   },
   "outputs": [],
   "source": [
    "Y=Y.astype('int')"
   ]
  },
  {
   "cell_type": "markdown",
   "id": "80aaac90",
   "metadata": {
    "papermill": {
     "duration": 0.108933,
     "end_time": "2022-04-11T12:19:33.890006",
     "exception": false,
     "start_time": "2022-04-11T12:19:33.781073",
     "status": "completed"
    },
    "tags": []
   },
   "source": [
    "## train test split"
   ]
  },
  {
   "cell_type": "code",
   "execution_count": 31,
   "id": "cb7db5e4",
   "metadata": {
    "execution": {
     "iopub.execute_input": "2022-04-11T12:19:34.110618Z",
     "iopub.status.busy": "2022-04-11T12:19:34.109625Z",
     "iopub.status.idle": "2022-04-11T12:19:34.295482Z",
     "shell.execute_reply": "2022-04-11T12:19:34.294829Z",
     "shell.execute_reply.started": "2022-04-11T12:12:02.138727Z"
    },
    "papermill": {
     "duration": 0.298286,
     "end_time": "2022-04-11T12:19:34.295682",
     "exception": false,
     "start_time": "2022-04-11T12:19:33.997396",
     "status": "completed"
    },
    "tags": []
   },
   "outputs": [],
   "source": [
    "from sklearn.model_selection import train_test_split\n",
    "\n",
    "train_X,val_X,train_y,val_y=train_test_split(X,Y,random_state=0,test_size=0.2)"
   ]
  },
  {
   "cell_type": "markdown",
   "id": "bd330840",
   "metadata": {
    "papermill": {
     "duration": 0.107795,
     "end_time": "2022-04-11T12:19:34.512341",
     "exception": false,
     "start_time": "2022-04-11T12:19:34.404546",
     "status": "completed"
    },
    "tags": []
   },
   "source": [
    "- We will split our training data into two part \n",
    "1. train data and \n",
    "2. validation data\n",
    "\n",
    "\n",
    "- We do so to check our model performance after it has trained on our training data. We don't dare touch our validation data for training purpose and once our model is trained we use validation data to check how good it is and if there can be further improvements in it."
   ]
  },
  {
   "cell_type": "code",
   "execution_count": 32,
   "id": "5fab879b",
   "metadata": {
    "execution": {
     "iopub.execute_input": "2022-04-11T12:19:34.735189Z",
     "iopub.status.busy": "2022-04-11T12:19:34.734275Z",
     "iopub.status.idle": "2022-04-11T12:19:34.736615Z",
     "shell.execute_reply": "2022-04-11T12:19:34.737149Z",
     "shell.execute_reply.started": "2022-04-11T12:12:02.153995Z"
    },
    "papermill": {
     "duration": 0.116453,
     "end_time": "2022-04-11T12:19:34.737318",
     "exception": false,
     "start_time": "2022-04-11T12:19:34.620865",
     "status": "completed"
    },
    "tags": []
   },
   "outputs": [],
   "source": [
    "# We will get numerica and categorical columns name from doing this\n",
    "obj_cols=[col for col in train_X.columns if train[col].dtypes=='object'] # Categorical columns\n",
    "num_cols=[col for col in train_X.columns if train[col].dtypes!='object'] #Numerica columns"
   ]
  },
  {
   "cell_type": "markdown",
   "id": "d1da850e",
   "metadata": {
    "papermill": {
     "duration": 0.106523,
     "end_time": "2022-04-11T12:19:34.950592",
     "exception": false,
     "start_time": "2022-04-11T12:19:34.844069",
     "status": "completed"
    },
    "tags": []
   },
   "source": [
    "# Pipeline and ColumnTransformer"
   ]
  },
  {
   "cell_type": "markdown",
   "id": "322e9b43",
   "metadata": {
    "papermill": {
     "duration": 0.108337,
     "end_time": "2022-04-11T12:19:35.165341",
     "exception": false,
     "start_time": "2022-04-11T12:19:35.057004",
     "status": "completed"
    },
    "tags": []
   },
   "source": [
    "- If you don't know about feature scaling go [here](https://prthgo.medium.com/feature-transformation-3306c7ac9dd5) it's blog written poorly by me 😂. \n",
    "- Pipeline will put multiple steps into one object so we can perform them easily it will keep our code clean and simple to understand \n",
    "- ColumnTransformer will perform preprocessing on our columns "
   ]
  },
  {
   "cell_type": "code",
   "execution_count": 33,
   "id": "55a02de6",
   "metadata": {
    "execution": {
     "iopub.execute_input": "2022-04-11T12:19:35.392054Z",
     "iopub.status.busy": "2022-04-11T12:19:35.386949Z",
     "iopub.status.idle": "2022-04-11T12:19:35.549969Z",
     "shell.execute_reply": "2022-04-11T12:19:35.549380Z",
     "shell.execute_reply.started": "2022-04-11T12:12:02.164801Z"
    },
    "papermill": {
     "duration": 0.276585,
     "end_time": "2022-04-11T12:19:35.550124",
     "exception": false,
     "start_time": "2022-04-11T12:19:35.273539",
     "status": "completed"
    },
    "tags": []
   },
   "outputs": [],
   "source": [
    "from sklearn.pipeline import Pipeline \n",
    "from sklearn.impute import SimpleImputer\n",
    "from sklearn.preprocessing import StandardScaler,OneHotEncoder\n",
    "from sklearn.compose import ColumnTransformer\n",
    "\n",
    "# This will do all preprocessing on numerical columns\n",
    "# First we will impute missing values in columns with the mean of column then we will scale our numerical\n",
    "#  features with StandardScaler.\n",
    "num_preprocess=Pipeline(steps=[\n",
    "    ('impute',SimpleImputer(strategy='mean')),\n",
    "    ('scaling',StandardScaler())\n",
    "])\n",
    "\n",
    "\n",
    "# This will perform preprocessing on our Categorical features\n",
    "# First we will impute missing values with most_frequnt values in that column and then we will one hot encode them\n",
    "obj_preprocess=Pipeline(steps=[\n",
    "    ('impute',SimpleImputer(strategy='most_frequent')),\n",
    "    ('encode',OneHotEncoder(handle_unknown='ignore'))\n",
    "    \n",
    "])\n",
    "\n",
    "\n",
    "# Now we will use ColumnTransformer to put above to steps in one object to perform all preprocessing at once\n",
    "preprocessor= ColumnTransformer(transformers=[\n",
    "    ('num', num_preprocess,num_cols),\n",
    "    ('obj', obj_preprocess,obj_cols)\n",
    "])"
   ]
  },
  {
   "cell_type": "markdown",
   "id": "b803f376",
   "metadata": {
    "papermill": {
     "duration": 0.106808,
     "end_time": "2022-04-11T12:19:35.763998",
     "exception": false,
     "start_time": "2022-04-11T12:19:35.657190",
     "status": "completed"
    },
    "tags": []
   },
   "source": [
    "## model building and evaluation "
   ]
  },
  {
   "cell_type": "code",
   "execution_count": 34,
   "id": "8cd00309",
   "metadata": {
    "execution": {
     "iopub.execute_input": "2022-04-11T12:19:35.986180Z",
     "iopub.status.busy": "2022-04-11T12:19:35.985200Z",
     "iopub.status.idle": "2022-04-11T12:19:35.989771Z",
     "shell.execute_reply": "2022-04-11T12:19:35.990239Z",
     "shell.execute_reply.started": "2022-04-11T12:12:02.179844Z"
    },
    "papermill": {
     "duration": 0.118429,
     "end_time": "2022-04-11T12:19:35.990422",
     "exception": false,
     "start_time": "2022-04-11T12:19:35.871993",
     "status": "completed"
    },
    "tags": []
   },
   "outputs": [],
   "source": [
    "# First we will use LogisticRegression model\n",
    "from sklearn.linear_model import LogisticRegression\n",
    "\n",
    "# not passing any parametrs, our model will accept default parameters\n",
    "lr_model=LogisticRegression(random_state=0)\n"
   ]
  },
  {
   "cell_type": "code",
   "execution_count": 35,
   "id": "2c36abf0",
   "metadata": {
    "execution": {
     "iopub.execute_input": "2022-04-11T12:19:36.211135Z",
     "iopub.status.busy": "2022-04-11T12:19:36.210133Z",
     "iopub.status.idle": "2022-04-11T12:19:36.214518Z",
     "shell.execute_reply": "2022-04-11T12:19:36.215121Z",
     "shell.execute_reply.started": "2022-04-11T12:12:02.195098Z"
    },
    "papermill": {
     "duration": 0.118315,
     "end_time": "2022-04-11T12:19:36.215303",
     "exception": false,
     "start_time": "2022-04-11T12:19:36.096988",
     "status": "completed"
    },
    "tags": []
   },
   "outputs": [],
   "source": [
    "#  Now we will create pipeline using our lr_model with preprocessing\n",
    "\n",
    "lr_pipe=Pipeline(steps=[\n",
    "    ('preprocess',preprocessor),\n",
    "    ('model',lr_model)\n",
    "])"
   ]
  },
  {
   "cell_type": "code",
   "execution_count": 36,
   "id": "11abf871",
   "metadata": {
    "execution": {
     "iopub.execute_input": "2022-04-11T12:19:36.432470Z",
     "iopub.status.busy": "2022-04-11T12:19:36.431494Z",
     "iopub.status.idle": "2022-04-11T12:19:36.645497Z",
     "shell.execute_reply": "2022-04-11T12:19:36.646402Z",
     "shell.execute_reply.started": "2022-04-11T12:12:02.208045Z"
    },
    "papermill": {
     "duration": 0.327175,
     "end_time": "2022-04-11T12:19:36.650034",
     "exception": false,
     "start_time": "2022-04-11T12:19:36.322859",
     "status": "completed"
    },
    "tags": []
   },
   "outputs": [],
   "source": [
    "# now we will fit our model on training data, fitting model will train our model generally \n",
    "lr_pipe.fit(train_X,train_y)\n",
    "\n",
    "# Now we will predict on our validation data using our trained model\n",
    "lr_pred=lr_pipe.predict(val_X)"
   ]
  },
  {
   "cell_type": "code",
   "execution_count": 37,
   "id": "a3bf2e12",
   "metadata": {
    "execution": {
     "iopub.execute_input": "2022-04-11T12:19:36.929064Z",
     "iopub.status.busy": "2022-04-11T12:19:36.928225Z",
     "iopub.status.idle": "2022-04-11T12:19:36.938300Z",
     "shell.execute_reply": "2022-04-11T12:19:36.939030Z",
     "shell.execute_reply.started": "2022-04-11T12:12:02.475848Z"
    },
    "papermill": {
     "duration": 0.125886,
     "end_time": "2022-04-11T12:19:36.939285",
     "exception": false,
     "start_time": "2022-04-11T12:19:36.813399",
     "status": "completed"
    },
    "tags": []
   },
   "outputs": [
    {
     "name": "stdout",
     "output_type": "stream",
     "text": [
      "Accuracy of Logistic Regression Model: 0.7872340425531915\n",
      "F1 Score of Logistic Regression Model: 0.7928331466965286\n",
      "Confusion Matrix of Logistic Regression Model\n"
     ]
    },
    {
     "data": {
      "text/plain": [
       "array([[661, 202],\n",
       "       [168, 708]])"
      ]
     },
     "execution_count": 37,
     "metadata": {},
     "output_type": "execute_result"
    }
   ],
   "source": [
    "from sklearn.metrics import accuracy_score,confusion_matrix,plot_confusion_matrix,f1_score\n",
    "\n",
    "\n",
    "# Now we will check accuracy of our model with some matrices, \n",
    "# don't worry if you don't know about them right now, just look at the score\n",
    "print(f'Accuracy of Logistic Regression Model: {accuracy_score(val_y,lr_pred)}')\n",
    "print(f'F1 Score of Logistic Regression Model: {f1_score(val_y,lr_pred)}')\n",
    "print('Confusion Matrix of Logistic Regression Model')\n",
    "confusion_matrix(val_y,lr_pred)"
   ]
  },
  {
   "cell_type": "code",
   "execution_count": 38,
   "id": "a14ccec3",
   "metadata": {
    "execution": {
     "iopub.execute_input": "2022-04-11T12:19:37.163636Z",
     "iopub.status.busy": "2022-04-11T12:19:37.162836Z",
     "iopub.status.idle": "2022-04-11T12:19:37.255746Z",
     "shell.execute_reply": "2022-04-11T12:19:37.255112Z",
     "shell.execute_reply.started": "2022-04-11T12:12:02.492954Z"
    },
    "papermill": {
     "duration": 0.20695,
     "end_time": "2022-04-11T12:19:37.255904",
     "exception": false,
     "start_time": "2022-04-11T12:19:37.048954",
     "status": "completed"
    },
    "tags": []
   },
   "outputs": [],
   "source": [
    "#  Now we will use randomforest model and perform above steps again\n",
    "from sklearn.ensemble import RandomForestClassifier\n",
    "\n",
    "rf_model=RandomForestClassifier(random_state=0)\n"
   ]
  },
  {
   "cell_type": "code",
   "execution_count": 39,
   "id": "61cffa72",
   "metadata": {
    "execution": {
     "iopub.execute_input": "2022-04-11T12:19:37.474094Z",
     "iopub.status.busy": "2022-04-11T12:19:37.473126Z",
     "iopub.status.idle": "2022-04-11T12:19:37.476897Z",
     "shell.execute_reply": "2022-04-11T12:19:37.477347Z",
     "shell.execute_reply.started": "2022-04-11T12:12:02.499497Z"
    },
    "papermill": {
     "duration": 0.114694,
     "end_time": "2022-04-11T12:19:37.477523",
     "exception": false,
     "start_time": "2022-04-11T12:19:37.362829",
     "status": "completed"
    },
    "tags": []
   },
   "outputs": [],
   "source": [
    "rf_pipe=Pipeline(steps=[\n",
    "    ('preprocess',preprocessor),\n",
    "    ('model',rf_model)\n",
    "])"
   ]
  },
  {
   "cell_type": "code",
   "execution_count": 40,
   "id": "a31d35cd",
   "metadata": {
    "execution": {
     "iopub.execute_input": "2022-04-11T12:19:37.698364Z",
     "iopub.status.busy": "2022-04-11T12:19:37.697622Z",
     "iopub.status.idle": "2022-04-11T12:19:38.805723Z",
     "shell.execute_reply": "2022-04-11T12:19:38.806257Z",
     "shell.execute_reply.started": "2022-04-11T12:12:02.511026Z"
    },
    "papermill": {
     "duration": 1.220069,
     "end_time": "2022-04-11T12:19:38.806463",
     "exception": false,
     "start_time": "2022-04-11T12:19:37.586394",
     "status": "completed"
    },
    "tags": []
   },
   "outputs": [
    {
     "data": {
      "text/plain": [
       "Pipeline(steps=[('preprocess',\n",
       "                 ColumnTransformer(transformers=[('num',\n",
       "                                                  Pipeline(steps=[('impute',\n",
       "                                                                   SimpleImputer()),\n",
       "                                                                  ('scaling',\n",
       "                                                                   StandardScaler())]),\n",
       "                                                  ['Age', 'RoomService',\n",
       "                                                   'FoodCourt', 'ShoppingMall',\n",
       "                                                   'Spa', 'VRDeck']),\n",
       "                                                 ('obj',\n",
       "                                                  Pipeline(steps=[('impute',\n",
       "                                                                   SimpleImputer(strategy='most_frequent')),\n",
       "                                                                  ('encode',\n",
       "                                                                   OneHotEncoder(handle_unknown='ignore'))]),\n",
       "                                                  ['HomePlanet', 'CryoSleep',\n",
       "                                                   'Destination', 'VIP',\n",
       "                                                   'Cabin Side', 'Cabin Deck',\n",
       "                                                   'Cabin Num'])])),\n",
       "                ('model', RandomForestClassifier(random_state=0))])"
      ]
     },
     "execution_count": 40,
     "metadata": {},
     "output_type": "execute_result"
    }
   ],
   "source": [
    "rf_pipe.fit(train_X,train_y)"
   ]
  },
  {
   "cell_type": "code",
   "execution_count": 41,
   "id": "f876784f",
   "metadata": {
    "execution": {
     "iopub.execute_input": "2022-04-11T12:19:39.029149Z",
     "iopub.status.busy": "2022-04-11T12:19:39.028460Z",
     "iopub.status.idle": "2022-04-11T12:19:39.092356Z",
     "shell.execute_reply": "2022-04-11T12:19:39.092891Z",
     "shell.execute_reply.started": "2022-04-11T12:12:08.374084Z"
    },
    "papermill": {
     "duration": 0.176992,
     "end_time": "2022-04-11T12:19:39.093135",
     "exception": false,
     "start_time": "2022-04-11T12:19:38.916143",
     "status": "completed"
    },
    "tags": []
   },
   "outputs": [],
   "source": [
    "rf_pred=rf_pipe.predict(val_X)"
   ]
  },
  {
   "cell_type": "code",
   "execution_count": 42,
   "id": "0fb93f8c",
   "metadata": {
    "execution": {
     "iopub.execute_input": "2022-04-11T12:19:39.319568Z",
     "iopub.status.busy": "2022-04-11T12:19:39.318875Z",
     "iopub.status.idle": "2022-04-11T12:19:39.331444Z",
     "shell.execute_reply": "2022-04-11T12:19:39.332518Z",
     "shell.execute_reply.started": "2022-04-11T12:12:08.502779Z"
    },
    "papermill": {
     "duration": 0.129976,
     "end_time": "2022-04-11T12:19:39.332797",
     "exception": false,
     "start_time": "2022-04-11T12:19:39.202821",
     "status": "completed"
    },
    "tags": []
   },
   "outputs": [
    {
     "name": "stdout",
     "output_type": "stream",
     "text": [
      "Accuracy of Random Forest Model: 0.78953421506613\n",
      "F1 Score of Random Forest Model: 0.7829181494661921\n",
      "Confusion Matrix of Random Forest Model\n"
     ]
    },
    {
     "data": {
      "text/plain": [
       "array([[713, 150],\n",
       "       [216, 660]])"
      ]
     },
     "execution_count": 42,
     "metadata": {},
     "output_type": "execute_result"
    }
   ],
   "source": [
    "print(f'Accuracy of Random Forest Model: {accuracy_score(val_y,rf_pred)}')\n",
    "print(f'F1 Score of Random Forest Model: {f1_score(val_y,rf_pred)}')\n",
    "print('Confusion Matrix of Random Forest Model')\n",
    "confusion_matrix(val_y,rf_pred)"
   ]
  },
  {
   "cell_type": "code",
   "execution_count": 43,
   "id": "8673edf7",
   "metadata": {
    "execution": {
     "iopub.execute_input": "2022-04-11T12:19:39.559031Z",
     "iopub.status.busy": "2022-04-11T12:19:39.558223Z",
     "iopub.status.idle": "2022-04-11T12:19:40.546424Z",
     "shell.execute_reply": "2022-04-11T12:19:40.545115Z",
     "shell.execute_reply.started": "2022-04-11T12:12:08.519379Z"
    },
    "papermill": {
     "duration": 1.104155,
     "end_time": "2022-04-11T12:19:40.546613",
     "exception": false,
     "start_time": "2022-04-11T12:19:39.442458",
     "status": "completed"
    },
    "tags": []
   },
   "outputs": [
    {
     "data": {
      "text/html": [
       "<style type='text/css'>\n",
       ".datatable table.frame { margin-bottom: 0; }\n",
       ".datatable table.frame thead { border-bottom: none; }\n",
       ".datatable table.frame tr.coltypes td {  color: #FFFFFF;  line-height: 6px;  padding: 0 0.5em;}\n",
       ".datatable .bool    { background: #DDDD99; }\n",
       ".datatable .object  { background: #565656; }\n",
       ".datatable .int     { background: #5D9E5D; }\n",
       ".datatable .float   { background: #4040CC; }\n",
       ".datatable .str     { background: #CC4040; }\n",
       ".datatable .time    { background: #40CC40; }\n",
       ".datatable .row_index {  background: var(--jp-border-color3);  border-right: 1px solid var(--jp-border-color0);  color: var(--jp-ui-font-color3);  font-size: 9px;}\n",
       ".datatable .frame tbody td { text-align: left; }\n",
       ".datatable .frame tr.coltypes .row_index {  background: var(--jp-border-color0);}\n",
       ".datatable th:nth-child(2) { padding-left: 12px; }\n",
       ".datatable .hellipsis {  color: var(--jp-cell-editor-border-color);}\n",
       ".datatable .vellipsis {  background: var(--jp-layout-color0);  color: var(--jp-cell-editor-border-color);}\n",
       ".datatable .na {  color: var(--jp-cell-editor-border-color);  font-size: 80%;}\n",
       ".datatable .sp {  opacity: 0.25;}\n",
       ".datatable .footer { font-size: 9px; }\n",
       ".datatable .frame_dimensions {  background: var(--jp-border-color3);  border-top: 1px solid var(--jp-border-color0);  color: var(--jp-ui-font-color3);  display: inline-block;  opacity: 0.6;  padding: 1px 10px 1px 5px;}\n",
       "</style>\n"
      ],
      "text/plain": [
       "<IPython.core.display.HTML object>"
      ]
     },
     "metadata": {},
     "output_type": "display_data"
    }
   ],
   "source": [
    "# Now it is time for my favorite model LightGBM\n",
    "\n",
    "from lightgbm import LGBMClassifier\n",
    "# we will pass some parameters here\n",
    "lgb_model=LGBMClassifier(n_estimators=100,boosting_type='gbdt',random_state=0,max_depth=20,\n",
    "                         num_leaves=40,min_child_samples=2,learning_rate=.1)\n",
    "                        \n"
   ]
  },
  {
   "cell_type": "code",
   "execution_count": 44,
   "id": "3fd976bb",
   "metadata": {
    "execution": {
     "iopub.execute_input": "2022-04-11T12:19:40.795267Z",
     "iopub.status.busy": "2022-04-11T12:19:40.794547Z",
     "iopub.status.idle": "2022-04-11T12:19:40.797107Z",
     "shell.execute_reply": "2022-04-11T12:19:40.796437Z",
     "shell.execute_reply.started": "2022-04-11T12:12:08.527501Z"
    },
    "papermill": {
     "duration": 0.136468,
     "end_time": "2022-04-11T12:19:40.797269",
     "exception": false,
     "start_time": "2022-04-11T12:19:40.660801",
     "status": "completed"
    },
    "tags": []
   },
   "outputs": [],
   "source": [
    "lgb_pipe=Pipeline(steps=[\n",
    "    ('preprocess',preprocessor),\n",
    "    ('model',lgb_model)\n",
    "])"
   ]
  },
  {
   "cell_type": "code",
   "execution_count": 45,
   "id": "f9d0eada",
   "metadata": {
    "execution": {
     "iopub.execute_input": "2022-04-11T12:19:41.029262Z",
     "iopub.status.busy": "2022-04-11T12:19:41.028567Z",
     "iopub.status.idle": "2022-04-11T12:19:41.403127Z",
     "shell.execute_reply": "2022-04-11T12:19:41.403762Z",
     "shell.execute_reply.started": "2022-04-11T12:12:08.538547Z"
    },
    "papermill": {
     "duration": 0.49481,
     "end_time": "2022-04-11T12:19:41.404013",
     "exception": false,
     "start_time": "2022-04-11T12:19:40.909203",
     "status": "completed"
    },
    "tags": []
   },
   "outputs": [],
   "source": [
    "lgb_pipe.fit(train_X,train_y)\n",
    "\n",
    "lgb_pred=lgb_pipe.predict(val_X)"
   ]
  },
  {
   "cell_type": "code",
   "execution_count": 46,
   "id": "2c41e675",
   "metadata": {
    "execution": {
     "iopub.execute_input": "2022-04-11T12:19:41.634093Z",
     "iopub.status.busy": "2022-04-11T12:19:41.633321Z",
     "iopub.status.idle": "2022-04-11T12:19:41.643306Z",
     "shell.execute_reply": "2022-04-11T12:19:41.642761Z",
     "shell.execute_reply.started": "2022-04-11T12:12:08.875512Z"
    },
    "papermill": {
     "duration": 0.12688,
     "end_time": "2022-04-11T12:19:41.643468",
     "exception": false,
     "start_time": "2022-04-11T12:19:41.516588",
     "status": "completed"
    },
    "tags": []
   },
   "outputs": [
    {
     "name": "stdout",
     "output_type": "stream",
     "text": [
      "Accuracy of Light GBM Model: 0.8090856814261069\n",
      "F1 Score of Light GBM Model: 0.8126410835214447\n",
      "Confusion Matrix of Light GBM Model\n"
     ]
    },
    {
     "data": {
      "text/plain": [
       "array([[687, 176],\n",
       "       [156, 720]])"
      ]
     },
     "execution_count": 46,
     "metadata": {},
     "output_type": "execute_result"
    }
   ],
   "source": [
    "print(f'Accuracy of Light GBM Model: {accuracy_score(val_y,lgb_pred)}')\n",
    "print(f'F1 Score of Light GBM Model: {f1_score(val_y,lgb_pred)}')\n",
    "print('Confusion Matrix of Light GBM Model')\n",
    "confusion_matrix(val_y,lgb_pred)"
   ]
  },
  {
   "cell_type": "markdown",
   "id": "80811321",
   "metadata": {
    "papermill": {
     "duration": 0.112193,
     "end_time": "2022-04-11T12:19:41.867456",
     "exception": false,
     "start_time": "2022-04-11T12:19:41.755263",
     "status": "completed"
    },
    "tags": []
   },
   "source": [
    "# model building on test data"
   ]
  },
  {
   "cell_type": "markdown",
   "id": "c8c69ed9",
   "metadata": {
    "papermill": {
     "duration": 0.111682,
     "end_time": "2022-04-11T12:19:42.091100",
     "exception": false,
     "start_time": "2022-04-11T12:19:41.979418",
     "status": "completed"
    },
    "tags": []
   },
   "source": [
    "- This are same steps as we did on training data so i will not address much untill it's something new\n"
   ]
  },
  {
   "cell_type": "code",
   "execution_count": 47,
   "id": "ec18556d",
   "metadata": {
    "execution": {
     "iopub.execute_input": "2022-04-11T12:19:42.318565Z",
     "iopub.status.busy": "2022-04-11T12:19:42.317841Z",
     "iopub.status.idle": "2022-04-11T12:19:42.351674Z",
     "shell.execute_reply": "2022-04-11T12:19:42.352243Z",
     "shell.execute_reply.started": "2022-04-11T12:12:08.893900Z"
    },
    "papermill": {
     "duration": 0.150633,
     "end_time": "2022-04-11T12:19:42.352457",
     "exception": false,
     "start_time": "2022-04-11T12:19:42.201824",
     "status": "completed"
    },
    "tags": []
   },
   "outputs": [],
   "source": [
    "test_data=pd.read_csv(r'../input/spaceship-titanic/test.csv')\n",
    "test=test_data.copy()"
   ]
  },
  {
   "cell_type": "code",
   "execution_count": 48,
   "id": "f1082f72",
   "metadata": {
    "execution": {
     "iopub.execute_input": "2022-04-11T12:19:42.585188Z",
     "iopub.status.busy": "2022-04-11T12:19:42.584371Z",
     "iopub.status.idle": "2022-04-11T12:19:42.587132Z",
     "shell.execute_reply": "2022-04-11T12:19:42.587769Z",
     "shell.execute_reply.started": "2022-04-11T12:12:08.920339Z"
    },
    "papermill": {
     "duration": 0.121755,
     "end_time": "2022-04-11T12:19:42.587972",
     "exception": false,
     "start_time": "2022-04-11T12:19:42.466217",
     "status": "completed"
    },
    "tags": []
   },
   "outputs": [
    {
     "data": {
      "text/plain": [
       "(4277, 13)"
      ]
     },
     "execution_count": 48,
     "metadata": {},
     "output_type": "execute_result"
    }
   ],
   "source": [
    "test.shape"
   ]
  },
  {
   "cell_type": "code",
   "execution_count": 49,
   "id": "063ac775",
   "metadata": {
    "execution": {
     "iopub.execute_input": "2022-04-11T12:19:42.814796Z",
     "iopub.status.busy": "2022-04-11T12:19:42.814081Z",
     "iopub.status.idle": "2022-04-11T12:19:42.846524Z",
     "shell.execute_reply": "2022-04-11T12:19:42.847050Z",
     "shell.execute_reply.started": "2022-04-11T12:12:08.928594Z"
    },
    "papermill": {
     "duration": 0.147947,
     "end_time": "2022-04-11T12:19:42.847245",
     "exception": false,
     "start_time": "2022-04-11T12:19:42.699298",
     "status": "completed"
    },
    "tags": []
   },
   "outputs": [
    {
     "data": {
      "text/html": [
       "<div>\n",
       "<style scoped>\n",
       "    .dataframe tbody tr th:only-of-type {\n",
       "        vertical-align: middle;\n",
       "    }\n",
       "\n",
       "    .dataframe tbody tr th {\n",
       "        vertical-align: top;\n",
       "    }\n",
       "\n",
       "    .dataframe thead th {\n",
       "        text-align: right;\n",
       "    }\n",
       "</style>\n",
       "<table border=\"1\" class=\"dataframe\">\n",
       "  <thead>\n",
       "    <tr style=\"text-align: right;\">\n",
       "      <th></th>\n",
       "      <th>PassengerId</th>\n",
       "      <th>HomePlanet</th>\n",
       "      <th>CryoSleep</th>\n",
       "      <th>Cabin</th>\n",
       "      <th>Destination</th>\n",
       "      <th>Age</th>\n",
       "      <th>VIP</th>\n",
       "      <th>RoomService</th>\n",
       "      <th>FoodCourt</th>\n",
       "      <th>ShoppingMall</th>\n",
       "      <th>Spa</th>\n",
       "      <th>VRDeck</th>\n",
       "      <th>Name</th>\n",
       "    </tr>\n",
       "  </thead>\n",
       "  <tbody>\n",
       "    <tr>\n",
       "      <th>0</th>\n",
       "      <td>0013_01</td>\n",
       "      <td>Earth</td>\n",
       "      <td>True</td>\n",
       "      <td>G/3/S</td>\n",
       "      <td>TRAPPIST-1e</td>\n",
       "      <td>27.0</td>\n",
       "      <td>False</td>\n",
       "      <td>0.0</td>\n",
       "      <td>0.0</td>\n",
       "      <td>0.0</td>\n",
       "      <td>0.0</td>\n",
       "      <td>0.0</td>\n",
       "      <td>Nelly Carsoning</td>\n",
       "    </tr>\n",
       "    <tr>\n",
       "      <th>1</th>\n",
       "      <td>0018_01</td>\n",
       "      <td>Earth</td>\n",
       "      <td>False</td>\n",
       "      <td>F/4/S</td>\n",
       "      <td>TRAPPIST-1e</td>\n",
       "      <td>19.0</td>\n",
       "      <td>False</td>\n",
       "      <td>0.0</td>\n",
       "      <td>9.0</td>\n",
       "      <td>0.0</td>\n",
       "      <td>2823.0</td>\n",
       "      <td>0.0</td>\n",
       "      <td>Lerome Peckers</td>\n",
       "    </tr>\n",
       "    <tr>\n",
       "      <th>2</th>\n",
       "      <td>0019_01</td>\n",
       "      <td>Europa</td>\n",
       "      <td>True</td>\n",
       "      <td>C/0/S</td>\n",
       "      <td>55 Cancri e</td>\n",
       "      <td>31.0</td>\n",
       "      <td>False</td>\n",
       "      <td>0.0</td>\n",
       "      <td>0.0</td>\n",
       "      <td>0.0</td>\n",
       "      <td>0.0</td>\n",
       "      <td>0.0</td>\n",
       "      <td>Sabih Unhearfus</td>\n",
       "    </tr>\n",
       "    <tr>\n",
       "      <th>3</th>\n",
       "      <td>0021_01</td>\n",
       "      <td>Europa</td>\n",
       "      <td>False</td>\n",
       "      <td>C/1/S</td>\n",
       "      <td>TRAPPIST-1e</td>\n",
       "      <td>38.0</td>\n",
       "      <td>False</td>\n",
       "      <td>0.0</td>\n",
       "      <td>6652.0</td>\n",
       "      <td>0.0</td>\n",
       "      <td>181.0</td>\n",
       "      <td>585.0</td>\n",
       "      <td>Meratz Caltilter</td>\n",
       "    </tr>\n",
       "    <tr>\n",
       "      <th>4</th>\n",
       "      <td>0023_01</td>\n",
       "      <td>Earth</td>\n",
       "      <td>False</td>\n",
       "      <td>F/5/S</td>\n",
       "      <td>TRAPPIST-1e</td>\n",
       "      <td>20.0</td>\n",
       "      <td>False</td>\n",
       "      <td>10.0</td>\n",
       "      <td>0.0</td>\n",
       "      <td>635.0</td>\n",
       "      <td>0.0</td>\n",
       "      <td>0.0</td>\n",
       "      <td>Brence Harperez</td>\n",
       "    </tr>\n",
       "    <tr>\n",
       "      <th>5</th>\n",
       "      <td>0027_01</td>\n",
       "      <td>Earth</td>\n",
       "      <td>False</td>\n",
       "      <td>F/7/P</td>\n",
       "      <td>TRAPPIST-1e</td>\n",
       "      <td>31.0</td>\n",
       "      <td>False</td>\n",
       "      <td>0.0</td>\n",
       "      <td>1615.0</td>\n",
       "      <td>263.0</td>\n",
       "      <td>113.0</td>\n",
       "      <td>60.0</td>\n",
       "      <td>Karlen Ricks</td>\n",
       "    </tr>\n",
       "    <tr>\n",
       "      <th>6</th>\n",
       "      <td>0029_01</td>\n",
       "      <td>Europa</td>\n",
       "      <td>True</td>\n",
       "      <td>B/2/P</td>\n",
       "      <td>55 Cancri e</td>\n",
       "      <td>21.0</td>\n",
       "      <td>False</td>\n",
       "      <td>0.0</td>\n",
       "      <td>NaN</td>\n",
       "      <td>0.0</td>\n",
       "      <td>0.0</td>\n",
       "      <td>0.0</td>\n",
       "      <td>Aldah Ainserfle</td>\n",
       "    </tr>\n",
       "    <tr>\n",
       "      <th>7</th>\n",
       "      <td>0032_01</td>\n",
       "      <td>Europa</td>\n",
       "      <td>True</td>\n",
       "      <td>D/0/S</td>\n",
       "      <td>TRAPPIST-1e</td>\n",
       "      <td>20.0</td>\n",
       "      <td>False</td>\n",
       "      <td>0.0</td>\n",
       "      <td>0.0</td>\n",
       "      <td>0.0</td>\n",
       "      <td>0.0</td>\n",
       "      <td>0.0</td>\n",
       "      <td>Acrabi Pringry</td>\n",
       "    </tr>\n",
       "    <tr>\n",
       "      <th>8</th>\n",
       "      <td>0032_02</td>\n",
       "      <td>Europa</td>\n",
       "      <td>True</td>\n",
       "      <td>D/0/S</td>\n",
       "      <td>55 Cancri e</td>\n",
       "      <td>23.0</td>\n",
       "      <td>False</td>\n",
       "      <td>0.0</td>\n",
       "      <td>0.0</td>\n",
       "      <td>0.0</td>\n",
       "      <td>0.0</td>\n",
       "      <td>0.0</td>\n",
       "      <td>Dhena Pringry</td>\n",
       "    </tr>\n",
       "    <tr>\n",
       "      <th>9</th>\n",
       "      <td>0033_01</td>\n",
       "      <td>Earth</td>\n",
       "      <td>False</td>\n",
       "      <td>F/7/S</td>\n",
       "      <td>55 Cancri e</td>\n",
       "      <td>24.0</td>\n",
       "      <td>False</td>\n",
       "      <td>0.0</td>\n",
       "      <td>639.0</td>\n",
       "      <td>0.0</td>\n",
       "      <td>0.0</td>\n",
       "      <td>0.0</td>\n",
       "      <td>Eliana Delazarson</td>\n",
       "    </tr>\n",
       "    <tr>\n",
       "      <th>10</th>\n",
       "      <td>0037_01</td>\n",
       "      <td>Earth</td>\n",
       "      <td>False</td>\n",
       "      <td>F/9/S</td>\n",
       "      <td>TRAPPIST-1e</td>\n",
       "      <td>19.0</td>\n",
       "      <td>False</td>\n",
       "      <td>339.0</td>\n",
       "      <td>3.0</td>\n",
       "      <td>136.0</td>\n",
       "      <td>237.0</td>\n",
       "      <td>0.0</td>\n",
       "      <td>Vivia Rickson</td>\n",
       "    </tr>\n",
       "    <tr>\n",
       "      <th>11</th>\n",
       "      <td>0040_01</td>\n",
       "      <td>Europa</td>\n",
       "      <td>False</td>\n",
       "      <td>D/2/P</td>\n",
       "      <td>TRAPPIST-1e</td>\n",
       "      <td>45.0</td>\n",
       "      <td>False</td>\n",
       "      <td>932.0</td>\n",
       "      <td>74.0</td>\n",
       "      <td>NaN</td>\n",
       "      <td>7.0</td>\n",
       "      <td>1010.0</td>\n",
       "      <td>Antino Pinoffent</td>\n",
       "    </tr>\n",
       "    <tr>\n",
       "      <th>12</th>\n",
       "      <td>0040_02</td>\n",
       "      <td>Europa</td>\n",
       "      <td>False</td>\n",
       "      <td>D/2/P</td>\n",
       "      <td>TRAPPIST-1e</td>\n",
       "      <td>44.0</td>\n",
       "      <td>False</td>\n",
       "      <td>0.0</td>\n",
       "      <td>1561.0</td>\n",
       "      <td>0.0</td>\n",
       "      <td>14.0</td>\n",
       "      <td>224.0</td>\n",
       "      <td>Jihda Pinoffent</td>\n",
       "    </tr>\n",
       "    <tr>\n",
       "      <th>13</th>\n",
       "      <td>0042_01</td>\n",
       "      <td>Mars</td>\n",
       "      <td>True</td>\n",
       "      <td>E/0/P</td>\n",
       "      <td>TRAPPIST-1e</td>\n",
       "      <td>46.0</td>\n",
       "      <td>False</td>\n",
       "      <td>0.0</td>\n",
       "      <td>0.0</td>\n",
       "      <td>0.0</td>\n",
       "      <td>0.0</td>\n",
       "      <td>0.0</td>\n",
       "      <td>Hamus Frité</td>\n",
       "    </tr>\n",
       "    <tr>\n",
       "      <th>14</th>\n",
       "      <td>0046_01</td>\n",
       "      <td>Earth</td>\n",
       "      <td>False</td>\n",
       "      <td>G/4/P</td>\n",
       "      <td>TRAPPIST-1e</td>\n",
       "      <td>21.0</td>\n",
       "      <td>False</td>\n",
       "      <td>0.0</td>\n",
       "      <td>0.0</td>\n",
       "      <td>0.0</td>\n",
       "      <td>1687.0</td>\n",
       "      <td>92.0</td>\n",
       "      <td>Neilda Powery</td>\n",
       "    </tr>\n",
       "    <tr>\n",
       "      <th>15</th>\n",
       "      <td>0046_02</td>\n",
       "      <td>Earth</td>\n",
       "      <td>False</td>\n",
       "      <td>F/11/P</td>\n",
       "      <td>TRAPPIST-1e</td>\n",
       "      <td>27.0</td>\n",
       "      <td>False</td>\n",
       "      <td>0.0</td>\n",
       "      <td>0.0</td>\n",
       "      <td>0.0</td>\n",
       "      <td>903.0</td>\n",
       "      <td>NaN</td>\n",
       "      <td>Glene Powery</td>\n",
       "    </tr>\n",
       "    <tr>\n",
       "      <th>16</th>\n",
       "      <td>0046_03</td>\n",
       "      <td>Earth</td>\n",
       "      <td>False</td>\n",
       "      <td>F/11/P</td>\n",
       "      <td>TRAPPIST-1e</td>\n",
       "      <td>20.0</td>\n",
       "      <td>False</td>\n",
       "      <td>2.0</td>\n",
       "      <td>12.0</td>\n",
       "      <td>253.0</td>\n",
       "      <td>457.0</td>\n",
       "      <td>690.0</td>\n",
       "      <td>Joanny Powery</td>\n",
       "    </tr>\n",
       "    <tr>\n",
       "      <th>17</th>\n",
       "      <td>0047_01</td>\n",
       "      <td>Europa</td>\n",
       "      <td>True</td>\n",
       "      <td>B/0/S</td>\n",
       "      <td>TRAPPIST-1e</td>\n",
       "      <td>44.0</td>\n",
       "      <td>False</td>\n",
       "      <td>0.0</td>\n",
       "      <td>0.0</td>\n",
       "      <td>0.0</td>\n",
       "      <td>0.0</td>\n",
       "      <td>0.0</td>\n",
       "      <td>Winonon Prucerod</td>\n",
       "    </tr>\n",
       "    <tr>\n",
       "      <th>18</th>\n",
       "      <td>0047_02</td>\n",
       "      <td>Europa</td>\n",
       "      <td>False</td>\n",
       "      <td>NaN</td>\n",
       "      <td>TRAPPIST-1e</td>\n",
       "      <td>29.0</td>\n",
       "      <td>False</td>\n",
       "      <td>0.0</td>\n",
       "      <td>7708.0</td>\n",
       "      <td>243.0</td>\n",
       "      <td>569.0</td>\n",
       "      <td>343.0</td>\n",
       "      <td>Muons Prucerod</td>\n",
       "    </tr>\n",
       "    <tr>\n",
       "      <th>19</th>\n",
       "      <td>0047_03</td>\n",
       "      <td>Europa</td>\n",
       "      <td>False</td>\n",
       "      <td>B/0/S</td>\n",
       "      <td>TRAPPIST-1e</td>\n",
       "      <td>40.0</td>\n",
       "      <td>False</td>\n",
       "      <td>26.0</td>\n",
       "      <td>1925.0</td>\n",
       "      <td>8.0</td>\n",
       "      <td>3144.0</td>\n",
       "      <td>63.0</td>\n",
       "      <td>NaN</td>\n",
       "    </tr>\n",
       "  </tbody>\n",
       "</table>\n",
       "</div>"
      ],
      "text/plain": [
       "   PassengerId HomePlanet CryoSleep   Cabin  Destination   Age    VIP  \\\n",
       "0      0013_01      Earth      True   G/3/S  TRAPPIST-1e  27.0  False   \n",
       "1      0018_01      Earth     False   F/4/S  TRAPPIST-1e  19.0  False   \n",
       "2      0019_01     Europa      True   C/0/S  55 Cancri e  31.0  False   \n",
       "3      0021_01     Europa     False   C/1/S  TRAPPIST-1e  38.0  False   \n",
       "4      0023_01      Earth     False   F/5/S  TRAPPIST-1e  20.0  False   \n",
       "5      0027_01      Earth     False   F/7/P  TRAPPIST-1e  31.0  False   \n",
       "6      0029_01     Europa      True   B/2/P  55 Cancri e  21.0  False   \n",
       "7      0032_01     Europa      True   D/0/S  TRAPPIST-1e  20.0  False   \n",
       "8      0032_02     Europa      True   D/0/S  55 Cancri e  23.0  False   \n",
       "9      0033_01      Earth     False   F/7/S  55 Cancri e  24.0  False   \n",
       "10     0037_01      Earth     False   F/9/S  TRAPPIST-1e  19.0  False   \n",
       "11     0040_01     Europa     False   D/2/P  TRAPPIST-1e  45.0  False   \n",
       "12     0040_02     Europa     False   D/2/P  TRAPPIST-1e  44.0  False   \n",
       "13     0042_01       Mars      True   E/0/P  TRAPPIST-1e  46.0  False   \n",
       "14     0046_01      Earth     False   G/4/P  TRAPPIST-1e  21.0  False   \n",
       "15     0046_02      Earth     False  F/11/P  TRAPPIST-1e  27.0  False   \n",
       "16     0046_03      Earth     False  F/11/P  TRAPPIST-1e  20.0  False   \n",
       "17     0047_01     Europa      True   B/0/S  TRAPPIST-1e  44.0  False   \n",
       "18     0047_02     Europa     False     NaN  TRAPPIST-1e  29.0  False   \n",
       "19     0047_03     Europa     False   B/0/S  TRAPPIST-1e  40.0  False   \n",
       "\n",
       "    RoomService  FoodCourt  ShoppingMall     Spa  VRDeck               Name  \n",
       "0           0.0        0.0           0.0     0.0     0.0    Nelly Carsoning  \n",
       "1           0.0        9.0           0.0  2823.0     0.0     Lerome Peckers  \n",
       "2           0.0        0.0           0.0     0.0     0.0    Sabih Unhearfus  \n",
       "3           0.0     6652.0           0.0   181.0   585.0   Meratz Caltilter  \n",
       "4          10.0        0.0         635.0     0.0     0.0    Brence Harperez  \n",
       "5           0.0     1615.0         263.0   113.0    60.0       Karlen Ricks  \n",
       "6           0.0        NaN           0.0     0.0     0.0    Aldah Ainserfle  \n",
       "7           0.0        0.0           0.0     0.0     0.0     Acrabi Pringry  \n",
       "8           0.0        0.0           0.0     0.0     0.0      Dhena Pringry  \n",
       "9           0.0      639.0           0.0     0.0     0.0  Eliana Delazarson  \n",
       "10        339.0        3.0         136.0   237.0     0.0      Vivia Rickson  \n",
       "11        932.0       74.0           NaN     7.0  1010.0   Antino Pinoffent  \n",
       "12          0.0     1561.0           0.0    14.0   224.0    Jihda Pinoffent  \n",
       "13          0.0        0.0           0.0     0.0     0.0        Hamus Frité  \n",
       "14          0.0        0.0           0.0  1687.0    92.0      Neilda Powery  \n",
       "15          0.0        0.0           0.0   903.0     NaN       Glene Powery  \n",
       "16          2.0       12.0         253.0   457.0   690.0      Joanny Powery  \n",
       "17          0.0        0.0           0.0     0.0     0.0   Winonon Prucerod  \n",
       "18          0.0     7708.0         243.0   569.0   343.0     Muons Prucerod  \n",
       "19         26.0     1925.0           8.0  3144.0    63.0                NaN  "
      ]
     },
     "execution_count": 49,
     "metadata": {},
     "output_type": "execute_result"
    }
   ],
   "source": [
    "test.head(20)"
   ]
  },
  {
   "cell_type": "code",
   "execution_count": 50,
   "id": "90140e20",
   "metadata": {
    "execution": {
     "iopub.execute_input": "2022-04-11T12:19:43.085206Z",
     "iopub.status.busy": "2022-04-11T12:19:43.084500Z",
     "iopub.status.idle": "2022-04-11T12:19:43.094478Z",
     "shell.execute_reply": "2022-04-11T12:19:43.095154Z",
     "shell.execute_reply.started": "2022-04-11T12:12:08.968958Z"
    },
    "papermill": {
     "duration": 0.135668,
     "end_time": "2022-04-11T12:19:43.095368",
     "exception": false,
     "start_time": "2022-04-11T12:19:42.959700",
     "status": "completed"
    },
    "tags": []
   },
   "outputs": [
    {
     "name": "stdout",
     "output_type": "stream",
     "text": [
      "<class 'pandas.core.frame.DataFrame'>\n",
      "RangeIndex: 4277 entries, 0 to 4276\n",
      "Data columns (total 13 columns):\n",
      " #   Column        Non-Null Count  Dtype  \n",
      "---  ------        --------------  -----  \n",
      " 0   PassengerId   4277 non-null   object \n",
      " 1   HomePlanet    4190 non-null   object \n",
      " 2   CryoSleep     4184 non-null   object \n",
      " 3   Cabin         4177 non-null   object \n",
      " 4   Destination   4185 non-null   object \n",
      " 5   Age           4186 non-null   float64\n",
      " 6   VIP           4184 non-null   object \n",
      " 7   RoomService   4195 non-null   float64\n",
      " 8   FoodCourt     4171 non-null   float64\n",
      " 9   ShoppingMall  4179 non-null   float64\n",
      " 10  Spa           4176 non-null   float64\n",
      " 11  VRDeck        4197 non-null   float64\n",
      " 12  Name          4183 non-null   object \n",
      "dtypes: float64(6), object(7)\n",
      "memory usage: 434.5+ KB\n"
     ]
    }
   ],
   "source": [
    "test.info()"
   ]
  },
  {
   "cell_type": "code",
   "execution_count": 51,
   "id": "bba339b3",
   "metadata": {
    "execution": {
     "iopub.execute_input": "2022-04-11T12:19:43.331605Z",
     "iopub.status.busy": "2022-04-11T12:19:43.330925Z",
     "iopub.status.idle": "2022-04-11T12:19:43.360956Z",
     "shell.execute_reply": "2022-04-11T12:19:43.361461Z",
     "shell.execute_reply.started": "2022-04-11T12:13:54.001042Z"
    },
    "papermill": {
     "duration": 0.152536,
     "end_time": "2022-04-11T12:19:43.361680",
     "exception": false,
     "start_time": "2022-04-11T12:19:43.209144",
     "status": "completed"
    },
    "tags": []
   },
   "outputs": [
    {
     "data": {
      "text/html": [
       "<div>\n",
       "<style scoped>\n",
       "    .dataframe tbody tr th:only-of-type {\n",
       "        vertical-align: middle;\n",
       "    }\n",
       "\n",
       "    .dataframe tbody tr th {\n",
       "        vertical-align: top;\n",
       "    }\n",
       "\n",
       "    .dataframe thead th {\n",
       "        text-align: right;\n",
       "    }\n",
       "</style>\n",
       "<table border=\"1\" class=\"dataframe\">\n",
       "  <thead>\n",
       "    <tr style=\"text-align: right;\">\n",
       "      <th></th>\n",
       "      <th>count</th>\n",
       "      <th>mean</th>\n",
       "      <th>std</th>\n",
       "      <th>min</th>\n",
       "      <th>25%</th>\n",
       "      <th>50%</th>\n",
       "      <th>75%</th>\n",
       "      <th>max</th>\n",
       "    </tr>\n",
       "  </thead>\n",
       "  <tbody>\n",
       "    <tr>\n",
       "      <th>Age</th>\n",
       "      <td>4186.0</td>\n",
       "      <td>28.658146</td>\n",
       "      <td>14.179072</td>\n",
       "      <td>0.0</td>\n",
       "      <td>19.0</td>\n",
       "      <td>26.0</td>\n",
       "      <td>37.0</td>\n",
       "      <td>79.0</td>\n",
       "    </tr>\n",
       "    <tr>\n",
       "      <th>RoomService</th>\n",
       "      <td>4195.0</td>\n",
       "      <td>219.266269</td>\n",
       "      <td>607.011289</td>\n",
       "      <td>0.0</td>\n",
       "      <td>0.0</td>\n",
       "      <td>0.0</td>\n",
       "      <td>53.0</td>\n",
       "      <td>11567.0</td>\n",
       "    </tr>\n",
       "    <tr>\n",
       "      <th>FoodCourt</th>\n",
       "      <td>4171.0</td>\n",
       "      <td>439.484296</td>\n",
       "      <td>1527.663045</td>\n",
       "      <td>0.0</td>\n",
       "      <td>0.0</td>\n",
       "      <td>0.0</td>\n",
       "      <td>78.0</td>\n",
       "      <td>25273.0</td>\n",
       "    </tr>\n",
       "    <tr>\n",
       "      <th>ShoppingMall</th>\n",
       "      <td>4179.0</td>\n",
       "      <td>177.295525</td>\n",
       "      <td>560.821123</td>\n",
       "      <td>0.0</td>\n",
       "      <td>0.0</td>\n",
       "      <td>0.0</td>\n",
       "      <td>33.0</td>\n",
       "      <td>8292.0</td>\n",
       "    </tr>\n",
       "    <tr>\n",
       "      <th>Spa</th>\n",
       "      <td>4176.0</td>\n",
       "      <td>303.052443</td>\n",
       "      <td>1117.186015</td>\n",
       "      <td>0.0</td>\n",
       "      <td>0.0</td>\n",
       "      <td>0.0</td>\n",
       "      <td>50.0</td>\n",
       "      <td>19844.0</td>\n",
       "    </tr>\n",
       "    <tr>\n",
       "      <th>VRDeck</th>\n",
       "      <td>4197.0</td>\n",
       "      <td>310.710031</td>\n",
       "      <td>1246.994742</td>\n",
       "      <td>0.0</td>\n",
       "      <td>0.0</td>\n",
       "      <td>0.0</td>\n",
       "      <td>36.0</td>\n",
       "      <td>22272.0</td>\n",
       "    </tr>\n",
       "  </tbody>\n",
       "</table>\n",
       "</div>"
      ],
      "text/plain": [
       "               count        mean          std  min   25%   50%   75%      max\n",
       "Age           4186.0   28.658146    14.179072  0.0  19.0  26.0  37.0     79.0\n",
       "RoomService   4195.0  219.266269   607.011289  0.0   0.0   0.0  53.0  11567.0\n",
       "FoodCourt     4171.0  439.484296  1527.663045  0.0   0.0   0.0  78.0  25273.0\n",
       "ShoppingMall  4179.0  177.295525   560.821123  0.0   0.0   0.0  33.0   8292.0\n",
       "Spa           4176.0  303.052443  1117.186015  0.0   0.0   0.0  50.0  19844.0\n",
       "VRDeck        4197.0  310.710031  1246.994742  0.0   0.0   0.0  36.0  22272.0"
      ]
     },
     "execution_count": 51,
     "metadata": {},
     "output_type": "execute_result"
    }
   ],
   "source": [
    "test.describe().T"
   ]
  },
  {
   "cell_type": "code",
   "execution_count": 52,
   "id": "d401b870",
   "metadata": {
    "execution": {
     "iopub.execute_input": "2022-04-11T12:19:43.593388Z",
     "iopub.status.busy": "2022-04-11T12:19:43.592706Z",
     "iopub.status.idle": "2022-04-11T12:19:43.607152Z",
     "shell.execute_reply": "2022-04-11T12:19:43.607749Z",
     "shell.execute_reply.started": "2022-04-11T12:12:09.020161Z"
    },
    "papermill": {
     "duration": 0.133571,
     "end_time": "2022-04-11T12:19:43.607966",
     "exception": false,
     "start_time": "2022-04-11T12:19:43.474395",
     "status": "completed"
    },
    "tags": []
   },
   "outputs": [
    {
     "data": {
      "text/plain": [
       "PassengerId     4277\n",
       "HomePlanet         3\n",
       "CryoSleep          2\n",
       "Cabin           3265\n",
       "Destination        3\n",
       "Age               79\n",
       "VIP                2\n",
       "RoomService      842\n",
       "FoodCourt        902\n",
       "ShoppingMall     715\n",
       "Spa              833\n",
       "VRDeck           796\n",
       "Name            4176\n",
       "dtype: int64"
      ]
     },
     "execution_count": 52,
     "metadata": {},
     "output_type": "execute_result"
    }
   ],
   "source": [
    "test.nunique()"
   ]
  },
  {
   "cell_type": "code",
   "execution_count": 53,
   "id": "2c8c1cb2",
   "metadata": {
    "execution": {
     "iopub.execute_input": "2022-04-11T12:19:43.849145Z",
     "iopub.status.busy": "2022-04-11T12:19:43.843498Z",
     "iopub.status.idle": "2022-04-11T12:19:43.852255Z",
     "shell.execute_reply": "2022-04-11T12:19:43.851558Z",
     "shell.execute_reply.started": "2022-04-11T12:12:09.037803Z"
    },
    "papermill": {
     "duration": 0.128193,
     "end_time": "2022-04-11T12:19:43.852417",
     "exception": false,
     "start_time": "2022-04-11T12:19:43.724224",
     "status": "completed"
    },
    "tags": []
   },
   "outputs": [],
   "source": [
    "test.Cabin=test.Cabin.fillna(test.Cabin.mode()[0])\n"
   ]
  },
  {
   "cell_type": "code",
   "execution_count": 54,
   "id": "1fded1a6",
   "metadata": {
    "execution": {
     "iopub.execute_input": "2022-04-11T12:19:44.095867Z",
     "iopub.status.busy": "2022-04-11T12:19:44.090772Z",
     "iopub.status.idle": "2022-04-11T12:19:44.098902Z",
     "shell.execute_reply": "2022-04-11T12:19:44.099403Z",
     "shell.execute_reply.started": "2022-04-11T12:12:09.047393Z"
    },
    "papermill": {
     "duration": 0.130766,
     "end_time": "2022-04-11T12:19:44.099619",
     "exception": false,
     "start_time": "2022-04-11T12:19:43.968853",
     "status": "completed"
    },
    "tags": []
   },
   "outputs": [
    {
     "data": {
      "text/plain": [
       "0       S\n",
       "1       S\n",
       "2       S\n",
       "3       S\n",
       "4       S\n",
       "       ..\n",
       "4272    S\n",
       "4273    P\n",
       "4274    P\n",
       "4275    P\n",
       "4276    S\n",
       "Name: Cabin Side, Length: 4277, dtype: object"
      ]
     },
     "execution_count": 54,
     "metadata": {},
     "output_type": "execute_result"
    }
   ],
   "source": [
    "test['Cabin Side']=test.Cabin.map(lambda x: x[-1]) \n",
    "test['Cabin Side']\n"
   ]
  },
  {
   "cell_type": "code",
   "execution_count": 55,
   "id": "4e9b626d",
   "metadata": {
    "execution": {
     "iopub.execute_input": "2022-04-11T12:19:44.349383Z",
     "iopub.status.busy": "2022-04-11T12:19:44.342030Z",
     "iopub.status.idle": "2022-04-11T12:19:44.353542Z",
     "shell.execute_reply": "2022-04-11T12:19:44.352876Z",
     "shell.execute_reply.started": "2022-04-11T12:12:09.066028Z"
    },
    "papermill": {
     "duration": 0.131398,
     "end_time": "2022-04-11T12:19:44.353746",
     "exception": false,
     "start_time": "2022-04-11T12:19:44.222348",
     "status": "completed"
    },
    "tags": []
   },
   "outputs": [
    {
     "data": {
      "text/plain": [
       "0       G\n",
       "1       F\n",
       "2       C\n",
       "3       C\n",
       "4       F\n",
       "       ..\n",
       "4272    G\n",
       "4273    G\n",
       "4274    D\n",
       "4275    D\n",
       "4276    G\n",
       "Name: Cabin Deck, Length: 4277, dtype: object"
      ]
     },
     "execution_count": 55,
     "metadata": {},
     "output_type": "execute_result"
    }
   ],
   "source": [
    "test['Cabin Deck']=test.Cabin.map(lambda x: x[0])\n",
    "test['Cabin Deck']"
   ]
  },
  {
   "cell_type": "code",
   "execution_count": 56,
   "id": "c6c0ed96",
   "metadata": {
    "execution": {
     "iopub.execute_input": "2022-04-11T12:19:44.588798Z",
     "iopub.status.busy": "2022-04-11T12:19:44.587469Z",
     "iopub.status.idle": "2022-04-11T12:19:44.598108Z",
     "shell.execute_reply": "2022-04-11T12:19:44.598691Z",
     "shell.execute_reply.started": "2022-04-11T12:12:09.092434Z"
    },
    "papermill": {
     "duration": 0.129578,
     "end_time": "2022-04-11T12:19:44.598897",
     "exception": false,
     "start_time": "2022-04-11T12:19:44.469319",
     "status": "completed"
    },
    "tags": []
   },
   "outputs": [
    {
     "data": {
      "text/plain": [
       "0       3\n",
       "1       4\n",
       "2       0\n",
       "3       1\n",
       "4       5\n",
       "       ..\n",
       "4272    1\n",
       "4273    1\n",
       "4274    2\n",
       "4275    2\n",
       "4276    1\n",
       "Name: Cabin Num, Length: 4277, dtype: object"
      ]
     },
     "execution_count": 56,
     "metadata": {},
     "output_type": "execute_result"
    }
   ],
   "source": [
    "test['Cabin Num']=test.Cabin.map(lambda x: x[2])\n",
    "test['Cabin Num']"
   ]
  },
  {
   "cell_type": "code",
   "execution_count": 57,
   "id": "692a1b95",
   "metadata": {
    "execution": {
     "iopub.execute_input": "2022-04-11T12:19:44.834083Z",
     "iopub.status.busy": "2022-04-11T12:19:44.833388Z",
     "iopub.status.idle": "2022-04-11T12:19:44.838960Z",
     "shell.execute_reply": "2022-04-11T12:19:44.839420Z",
     "shell.execute_reply.started": "2022-04-11T12:12:09.105209Z"
    },
    "papermill": {
     "duration": 0.12448,
     "end_time": "2022-04-11T12:19:44.839658",
     "exception": false,
     "start_time": "2022-04-11T12:19:44.715178",
     "status": "completed"
    },
    "tags": []
   },
   "outputs": [],
   "source": [
    "test=test.drop(cols_to_drop,axis=1)"
   ]
  },
  {
   "cell_type": "code",
   "execution_count": 58,
   "id": "ad7331d7",
   "metadata": {
    "execution": {
     "iopub.execute_input": "2022-04-11T12:19:45.075952Z",
     "iopub.status.busy": "2022-04-11T12:19:45.075187Z",
     "iopub.status.idle": "2022-04-11T12:19:45.093298Z",
     "shell.execute_reply": "2022-04-11T12:19:45.093870Z",
     "shell.execute_reply.started": "2022-04-11T12:12:09.115979Z"
    },
    "papermill": {
     "duration": 0.13926,
     "end_time": "2022-04-11T12:19:45.094090",
     "exception": false,
     "start_time": "2022-04-11T12:19:44.954830",
     "status": "completed"
    },
    "tags": []
   },
   "outputs": [
    {
     "data": {
      "text/html": [
       "<div>\n",
       "<style scoped>\n",
       "    .dataframe tbody tr th:only-of-type {\n",
       "        vertical-align: middle;\n",
       "    }\n",
       "\n",
       "    .dataframe tbody tr th {\n",
       "        vertical-align: top;\n",
       "    }\n",
       "\n",
       "    .dataframe thead th {\n",
       "        text-align: right;\n",
       "    }\n",
       "</style>\n",
       "<table border=\"1\" class=\"dataframe\">\n",
       "  <thead>\n",
       "    <tr style=\"text-align: right;\">\n",
       "      <th></th>\n",
       "      <th>HomePlanet</th>\n",
       "      <th>CryoSleep</th>\n",
       "      <th>Destination</th>\n",
       "      <th>Age</th>\n",
       "      <th>VIP</th>\n",
       "      <th>RoomService</th>\n",
       "      <th>FoodCourt</th>\n",
       "      <th>ShoppingMall</th>\n",
       "      <th>Spa</th>\n",
       "      <th>VRDeck</th>\n",
       "      <th>Cabin Side</th>\n",
       "      <th>Cabin Deck</th>\n",
       "      <th>Cabin Num</th>\n",
       "    </tr>\n",
       "  </thead>\n",
       "  <tbody>\n",
       "    <tr>\n",
       "      <th>0</th>\n",
       "      <td>Earth</td>\n",
       "      <td>True</td>\n",
       "      <td>TRAPPIST-1e</td>\n",
       "      <td>27.0</td>\n",
       "      <td>False</td>\n",
       "      <td>0.0</td>\n",
       "      <td>0.0</td>\n",
       "      <td>0.0</td>\n",
       "      <td>0.0</td>\n",
       "      <td>0.0</td>\n",
       "      <td>S</td>\n",
       "      <td>G</td>\n",
       "      <td>3</td>\n",
       "    </tr>\n",
       "    <tr>\n",
       "      <th>1</th>\n",
       "      <td>Earth</td>\n",
       "      <td>False</td>\n",
       "      <td>TRAPPIST-1e</td>\n",
       "      <td>19.0</td>\n",
       "      <td>False</td>\n",
       "      <td>0.0</td>\n",
       "      <td>9.0</td>\n",
       "      <td>0.0</td>\n",
       "      <td>2823.0</td>\n",
       "      <td>0.0</td>\n",
       "      <td>S</td>\n",
       "      <td>F</td>\n",
       "      <td>4</td>\n",
       "    </tr>\n",
       "    <tr>\n",
       "      <th>2</th>\n",
       "      <td>Europa</td>\n",
       "      <td>True</td>\n",
       "      <td>55 Cancri e</td>\n",
       "      <td>31.0</td>\n",
       "      <td>False</td>\n",
       "      <td>0.0</td>\n",
       "      <td>0.0</td>\n",
       "      <td>0.0</td>\n",
       "      <td>0.0</td>\n",
       "      <td>0.0</td>\n",
       "      <td>S</td>\n",
       "      <td>C</td>\n",
       "      <td>0</td>\n",
       "    </tr>\n",
       "    <tr>\n",
       "      <th>3</th>\n",
       "      <td>Europa</td>\n",
       "      <td>False</td>\n",
       "      <td>TRAPPIST-1e</td>\n",
       "      <td>38.0</td>\n",
       "      <td>False</td>\n",
       "      <td>0.0</td>\n",
       "      <td>6652.0</td>\n",
       "      <td>0.0</td>\n",
       "      <td>181.0</td>\n",
       "      <td>585.0</td>\n",
       "      <td>S</td>\n",
       "      <td>C</td>\n",
       "      <td>1</td>\n",
       "    </tr>\n",
       "    <tr>\n",
       "      <th>4</th>\n",
       "      <td>Earth</td>\n",
       "      <td>False</td>\n",
       "      <td>TRAPPIST-1e</td>\n",
       "      <td>20.0</td>\n",
       "      <td>False</td>\n",
       "      <td>10.0</td>\n",
       "      <td>0.0</td>\n",
       "      <td>635.0</td>\n",
       "      <td>0.0</td>\n",
       "      <td>0.0</td>\n",
       "      <td>S</td>\n",
       "      <td>F</td>\n",
       "      <td>5</td>\n",
       "    </tr>\n",
       "  </tbody>\n",
       "</table>\n",
       "</div>"
      ],
      "text/plain": [
       "  HomePlanet CryoSleep  Destination   Age    VIP  RoomService  FoodCourt  \\\n",
       "0      Earth      True  TRAPPIST-1e  27.0  False          0.0        0.0   \n",
       "1      Earth     False  TRAPPIST-1e  19.0  False          0.0        9.0   \n",
       "2     Europa      True  55 Cancri e  31.0  False          0.0        0.0   \n",
       "3     Europa     False  TRAPPIST-1e  38.0  False          0.0     6652.0   \n",
       "4      Earth     False  TRAPPIST-1e  20.0  False         10.0        0.0   \n",
       "\n",
       "   ShoppingMall     Spa  VRDeck Cabin Side Cabin Deck Cabin Num  \n",
       "0           0.0     0.0     0.0          S          G         3  \n",
       "1           0.0  2823.0     0.0          S          F         4  \n",
       "2           0.0     0.0     0.0          S          C         0  \n",
       "3           0.0   181.0   585.0          S          C         1  \n",
       "4         635.0     0.0     0.0          S          F         5  "
      ]
     },
     "execution_count": 58,
     "metadata": {},
     "output_type": "execute_result"
    }
   ],
   "source": [
    "test.head()"
   ]
  },
  {
   "cell_type": "markdown",
   "id": "7b8ae9e9",
   "metadata": {
    "papermill": {
     "duration": 0.115987,
     "end_time": "2022-04-11T12:19:45.327473",
     "exception": false,
     "start_time": "2022-04-11T12:19:45.211486",
     "status": "completed"
    },
    "tags": []
   },
   "source": [
    "#### Now we will train again on our whole traing data and make predictions on our test data for submission for our competition"
   ]
  },
  {
   "cell_type": "code",
   "execution_count": 59,
   "id": "8e02c138",
   "metadata": {
    "execution": {
     "iopub.execute_input": "2022-04-11T12:19:45.573006Z",
     "iopub.status.busy": "2022-04-11T12:19:45.572259Z",
     "iopub.status.idle": "2022-04-11T12:19:45.966479Z",
     "shell.execute_reply": "2022-04-11T12:19:45.965895Z",
     "shell.execute_reply.started": "2022-04-11T12:12:09.199236Z"
    },
    "papermill": {
     "duration": 0.521778,
     "end_time": "2022-04-11T12:19:45.966683",
     "exception": false,
     "start_time": "2022-04-11T12:19:45.444905",
     "status": "completed"
    },
    "tags": []
   },
   "outputs": [
    {
     "data": {
      "text/plain": [
       "Pipeline(steps=[('preprocess',\n",
       "                 ColumnTransformer(transformers=[('num',\n",
       "                                                  Pipeline(steps=[('impute',\n",
       "                                                                   SimpleImputer()),\n",
       "                                                                  ('scaling',\n",
       "                                                                   StandardScaler())]),\n",
       "                                                  ['Age', 'RoomService',\n",
       "                                                   'FoodCourt', 'ShoppingMall',\n",
       "                                                   'Spa', 'VRDeck']),\n",
       "                                                 ('obj',\n",
       "                                                  Pipeline(steps=[('impute',\n",
       "                                                                   SimpleImputer(strategy='most_frequent')),\n",
       "                                                                  ('encode',\n",
       "                                                                   OneHotEncoder(handle_unknown='ignore'))]),\n",
       "                                                  ['HomePlanet', 'CryoSleep',\n",
       "                                                   'Destination', 'VIP',\n",
       "                                                   'Cabin Side', 'Cabin Deck',\n",
       "                                                   'Cabin Num'])])),\n",
       "                ('model',\n",
       "                 LGBMClassifier(max_depth=20, min_child_samples=2,\n",
       "                                num_leaves=40, random_state=0))])"
      ]
     },
     "execution_count": 59,
     "metadata": {},
     "output_type": "execute_result"
    }
   ],
   "source": [
    "lgb_pipe.fit(X,Y)"
   ]
  },
  {
   "cell_type": "code",
   "execution_count": 60,
   "id": "7438880e",
   "metadata": {
    "execution": {
     "iopub.execute_input": "2022-04-11T12:19:46.213739Z",
     "iopub.status.busy": "2022-04-11T12:19:46.212972Z",
     "iopub.status.idle": "2022-04-11T12:19:46.254357Z",
     "shell.execute_reply": "2022-04-11T12:19:46.255875Z",
     "shell.execute_reply.started": "2022-04-11T12:12:09.426699Z"
    },
    "papermill": {
     "duration": 0.172473,
     "end_time": "2022-04-11T12:19:46.256150",
     "exception": false,
     "start_time": "2022-04-11T12:19:46.083677",
     "status": "completed"
    },
    "tags": []
   },
   "outputs": [],
   "source": [
    "test_pred=lgb_pipe.predict(test) "
   ]
  },
  {
   "cell_type": "code",
   "execution_count": 61,
   "id": "e5fcb526",
   "metadata": {
    "execution": {
     "iopub.execute_input": "2022-04-11T12:19:46.493302Z",
     "iopub.status.busy": "2022-04-11T12:19:46.492569Z",
     "iopub.status.idle": "2022-04-11T12:19:46.495169Z",
     "shell.execute_reply": "2022-04-11T12:19:46.495760Z",
     "shell.execute_reply.started": "2022-04-11T12:12:09.449727Z"
    },
    "papermill": {
     "duration": 0.123272,
     "end_time": "2022-04-11T12:19:46.495937",
     "exception": false,
     "start_time": "2022-04-11T12:19:46.372665",
     "status": "completed"
    },
    "tags": []
   },
   "outputs": [
    {
     "data": {
      "text/plain": [
       "(4277,)"
      ]
     },
     "execution_count": 61,
     "metadata": {},
     "output_type": "execute_result"
    }
   ],
   "source": [
    "test_pred.shape"
   ]
  },
  {
   "cell_type": "markdown",
   "id": "127c51af",
   "metadata": {
    "papermill": {
     "duration": 0.118465,
     "end_time": "2022-04-11T12:19:46.730948",
     "exception": false,
     "start_time": "2022-04-11T12:19:46.612483",
     "status": "completed"
    },
    "tags": []
   },
   "source": [
    "\n",
    "# submission"
   ]
  },
  {
   "cell_type": "code",
   "execution_count": 62,
   "id": "b7c81824",
   "metadata": {
    "execution": {
     "iopub.execute_input": "2022-04-11T12:19:46.967674Z",
     "iopub.status.busy": "2022-04-11T12:19:46.966941Z",
     "iopub.status.idle": "2022-04-11T12:19:46.980536Z",
     "shell.execute_reply": "2022-04-11T12:19:46.981045Z",
     "shell.execute_reply.started": "2022-04-11T12:12:09.458613Z"
    },
    "papermill": {
     "duration": 0.133701,
     "end_time": "2022-04-11T12:19:46.981241",
     "exception": false,
     "start_time": "2022-04-11T12:19:46.847540",
     "status": "completed"
    },
    "tags": []
   },
   "outputs": [
    {
     "data": {
      "text/html": [
       "<div>\n",
       "<style scoped>\n",
       "    .dataframe tbody tr th:only-of-type {\n",
       "        vertical-align: middle;\n",
       "    }\n",
       "\n",
       "    .dataframe tbody tr th {\n",
       "        vertical-align: top;\n",
       "    }\n",
       "\n",
       "    .dataframe thead th {\n",
       "        text-align: right;\n",
       "    }\n",
       "</style>\n",
       "<table border=\"1\" class=\"dataframe\">\n",
       "  <thead>\n",
       "    <tr style=\"text-align: right;\">\n",
       "      <th></th>\n",
       "      <th>PassengerId</th>\n",
       "      <th>Transported</th>\n",
       "    </tr>\n",
       "  </thead>\n",
       "  <tbody>\n",
       "    <tr>\n",
       "      <th>0</th>\n",
       "      <td>0013_01</td>\n",
       "      <td>0</td>\n",
       "    </tr>\n",
       "    <tr>\n",
       "      <th>1</th>\n",
       "      <td>0018_01</td>\n",
       "      <td>0</td>\n",
       "    </tr>\n",
       "    <tr>\n",
       "      <th>2</th>\n",
       "      <td>0019_01</td>\n",
       "      <td>1</td>\n",
       "    </tr>\n",
       "    <tr>\n",
       "      <th>3</th>\n",
       "      <td>0021_01</td>\n",
       "      <td>1</td>\n",
       "    </tr>\n",
       "    <tr>\n",
       "      <th>4</th>\n",
       "      <td>0023_01</td>\n",
       "      <td>1</td>\n",
       "    </tr>\n",
       "    <tr>\n",
       "      <th>...</th>\n",
       "      <td>...</td>\n",
       "      <td>...</td>\n",
       "    </tr>\n",
       "    <tr>\n",
       "      <th>4272</th>\n",
       "      <td>9266_02</td>\n",
       "      <td>1</td>\n",
       "    </tr>\n",
       "    <tr>\n",
       "      <th>4273</th>\n",
       "      <td>9269_01</td>\n",
       "      <td>0</td>\n",
       "    </tr>\n",
       "    <tr>\n",
       "      <th>4274</th>\n",
       "      <td>9271_01</td>\n",
       "      <td>1</td>\n",
       "    </tr>\n",
       "    <tr>\n",
       "      <th>4275</th>\n",
       "      <td>9273_01</td>\n",
       "      <td>1</td>\n",
       "    </tr>\n",
       "    <tr>\n",
       "      <th>4276</th>\n",
       "      <td>9277_01</td>\n",
       "      <td>1</td>\n",
       "    </tr>\n",
       "  </tbody>\n",
       "</table>\n",
       "<p>4277 rows × 2 columns</p>\n",
       "</div>"
      ],
      "text/plain": [
       "     PassengerId  Transported\n",
       "0        0013_01            0\n",
       "1        0018_01            0\n",
       "2        0019_01            1\n",
       "3        0021_01            1\n",
       "4        0023_01            1\n",
       "...          ...          ...\n",
       "4272     9266_02            1\n",
       "4273     9269_01            0\n",
       "4274     9271_01            1\n",
       "4275     9273_01            1\n",
       "4276     9277_01            1\n",
       "\n",
       "[4277 rows x 2 columns]"
      ]
     },
     "execution_count": 62,
     "metadata": {},
     "output_type": "execute_result"
    }
   ],
   "source": [
    "# We will make a new  dataframe with passengerid and our predictions to submit\n",
    "submission=pd.DataFrame({'PassengerId':test_data.PassengerId, 'Transported':test_pred})\n",
    "submission"
   ]
  },
  {
   "cell_type": "markdown",
   "id": "e09bf027",
   "metadata": {
    "papermill": {
     "duration": 0.118107,
     "end_time": "2022-04-11T12:19:47.215741",
     "exception": false,
     "start_time": "2022-04-11T12:19:47.097634",
     "status": "completed"
    },
    "tags": []
   },
   "source": [
    "- Since It was False and True in our target variable we will replace 0 with False and 1 with True"
   ]
  },
  {
   "cell_type": "code",
   "execution_count": 63,
   "id": "74ff54a2",
   "metadata": {
    "execution": {
     "iopub.execute_input": "2022-04-11T12:19:47.458309Z",
     "iopub.status.busy": "2022-04-11T12:19:47.457619Z",
     "iopub.status.idle": "2022-04-11T12:19:47.461559Z",
     "shell.execute_reply": "2022-04-11T12:19:47.462094Z",
     "shell.execute_reply.started": "2022-04-11T12:12:09.477948Z"
    },
    "papermill": {
     "duration": 0.127859,
     "end_time": "2022-04-11T12:19:47.462262",
     "exception": false,
     "start_time": "2022-04-11T12:19:47.334403",
     "status": "completed"
    },
    "tags": []
   },
   "outputs": [],
   "source": [
    "submission.Transported=submission.Transported.replace({0:'False', 1:'True'})"
   ]
  },
  {
   "cell_type": "code",
   "execution_count": 64,
   "id": "4082d414",
   "metadata": {
    "execution": {
     "iopub.execute_input": "2022-04-11T12:19:47.700784Z",
     "iopub.status.busy": "2022-04-11T12:19:47.700097Z",
     "iopub.status.idle": "2022-04-11T12:19:47.711919Z",
     "shell.execute_reply": "2022-04-11T12:19:47.712514Z",
     "shell.execute_reply.started": "2022-04-11T12:12:09.490406Z"
    },
    "papermill": {
     "duration": 0.135105,
     "end_time": "2022-04-11T12:19:47.712721",
     "exception": false,
     "start_time": "2022-04-11T12:19:47.577616",
     "status": "completed"
    },
    "tags": []
   },
   "outputs": [
    {
     "data": {
      "text/html": [
       "<div>\n",
       "<style scoped>\n",
       "    .dataframe tbody tr th:only-of-type {\n",
       "        vertical-align: middle;\n",
       "    }\n",
       "\n",
       "    .dataframe tbody tr th {\n",
       "        vertical-align: top;\n",
       "    }\n",
       "\n",
       "    .dataframe thead th {\n",
       "        text-align: right;\n",
       "    }\n",
       "</style>\n",
       "<table border=\"1\" class=\"dataframe\">\n",
       "  <thead>\n",
       "    <tr style=\"text-align: right;\">\n",
       "      <th></th>\n",
       "      <th>PassengerId</th>\n",
       "      <th>Transported</th>\n",
       "    </tr>\n",
       "  </thead>\n",
       "  <tbody>\n",
       "    <tr>\n",
       "      <th>0</th>\n",
       "      <td>0013_01</td>\n",
       "      <td>False</td>\n",
       "    </tr>\n",
       "    <tr>\n",
       "      <th>1</th>\n",
       "      <td>0018_01</td>\n",
       "      <td>False</td>\n",
       "    </tr>\n",
       "    <tr>\n",
       "      <th>2</th>\n",
       "      <td>0019_01</td>\n",
       "      <td>True</td>\n",
       "    </tr>\n",
       "    <tr>\n",
       "      <th>3</th>\n",
       "      <td>0021_01</td>\n",
       "      <td>True</td>\n",
       "    </tr>\n",
       "    <tr>\n",
       "      <th>4</th>\n",
       "      <td>0023_01</td>\n",
       "      <td>True</td>\n",
       "    </tr>\n",
       "    <tr>\n",
       "      <th>...</th>\n",
       "      <td>...</td>\n",
       "      <td>...</td>\n",
       "    </tr>\n",
       "    <tr>\n",
       "      <th>4272</th>\n",
       "      <td>9266_02</td>\n",
       "      <td>True</td>\n",
       "    </tr>\n",
       "    <tr>\n",
       "      <th>4273</th>\n",
       "      <td>9269_01</td>\n",
       "      <td>False</td>\n",
       "    </tr>\n",
       "    <tr>\n",
       "      <th>4274</th>\n",
       "      <td>9271_01</td>\n",
       "      <td>True</td>\n",
       "    </tr>\n",
       "    <tr>\n",
       "      <th>4275</th>\n",
       "      <td>9273_01</td>\n",
       "      <td>True</td>\n",
       "    </tr>\n",
       "    <tr>\n",
       "      <th>4276</th>\n",
       "      <td>9277_01</td>\n",
       "      <td>True</td>\n",
       "    </tr>\n",
       "  </tbody>\n",
       "</table>\n",
       "<p>4277 rows × 2 columns</p>\n",
       "</div>"
      ],
      "text/plain": [
       "     PassengerId Transported\n",
       "0        0013_01       False\n",
       "1        0018_01       False\n",
       "2        0019_01        True\n",
       "3        0021_01        True\n",
       "4        0023_01        True\n",
       "...          ...         ...\n",
       "4272     9266_02        True\n",
       "4273     9269_01       False\n",
       "4274     9271_01        True\n",
       "4275     9273_01        True\n",
       "4276     9277_01        True\n",
       "\n",
       "[4277 rows x 2 columns]"
      ]
     },
     "execution_count": 64,
     "metadata": {},
     "output_type": "execute_result"
    }
   ],
   "source": [
    "# This is what our final prediction dataframe looks like\n",
    "submission"
   ]
  },
  {
   "cell_type": "code",
   "execution_count": 65,
   "id": "8618243b",
   "metadata": {
    "execution": {
     "iopub.execute_input": "2022-04-11T12:19:47.951300Z",
     "iopub.status.busy": "2022-04-11T12:19:47.950678Z",
     "iopub.status.idle": "2022-04-11T12:19:47.966912Z",
     "shell.execute_reply": "2022-04-11T12:19:47.967450Z",
     "shell.execute_reply.started": "2022-04-11T12:12:09.508022Z"
    },
    "papermill": {
     "duration": 0.138923,
     "end_time": "2022-04-11T12:19:47.967650",
     "exception": false,
     "start_time": "2022-04-11T12:19:47.828727",
     "status": "completed"
    },
    "tags": []
   },
   "outputs": [],
   "source": [
    "# converting it into csv file fore submission\n",
    "submission.to_csv('submission.csv',index=False)"
   ]
  },
  {
   "cell_type": "code",
   "execution_count": null,
   "id": "1e09afe8",
   "metadata": {
    "papermill": {
     "duration": 0.116442,
     "end_time": "2022-04-11T12:19:48.200930",
     "exception": false,
     "start_time": "2022-04-11T12:19:48.084488",
     "status": "completed"
    },
    "tags": []
   },
   "outputs": [],
   "source": []
  },
  {
   "cell_type": "code",
   "execution_count": null,
   "id": "24e92023",
   "metadata": {
    "papermill": {
     "duration": 0.115955,
     "end_time": "2022-04-11T12:19:48.433444",
     "exception": false,
     "start_time": "2022-04-11T12:19:48.317489",
     "status": "completed"
    },
    "tags": []
   },
   "outputs": [],
   "source": []
  }
 ],
 "metadata": {
  "kernelspec": {
   "display_name": "Python 3",
   "language": "python",
   "name": "python3"
  },
  "language_info": {
   "codemirror_mode": {
    "name": "ipython",
    "version": 3
   },
   "file_extension": ".py",
   "mimetype": "text/x-python",
   "name": "python",
   "nbconvert_exporter": "python",
   "pygments_lexer": "ipython3",
   "version": "3.7.12"
  },
  "papermill": {
   "default_parameters": {},
   "duration": 39.748137,
   "end_time": "2022-04-11T12:19:49.464459",
   "environment_variables": {},
   "exception": null,
   "input_path": "__notebook__.ipynb",
   "output_path": "__notebook__.ipynb",
   "parameters": {},
   "start_time": "2022-04-11T12:19:09.716322",
   "version": "2.3.3"
  }
 },
 "nbformat": 4,
 "nbformat_minor": 5
}
